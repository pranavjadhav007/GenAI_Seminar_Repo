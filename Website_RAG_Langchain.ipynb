{
  "nbformat": 4,
  "nbformat_minor": 0,
  "metadata": {
    "colab": {
      "provenance": []
    },
    "kernelspec": {
      "name": "python3",
      "display_name": "Python 3"
    },
    "language_info": {
      "name": "python"
    }
  },
  "cells": [
    {
      "cell_type": "markdown",
      "source": [
        "# **RAG Implementation**"
      ],
      "metadata": {
        "id": "_OWplPb0ctC0"
      }
    },
    {
      "cell_type": "markdown",
      "source": [
        "# Install Required Libraries"
      ],
      "metadata": {
        "id": "5kjPQ_60W-js"
      }
    },
    {
      "cell_type": "markdown",
      "source": [
        "LangChain is a framework designed to build applications that integrate language models (like OpenAI's ChatGPT) with various external tools and data sources. It simplifies the development of intelligent systems by providing modular components for:\n",
        "\n",
        "* [Prompt Engineering](https://python.langchain.com/docs/concepts/prompt_templates/): Easily create and manage prompts to guide the language model’s responses.\n",
        "\n",
        "* Chains: Combine multiple steps (e.g., fetching data, processing it, and generating output) into workflows.\n",
        "\n",
        "* [Tools](https://python.langchain.com/docs/concepts/tools/) & Agents: Extend model capabilities using tools (e.g., search engines, APIs) and empower dynamic decision-making with agents.\n",
        "\n",
        "* Memory: Maintain state and context in conversations or across tasks.\n",
        "\n",
        "* Data Augmentation: Integrate retrieval systems (like Pinecone) for Retrieval-Augmented Generation (RAG).\n",
        "\n",
        "*Official Langchain Documentation: https://python.langchain.com/docs/introduction/*"
      ],
      "metadata": {
        "id": "4z5AsppQSBOT"
      }
    },
    {
      "cell_type": "code",
      "execution_count": 1,
      "metadata": {
        "colab": {
          "base_uri": "https://localhost:8080/"
        },
        "collapsed": true,
        "id": "unbv313DksaL",
        "outputId": "a31a4699-becd-44a7-cf7c-e05fb81025ae"
      },
      "outputs": [
        {
          "output_type": "stream",
          "name": "stdout",
          "text": [
            "Requirement already satisfied: langchain in /usr/local/lib/python3.10/dist-packages (0.3.12)\n",
            "Requirement already satisfied: PyYAML>=5.3 in /usr/local/lib/python3.10/dist-packages (from langchain) (6.0.2)\n",
            "Requirement already satisfied: SQLAlchemy<3,>=1.4 in /usr/local/lib/python3.10/dist-packages (from langchain) (2.0.36)\n",
            "Requirement already satisfied: aiohttp<4.0.0,>=3.8.3 in /usr/local/lib/python3.10/dist-packages (from langchain) (3.11.10)\n",
            "Requirement already satisfied: async-timeout<5.0.0,>=4.0.0 in /usr/local/lib/python3.10/dist-packages (from langchain) (4.0.3)\n",
            "Requirement already satisfied: langchain-core<0.4.0,>=0.3.25 in /usr/local/lib/python3.10/dist-packages (from langchain) (0.3.25)\n",
            "Requirement already satisfied: langchain-text-splitters<0.4.0,>=0.3.3 in /usr/local/lib/python3.10/dist-packages (from langchain) (0.3.3)\n",
            "Requirement already satisfied: langsmith<0.3,>=0.1.17 in /usr/local/lib/python3.10/dist-packages (from langchain) (0.2.3)\n",
            "Requirement already satisfied: numpy<2,>=1.22.4 in /usr/local/lib/python3.10/dist-packages (from langchain) (1.26.4)\n",
            "Requirement already satisfied: pydantic<3.0.0,>=2.7.4 in /usr/local/lib/python3.10/dist-packages (from langchain) (2.10.3)\n",
            "Requirement already satisfied: requests<3,>=2 in /usr/local/lib/python3.10/dist-packages (from langchain) (2.32.3)\n",
            "Requirement already satisfied: tenacity!=8.4.0,<10,>=8.1.0 in /usr/local/lib/python3.10/dist-packages (from langchain) (9.0.0)\n",
            "Requirement already satisfied: aiohappyeyeballs>=2.3.0 in /usr/local/lib/python3.10/dist-packages (from aiohttp<4.0.0,>=3.8.3->langchain) (2.4.4)\n",
            "Requirement already satisfied: aiosignal>=1.1.2 in /usr/local/lib/python3.10/dist-packages (from aiohttp<4.0.0,>=3.8.3->langchain) (1.3.2)\n",
            "Requirement already satisfied: attrs>=17.3.0 in /usr/local/lib/python3.10/dist-packages (from aiohttp<4.0.0,>=3.8.3->langchain) (24.3.0)\n",
            "Requirement already satisfied: frozenlist>=1.1.1 in /usr/local/lib/python3.10/dist-packages (from aiohttp<4.0.0,>=3.8.3->langchain) (1.5.0)\n",
            "Requirement already satisfied: multidict<7.0,>=4.5 in /usr/local/lib/python3.10/dist-packages (from aiohttp<4.0.0,>=3.8.3->langchain) (6.1.0)\n",
            "Requirement already satisfied: propcache>=0.2.0 in /usr/local/lib/python3.10/dist-packages (from aiohttp<4.0.0,>=3.8.3->langchain) (0.2.1)\n",
            "Requirement already satisfied: yarl<2.0,>=1.17.0 in /usr/local/lib/python3.10/dist-packages (from aiohttp<4.0.0,>=3.8.3->langchain) (1.18.3)\n",
            "Requirement already satisfied: jsonpatch<2.0,>=1.33 in /usr/local/lib/python3.10/dist-packages (from langchain-core<0.4.0,>=0.3.25->langchain) (1.33)\n",
            "Requirement already satisfied: packaging<25,>=23.2 in /usr/local/lib/python3.10/dist-packages (from langchain-core<0.4.0,>=0.3.25->langchain) (24.2)\n",
            "Requirement already satisfied: typing-extensions>=4.7 in /usr/local/lib/python3.10/dist-packages (from langchain-core<0.4.0,>=0.3.25->langchain) (4.12.2)\n",
            "Requirement already satisfied: httpx<1,>=0.23.0 in /usr/local/lib/python3.10/dist-packages (from langsmith<0.3,>=0.1.17->langchain) (0.28.1)\n",
            "Requirement already satisfied: orjson<4.0.0,>=3.9.14 in /usr/local/lib/python3.10/dist-packages (from langsmith<0.3,>=0.1.17->langchain) (3.10.12)\n",
            "Requirement already satisfied: requests-toolbelt<2.0.0,>=1.0.0 in /usr/local/lib/python3.10/dist-packages (from langsmith<0.3,>=0.1.17->langchain) (1.0.0)\n",
            "Requirement already satisfied: annotated-types>=0.6.0 in /usr/local/lib/python3.10/dist-packages (from pydantic<3.0.0,>=2.7.4->langchain) (0.7.0)\n",
            "Requirement already satisfied: pydantic-core==2.27.1 in /usr/local/lib/python3.10/dist-packages (from pydantic<3.0.0,>=2.7.4->langchain) (2.27.1)\n",
            "Requirement already satisfied: charset-normalizer<4,>=2 in /usr/local/lib/python3.10/dist-packages (from requests<3,>=2->langchain) (3.4.0)\n",
            "Requirement already satisfied: idna<4,>=2.5 in /usr/local/lib/python3.10/dist-packages (from requests<3,>=2->langchain) (3.10)\n",
            "Requirement already satisfied: urllib3<3,>=1.21.1 in /usr/local/lib/python3.10/dist-packages (from requests<3,>=2->langchain) (2.2.3)\n",
            "Requirement already satisfied: certifi>=2017.4.17 in /usr/local/lib/python3.10/dist-packages (from requests<3,>=2->langchain) (2024.12.14)\n",
            "Requirement already satisfied: greenlet!=0.4.17 in /usr/local/lib/python3.10/dist-packages (from SQLAlchemy<3,>=1.4->langchain) (3.1.1)\n",
            "Requirement already satisfied: anyio in /usr/local/lib/python3.10/dist-packages (from httpx<1,>=0.23.0->langsmith<0.3,>=0.1.17->langchain) (3.7.1)\n",
            "Requirement already satisfied: httpcore==1.* in /usr/local/lib/python3.10/dist-packages (from httpx<1,>=0.23.0->langsmith<0.3,>=0.1.17->langchain) (1.0.7)\n",
            "Requirement already satisfied: h11<0.15,>=0.13 in /usr/local/lib/python3.10/dist-packages (from httpcore==1.*->httpx<1,>=0.23.0->langsmith<0.3,>=0.1.17->langchain) (0.14.0)\n",
            "Requirement already satisfied: jsonpointer>=1.9 in /usr/local/lib/python3.10/dist-packages (from jsonpatch<2.0,>=1.33->langchain-core<0.4.0,>=0.3.25->langchain) (3.0.0)\n",
            "Requirement already satisfied: sniffio>=1.1 in /usr/local/lib/python3.10/dist-packages (from anyio->httpx<1,>=0.23.0->langsmith<0.3,>=0.1.17->langchain) (1.3.1)\n",
            "Requirement already satisfied: exceptiongroup in /usr/local/lib/python3.10/dist-packages (from anyio->httpx<1,>=0.23.0->langsmith<0.3,>=0.1.17->langchain) (1.2.2)\n"
          ]
        }
      ],
      "source": [
        "pip install langchain"
      ]
    },
    {
      "cell_type": "code",
      "source": [
        "pip install langchain-community"
      ],
      "metadata": {
        "colab": {
          "base_uri": "https://localhost:8080/"
        },
        "collapsed": true,
        "id": "QmPbet5Tk--E",
        "outputId": "fdda3cd1-afc8-4ce6-b50f-86fee938498e"
      },
      "execution_count": 2,
      "outputs": [
        {
          "output_type": "stream",
          "name": "stdout",
          "text": [
            "Collecting langchain-community\n",
            "  Downloading langchain_community-0.3.13-py3-none-any.whl.metadata (2.9 kB)\n",
            "Requirement already satisfied: PyYAML>=5.3 in /usr/local/lib/python3.10/dist-packages (from langchain-community) (6.0.2)\n",
            "Requirement already satisfied: SQLAlchemy<3,>=1.4 in /usr/local/lib/python3.10/dist-packages (from langchain-community) (2.0.36)\n",
            "Requirement already satisfied: aiohttp<4.0.0,>=3.8.3 in /usr/local/lib/python3.10/dist-packages (from langchain-community) (3.11.10)\n",
            "Collecting dataclasses-json<0.7,>=0.5.7 (from langchain-community)\n",
            "  Downloading dataclasses_json-0.6.7-py3-none-any.whl.metadata (25 kB)\n",
            "Collecting httpx-sse<0.5.0,>=0.4.0 (from langchain-community)\n",
            "  Downloading httpx_sse-0.4.0-py3-none-any.whl.metadata (9.0 kB)\n",
            "Collecting langchain<0.4.0,>=0.3.13 (from langchain-community)\n",
            "  Downloading langchain-0.3.13-py3-none-any.whl.metadata (7.1 kB)\n",
            "Collecting langchain-core<0.4.0,>=0.3.27 (from langchain-community)\n",
            "  Downloading langchain_core-0.3.28-py3-none-any.whl.metadata (6.3 kB)\n",
            "Requirement already satisfied: langsmith<0.3,>=0.1.125 in /usr/local/lib/python3.10/dist-packages (from langchain-community) (0.2.3)\n",
            "Requirement already satisfied: numpy<2,>=1.22.4 in /usr/local/lib/python3.10/dist-packages (from langchain-community) (1.26.4)\n",
            "Collecting pydantic-settings<3.0.0,>=2.4.0 (from langchain-community)\n",
            "  Downloading pydantic_settings-2.7.0-py3-none-any.whl.metadata (3.5 kB)\n",
            "Requirement already satisfied: requests<3,>=2 in /usr/local/lib/python3.10/dist-packages (from langchain-community) (2.32.3)\n",
            "Requirement already satisfied: tenacity!=8.4.0,<10,>=8.1.0 in /usr/local/lib/python3.10/dist-packages (from langchain-community) (9.0.0)\n",
            "Requirement already satisfied: aiohappyeyeballs>=2.3.0 in /usr/local/lib/python3.10/dist-packages (from aiohttp<4.0.0,>=3.8.3->langchain-community) (2.4.4)\n",
            "Requirement already satisfied: aiosignal>=1.1.2 in /usr/local/lib/python3.10/dist-packages (from aiohttp<4.0.0,>=3.8.3->langchain-community) (1.3.2)\n",
            "Requirement already satisfied: async-timeout<6.0,>=4.0 in /usr/local/lib/python3.10/dist-packages (from aiohttp<4.0.0,>=3.8.3->langchain-community) (4.0.3)\n",
            "Requirement already satisfied: attrs>=17.3.0 in /usr/local/lib/python3.10/dist-packages (from aiohttp<4.0.0,>=3.8.3->langchain-community) (24.3.0)\n",
            "Requirement already satisfied: frozenlist>=1.1.1 in /usr/local/lib/python3.10/dist-packages (from aiohttp<4.0.0,>=3.8.3->langchain-community) (1.5.0)\n",
            "Requirement already satisfied: multidict<7.0,>=4.5 in /usr/local/lib/python3.10/dist-packages (from aiohttp<4.0.0,>=3.8.3->langchain-community) (6.1.0)\n",
            "Requirement already satisfied: propcache>=0.2.0 in /usr/local/lib/python3.10/dist-packages (from aiohttp<4.0.0,>=3.8.3->langchain-community) (0.2.1)\n",
            "Requirement already satisfied: yarl<2.0,>=1.17.0 in /usr/local/lib/python3.10/dist-packages (from aiohttp<4.0.0,>=3.8.3->langchain-community) (1.18.3)\n",
            "Collecting marshmallow<4.0.0,>=3.18.0 (from dataclasses-json<0.7,>=0.5.7->langchain-community)\n",
            "  Downloading marshmallow-3.23.2-py3-none-any.whl.metadata (7.1 kB)\n",
            "Collecting typing-inspect<1,>=0.4.0 (from dataclasses-json<0.7,>=0.5.7->langchain-community)\n",
            "  Downloading typing_inspect-0.9.0-py3-none-any.whl.metadata (1.5 kB)\n",
            "Requirement already satisfied: langchain-text-splitters<0.4.0,>=0.3.3 in /usr/local/lib/python3.10/dist-packages (from langchain<0.4.0,>=0.3.13->langchain-community) (0.3.3)\n",
            "Requirement already satisfied: pydantic<3.0.0,>=2.7.4 in /usr/local/lib/python3.10/dist-packages (from langchain<0.4.0,>=0.3.13->langchain-community) (2.10.3)\n",
            "Requirement already satisfied: jsonpatch<2.0,>=1.33 in /usr/local/lib/python3.10/dist-packages (from langchain-core<0.4.0,>=0.3.27->langchain-community) (1.33)\n",
            "Requirement already satisfied: packaging<25,>=23.2 in /usr/local/lib/python3.10/dist-packages (from langchain-core<0.4.0,>=0.3.27->langchain-community) (24.2)\n",
            "Requirement already satisfied: typing-extensions>=4.7 in /usr/local/lib/python3.10/dist-packages (from langchain-core<0.4.0,>=0.3.27->langchain-community) (4.12.2)\n",
            "Requirement already satisfied: httpx<1,>=0.23.0 in /usr/local/lib/python3.10/dist-packages (from langsmith<0.3,>=0.1.125->langchain-community) (0.28.1)\n",
            "Requirement already satisfied: orjson<4.0.0,>=3.9.14 in /usr/local/lib/python3.10/dist-packages (from langsmith<0.3,>=0.1.125->langchain-community) (3.10.12)\n",
            "Requirement already satisfied: requests-toolbelt<2.0.0,>=1.0.0 in /usr/local/lib/python3.10/dist-packages (from langsmith<0.3,>=0.1.125->langchain-community) (1.0.0)\n",
            "Collecting python-dotenv>=0.21.0 (from pydantic-settings<3.0.0,>=2.4.0->langchain-community)\n",
            "  Downloading python_dotenv-1.0.1-py3-none-any.whl.metadata (23 kB)\n",
            "Requirement already satisfied: charset-normalizer<4,>=2 in /usr/local/lib/python3.10/dist-packages (from requests<3,>=2->langchain-community) (3.4.0)\n",
            "Requirement already satisfied: idna<4,>=2.5 in /usr/local/lib/python3.10/dist-packages (from requests<3,>=2->langchain-community) (3.10)\n",
            "Requirement already satisfied: urllib3<3,>=1.21.1 in /usr/local/lib/python3.10/dist-packages (from requests<3,>=2->langchain-community) (2.2.3)\n",
            "Requirement already satisfied: certifi>=2017.4.17 in /usr/local/lib/python3.10/dist-packages (from requests<3,>=2->langchain-community) (2024.12.14)\n",
            "Requirement already satisfied: greenlet!=0.4.17 in /usr/local/lib/python3.10/dist-packages (from SQLAlchemy<3,>=1.4->langchain-community) (3.1.1)\n",
            "Requirement already satisfied: anyio in /usr/local/lib/python3.10/dist-packages (from httpx<1,>=0.23.0->langsmith<0.3,>=0.1.125->langchain-community) (3.7.1)\n",
            "Requirement already satisfied: httpcore==1.* in /usr/local/lib/python3.10/dist-packages (from httpx<1,>=0.23.0->langsmith<0.3,>=0.1.125->langchain-community) (1.0.7)\n",
            "Requirement already satisfied: h11<0.15,>=0.13 in /usr/local/lib/python3.10/dist-packages (from httpcore==1.*->httpx<1,>=0.23.0->langsmith<0.3,>=0.1.125->langchain-community) (0.14.0)\n",
            "Requirement already satisfied: jsonpointer>=1.9 in /usr/local/lib/python3.10/dist-packages (from jsonpatch<2.0,>=1.33->langchain-core<0.4.0,>=0.3.27->langchain-community) (3.0.0)\n",
            "Requirement already satisfied: annotated-types>=0.6.0 in /usr/local/lib/python3.10/dist-packages (from pydantic<3.0.0,>=2.7.4->langchain<0.4.0,>=0.3.13->langchain-community) (0.7.0)\n",
            "Requirement already satisfied: pydantic-core==2.27.1 in /usr/local/lib/python3.10/dist-packages (from pydantic<3.0.0,>=2.7.4->langchain<0.4.0,>=0.3.13->langchain-community) (2.27.1)\n",
            "Collecting mypy-extensions>=0.3.0 (from typing-inspect<1,>=0.4.0->dataclasses-json<0.7,>=0.5.7->langchain-community)\n",
            "  Downloading mypy_extensions-1.0.0-py3-none-any.whl.metadata (1.1 kB)\n",
            "Requirement already satisfied: sniffio>=1.1 in /usr/local/lib/python3.10/dist-packages (from anyio->httpx<1,>=0.23.0->langsmith<0.3,>=0.1.125->langchain-community) (1.3.1)\n",
            "Requirement already satisfied: exceptiongroup in /usr/local/lib/python3.10/dist-packages (from anyio->httpx<1,>=0.23.0->langsmith<0.3,>=0.1.125->langchain-community) (1.2.2)\n",
            "Downloading langchain_community-0.3.13-py3-none-any.whl (2.5 MB)\n",
            "\u001b[2K   \u001b[90m━━━━━━━━━━━━━━━━━━━━━━━━━━━━━━━━━━━━━━━━\u001b[0m \u001b[32m2.5/2.5 MB\u001b[0m \u001b[31m24.5 MB/s\u001b[0m eta \u001b[36m0:00:00\u001b[0m\n",
            "\u001b[?25hDownloading dataclasses_json-0.6.7-py3-none-any.whl (28 kB)\n",
            "Downloading httpx_sse-0.4.0-py3-none-any.whl (7.8 kB)\n",
            "Downloading langchain-0.3.13-py3-none-any.whl (1.0 MB)\n",
            "\u001b[2K   \u001b[90m━━━━━━━━━━━━━━━━━━━━━━━━━━━━━━━━━━━━━━━━\u001b[0m \u001b[32m1.0/1.0 MB\u001b[0m \u001b[31m38.5 MB/s\u001b[0m eta \u001b[36m0:00:00\u001b[0m\n",
            "\u001b[?25hDownloading langchain_core-0.3.28-py3-none-any.whl (411 kB)\n",
            "\u001b[2K   \u001b[90m━━━━━━━━━━━━━━━━━━━━━━━━━━━━━━━━━━━━━━━━\u001b[0m \u001b[32m411.6/411.6 kB\u001b[0m \u001b[31m26.0 MB/s\u001b[0m eta \u001b[36m0:00:00\u001b[0m\n",
            "\u001b[?25hDownloading pydantic_settings-2.7.0-py3-none-any.whl (29 kB)\n",
            "Downloading marshmallow-3.23.2-py3-none-any.whl (49 kB)\n",
            "\u001b[2K   \u001b[90m━━━━━━━━━━━━━━━━━━━━━━━━━━━━━━━━━━━━━━━━\u001b[0m \u001b[32m49.3/49.3 kB\u001b[0m \u001b[31m4.3 MB/s\u001b[0m eta \u001b[36m0:00:00\u001b[0m\n",
            "\u001b[?25hDownloading python_dotenv-1.0.1-py3-none-any.whl (19 kB)\n",
            "Downloading typing_inspect-0.9.0-py3-none-any.whl (8.8 kB)\n",
            "Downloading mypy_extensions-1.0.0-py3-none-any.whl (4.7 kB)\n",
            "Installing collected packages: python-dotenv, mypy-extensions, marshmallow, httpx-sse, typing-inspect, pydantic-settings, dataclasses-json, langchain-core, langchain, langchain-community\n",
            "  Attempting uninstall: langchain-core\n",
            "    Found existing installation: langchain-core 0.3.25\n",
            "    Uninstalling langchain-core-0.3.25:\n",
            "      Successfully uninstalled langchain-core-0.3.25\n",
            "  Attempting uninstall: langchain\n",
            "    Found existing installation: langchain 0.3.12\n",
            "    Uninstalling langchain-0.3.12:\n",
            "      Successfully uninstalled langchain-0.3.12\n",
            "Successfully installed dataclasses-json-0.6.7 httpx-sse-0.4.0 langchain-0.3.13 langchain-community-0.3.13 langchain-core-0.3.28 marshmallow-3.23.2 mypy-extensions-1.0.0 pydantic-settings-2.7.0 python-dotenv-1.0.1 typing-inspect-0.9.0\n"
          ]
        }
      ]
    },
    {
      "cell_type": "markdown",
      "source": [
        "Groq builds super-fast processors designed specifically for artificial intelligence (AI) and machine learning tasks. Their technology focuses on delivering high performance for AI applications, such as natural language processing, computer vision, and large-scale data analysis.\n",
        "\n",
        "In simple terms, Groq's processors are like turbocharged engines for computers, helping them perform complex AI calculations faster and more efficiently than regular processors. This makes them great for tasks like training AI models, running real-time AI applications, or analyzing massive datasets quickly.\n",
        "\n",
        "*Groq Weebsite: https://console.groq.com/login*"
      ],
      "metadata": {
        "id": "SseLgl6gT3Uq"
      }
    },
    {
      "cell_type": "code",
      "source": [
        "pip install -qU langchain-groq"
      ],
      "metadata": {
        "colab": {
          "base_uri": "https://localhost:8080/"
        },
        "id": "SAGdUQV0lC6E",
        "outputId": "079be141-84ed-48bf-c3ee-07fad88ed4d0"
      },
      "execution_count": 3,
      "outputs": [
        {
          "output_type": "stream",
          "name": "stdout",
          "text": [
            "\u001b[?25l   \u001b[90m━━━━━━━━━━━━━━━━━━━━━━━━━━━━━━━━━━━━━━━━\u001b[0m \u001b[32m0.0/109.1 kB\u001b[0m \u001b[31m?\u001b[0m eta \u001b[36m-:--:--\u001b[0m\r\u001b[2K   \u001b[90m━━━━━━━━━━━━━━━━━━━━━━━━━━━━━━━━━━━━━━━━\u001b[0m \u001b[32m109.1/109.1 kB\u001b[0m \u001b[31m3.0 MB/s\u001b[0m eta \u001b[36m0:00:00\u001b[0m\n",
            "\u001b[?25h"
          ]
        }
      ]
    },
    {
      "cell_type": "code",
      "source": [
        "%pip install unstructured"
      ],
      "metadata": {
        "colab": {
          "base_uri": "https://localhost:8080/"
        },
        "collapsed": true,
        "id": "kZJWehHblvXY",
        "outputId": "a2d067af-a43f-466f-afe9-582823a7a568"
      },
      "execution_count": 6,
      "outputs": [
        {
          "output_type": "stream",
          "name": "stdout",
          "text": [
            "Collecting unstructured\n",
            "  Downloading unstructured-0.16.11-py3-none-any.whl.metadata (24 kB)\n",
            "Requirement already satisfied: chardet in /usr/local/lib/python3.10/dist-packages (from unstructured) (5.2.0)\n",
            "Collecting filetype (from unstructured)\n",
            "  Downloading filetype-1.2.0-py2.py3-none-any.whl.metadata (6.5 kB)\n",
            "Collecting python-magic (from unstructured)\n",
            "  Downloading python_magic-0.4.27-py2.py3-none-any.whl.metadata (5.8 kB)\n",
            "Requirement already satisfied: lxml in /usr/local/lib/python3.10/dist-packages (from unstructured) (5.3.0)\n",
            "Requirement already satisfied: nltk in /usr/local/lib/python3.10/dist-packages (from unstructured) (3.9.1)\n",
            "Requirement already satisfied: requests in /usr/local/lib/python3.10/dist-packages (from unstructured) (2.32.3)\n",
            "Requirement already satisfied: beautifulsoup4 in /usr/local/lib/python3.10/dist-packages (from unstructured) (4.12.3)\n",
            "Collecting emoji (from unstructured)\n",
            "  Downloading emoji-2.14.0-py3-none-any.whl.metadata (5.7 kB)\n",
            "Requirement already satisfied: dataclasses-json in /usr/local/lib/python3.10/dist-packages (from unstructured) (0.6.7)\n",
            "Collecting python-iso639 (from unstructured)\n",
            "  Downloading python_iso639-2024.10.22-py3-none-any.whl.metadata (13 kB)\n",
            "Collecting langdetect (from unstructured)\n",
            "  Downloading langdetect-1.0.9.tar.gz (981 kB)\n",
            "\u001b[2K     \u001b[90m━━━━━━━━━━━━━━━━━━━━━━━━━━━━━━━━━━━━━━━━\u001b[0m \u001b[32m981.5/981.5 kB\u001b[0m \u001b[31m14.6 MB/s\u001b[0m eta \u001b[36m0:00:00\u001b[0m\n",
            "\u001b[?25h  Preparing metadata (setup.py) ... \u001b[?25l\u001b[?25hdone\n",
            "Requirement already satisfied: numpy<2 in /usr/local/lib/python3.10/dist-packages (from unstructured) (1.26.4)\n",
            "Collecting rapidfuzz (from unstructured)\n",
            "  Downloading rapidfuzz-3.11.0-cp310-cp310-manylinux_2_17_x86_64.manylinux2014_x86_64.whl.metadata (11 kB)\n",
            "Collecting backoff (from unstructured)\n",
            "  Downloading backoff-2.2.1-py3-none-any.whl.metadata (14 kB)\n",
            "Requirement already satisfied: typing-extensions in /usr/local/lib/python3.10/dist-packages (from unstructured) (4.12.2)\n",
            "Collecting unstructured-client (from unstructured)\n",
            "  Downloading unstructured_client-0.28.1-py3-none-any.whl.metadata (20 kB)\n",
            "Requirement already satisfied: wrapt in /usr/local/lib/python3.10/dist-packages (from unstructured) (1.17.0)\n",
            "Requirement already satisfied: tqdm in /usr/local/lib/python3.10/dist-packages (from unstructured) (4.67.1)\n",
            "Requirement already satisfied: psutil in /usr/local/lib/python3.10/dist-packages (from unstructured) (5.9.5)\n",
            "Collecting python-oxmsg (from unstructured)\n",
            "  Downloading python_oxmsg-0.0.1-py3-none-any.whl.metadata (5.0 kB)\n",
            "Requirement already satisfied: html5lib in /usr/local/lib/python3.10/dist-packages (from unstructured) (1.1)\n",
            "Requirement already satisfied: soupsieve>1.2 in /usr/local/lib/python3.10/dist-packages (from beautifulsoup4->unstructured) (2.6)\n",
            "Requirement already satisfied: marshmallow<4.0.0,>=3.18.0 in /usr/local/lib/python3.10/dist-packages (from dataclasses-json->unstructured) (3.23.2)\n",
            "Requirement already satisfied: typing-inspect<1,>=0.4.0 in /usr/local/lib/python3.10/dist-packages (from dataclasses-json->unstructured) (0.9.0)\n",
            "Requirement already satisfied: six>=1.9 in /usr/local/lib/python3.10/dist-packages (from html5lib->unstructured) (1.17.0)\n",
            "Requirement already satisfied: webencodings in /usr/local/lib/python3.10/dist-packages (from html5lib->unstructured) (0.5.1)\n",
            "Requirement already satisfied: click in /usr/local/lib/python3.10/dist-packages (from nltk->unstructured) (8.1.7)\n",
            "Requirement already satisfied: joblib in /usr/local/lib/python3.10/dist-packages (from nltk->unstructured) (1.4.2)\n",
            "Requirement already satisfied: regex>=2021.8.3 in /usr/local/lib/python3.10/dist-packages (from nltk->unstructured) (2024.11.6)\n",
            "Collecting olefile (from python-oxmsg->unstructured)\n",
            "  Downloading olefile-0.47-py2.py3-none-any.whl.metadata (9.7 kB)\n",
            "Requirement already satisfied: charset-normalizer<4,>=2 in /usr/local/lib/python3.10/dist-packages (from requests->unstructured) (3.4.0)\n",
            "Requirement already satisfied: idna<4,>=2.5 in /usr/local/lib/python3.10/dist-packages (from requests->unstructured) (3.10)\n",
            "Requirement already satisfied: urllib3<3,>=1.21.1 in /usr/local/lib/python3.10/dist-packages (from requests->unstructured) (2.2.3)\n",
            "Requirement already satisfied: certifi>=2017.4.17 in /usr/local/lib/python3.10/dist-packages (from requests->unstructured) (2024.12.14)\n",
            "Collecting aiofiles>=24.1.0 (from unstructured-client->unstructured)\n",
            "  Downloading aiofiles-24.1.0-py3-none-any.whl.metadata (10 kB)\n",
            "Requirement already satisfied: cryptography>=3.1 in /usr/local/lib/python3.10/dist-packages (from unstructured-client->unstructured) (43.0.3)\n",
            "Requirement already satisfied: eval-type-backport<0.3.0,>=0.2.0 in /usr/local/lib/python3.10/dist-packages (from unstructured-client->unstructured) (0.2.0)\n",
            "Requirement already satisfied: httpx>=0.27.0 in /usr/local/lib/python3.10/dist-packages (from unstructured-client->unstructured) (0.28.1)\n",
            "Collecting jsonpath-python<2.0.0,>=1.0.6 (from unstructured-client->unstructured)\n",
            "  Downloading jsonpath_python-1.0.6-py3-none-any.whl.metadata (12 kB)\n",
            "Requirement already satisfied: nest-asyncio>=1.6.0 in /usr/local/lib/python3.10/dist-packages (from unstructured-client->unstructured) (1.6.0)\n",
            "Collecting pydantic<2.10.0,>=2.9.2 (from unstructured-client->unstructured)\n",
            "  Downloading pydantic-2.9.2-py3-none-any.whl.metadata (149 kB)\n",
            "\u001b[2K     \u001b[90m━━━━━━━━━━━━━━━━━━━━━━━━━━━━━━━━━━━━━━━━\u001b[0m \u001b[32m149.4/149.4 kB\u001b[0m \u001b[31m12.0 MB/s\u001b[0m eta \u001b[36m0:00:00\u001b[0m\n",
            "\u001b[?25hCollecting pypdf>=4.0 (from unstructured-client->unstructured)\n",
            "  Downloading pypdf-5.1.0-py3-none-any.whl.metadata (7.2 kB)\n",
            "Requirement already satisfied: python-dateutil<3.0.0,>=2.8.2 in /usr/local/lib/python3.10/dist-packages (from unstructured-client->unstructured) (2.8.2)\n",
            "Requirement already satisfied: requests-toolbelt>=1.0.0 in /usr/local/lib/python3.10/dist-packages (from unstructured-client->unstructured) (1.0.0)\n",
            "Requirement already satisfied: cffi>=1.12 in /usr/local/lib/python3.10/dist-packages (from cryptography>=3.1->unstructured-client->unstructured) (1.17.1)\n",
            "Requirement already satisfied: anyio in /usr/local/lib/python3.10/dist-packages (from httpx>=0.27.0->unstructured-client->unstructured) (3.7.1)\n",
            "Requirement already satisfied: httpcore==1.* in /usr/local/lib/python3.10/dist-packages (from httpx>=0.27.0->unstructured-client->unstructured) (1.0.7)\n",
            "Requirement already satisfied: h11<0.15,>=0.13 in /usr/local/lib/python3.10/dist-packages (from httpcore==1.*->httpx>=0.27.0->unstructured-client->unstructured) (0.14.0)\n",
            "Requirement already satisfied: packaging>=17.0 in /usr/local/lib/python3.10/dist-packages (from marshmallow<4.0.0,>=3.18.0->dataclasses-json->unstructured) (24.2)\n",
            "Requirement already satisfied: annotated-types>=0.6.0 in /usr/local/lib/python3.10/dist-packages (from pydantic<2.10.0,>=2.9.2->unstructured-client->unstructured) (0.7.0)\n",
            "Collecting pydantic-core==2.23.4 (from pydantic<2.10.0,>=2.9.2->unstructured-client->unstructured)\n",
            "  Downloading pydantic_core-2.23.4-cp310-cp310-manylinux_2_17_x86_64.manylinux2014_x86_64.whl.metadata (6.6 kB)\n",
            "Requirement already satisfied: mypy-extensions>=0.3.0 in /usr/local/lib/python3.10/dist-packages (from typing-inspect<1,>=0.4.0->dataclasses-json->unstructured) (1.0.0)\n",
            "Requirement already satisfied: pycparser in /usr/local/lib/python3.10/dist-packages (from cffi>=1.12->cryptography>=3.1->unstructured-client->unstructured) (2.22)\n",
            "Requirement already satisfied: sniffio>=1.1 in /usr/local/lib/python3.10/dist-packages (from anyio->httpx>=0.27.0->unstructured-client->unstructured) (1.3.1)\n",
            "Requirement already satisfied: exceptiongroup in /usr/local/lib/python3.10/dist-packages (from anyio->httpx>=0.27.0->unstructured-client->unstructured) (1.2.2)\n",
            "Downloading unstructured-0.16.11-py3-none-any.whl (1.7 MB)\n",
            "\u001b[2K   \u001b[90m━━━━━━━━━━━━━━━━━━━━━━━━━━━━━━━━━━━━━━━━\u001b[0m \u001b[32m1.7/1.7 MB\u001b[0m \u001b[31m29.3 MB/s\u001b[0m eta \u001b[36m0:00:00\u001b[0m\n",
            "\u001b[?25hDownloading backoff-2.2.1-py3-none-any.whl (15 kB)\n",
            "Downloading emoji-2.14.0-py3-none-any.whl (586 kB)\n",
            "\u001b[2K   \u001b[90m━━━━━━━━━━━━━━━━━━━━━━━━━━━━━━━━━━━━━━━━\u001b[0m \u001b[32m586.9/586.9 kB\u001b[0m \u001b[31m15.3 MB/s\u001b[0m eta \u001b[36m0:00:00\u001b[0m\n",
            "\u001b[?25hDownloading filetype-1.2.0-py2.py3-none-any.whl (19 kB)\n",
            "Downloading python_iso639-2024.10.22-py3-none-any.whl (274 kB)\n",
            "\u001b[2K   \u001b[90m━━━━━━━━━━━━━━━━━━━━━━━━━━━━━━━━━━━━━━━━\u001b[0m \u001b[32m274.9/274.9 kB\u001b[0m \u001b[31m19.4 MB/s\u001b[0m eta \u001b[36m0:00:00\u001b[0m\n",
            "\u001b[?25hDownloading python_magic-0.4.27-py2.py3-none-any.whl (13 kB)\n",
            "Downloading python_oxmsg-0.0.1-py3-none-any.whl (31 kB)\n",
            "Downloading rapidfuzz-3.11.0-cp310-cp310-manylinux_2_17_x86_64.manylinux2014_x86_64.whl (3.1 MB)\n",
            "\u001b[2K   \u001b[90m━━━━━━━━━━━━━━━━━━━━━━━━━━━━━━━━━━━━━━━━\u001b[0m \u001b[32m3.1/3.1 MB\u001b[0m \u001b[31m39.3 MB/s\u001b[0m eta \u001b[36m0:00:00\u001b[0m\n",
            "\u001b[?25hDownloading unstructured_client-0.28.1-py3-none-any.whl (62 kB)\n",
            "\u001b[2K   \u001b[90m━━━━━━━━━━━━━━━━━━━━━━━━━━━━━━━━━━━━━━━━\u001b[0m \u001b[32m62.9/62.9 kB\u001b[0m \u001b[31m4.5 MB/s\u001b[0m eta \u001b[36m0:00:00\u001b[0m\n",
            "\u001b[?25hDownloading aiofiles-24.1.0-py3-none-any.whl (15 kB)\n",
            "Downloading jsonpath_python-1.0.6-py3-none-any.whl (7.6 kB)\n",
            "Downloading pydantic-2.9.2-py3-none-any.whl (434 kB)\n",
            "\u001b[2K   \u001b[90m━━━━━━━━━━━━━━━━━━━━━━━━━━━━━━━━━━━━━━━━\u001b[0m \u001b[32m434.9/434.9 kB\u001b[0m \u001b[31m19.1 MB/s\u001b[0m eta \u001b[36m0:00:00\u001b[0m\n",
            "\u001b[?25hDownloading pydantic_core-2.23.4-cp310-cp310-manylinux_2_17_x86_64.manylinux2014_x86_64.whl (2.1 MB)\n",
            "\u001b[2K   \u001b[90m━━━━━━━━━━━━━━━━━━━━━━━━━━━━━━━━━━━━━━━━\u001b[0m \u001b[32m2.1/2.1 MB\u001b[0m \u001b[31m45.6 MB/s\u001b[0m eta \u001b[36m0:00:00\u001b[0m\n",
            "\u001b[?25hDownloading pypdf-5.1.0-py3-none-any.whl (297 kB)\n",
            "\u001b[2K   \u001b[90m━━━━━━━━━━━━━━━━━━━━━━━━━━━━━━━━━━━━━━━━\u001b[0m \u001b[32m298.0/298.0 kB\u001b[0m \u001b[31m6.3 MB/s\u001b[0m eta \u001b[36m0:00:00\u001b[0m\n",
            "\u001b[?25hDownloading olefile-0.47-py2.py3-none-any.whl (114 kB)\n",
            "\u001b[2K   \u001b[90m━━━━━━━━━━━━━━━━━━━━━━━━━━━━━━━━━━━━━━━━\u001b[0m \u001b[32m114.6/114.6 kB\u001b[0m \u001b[31m9.6 MB/s\u001b[0m eta \u001b[36m0:00:00\u001b[0m\n",
            "\u001b[?25hBuilding wheels for collected packages: langdetect\n",
            "  Building wheel for langdetect (setup.py) ... \u001b[?25l\u001b[?25hdone\n",
            "  Created wheel for langdetect: filename=langdetect-1.0.9-py3-none-any.whl size=993222 sha256=e0239003fd5314399bde216e45821b6f1a2a64f4d76128673b81a535aae3181b\n",
            "  Stored in directory: /root/.cache/pip/wheels/95/03/7d/59ea870c70ce4e5a370638b5462a7711ab78fba2f655d05106\n",
            "Successfully built langdetect\n",
            "Installing collected packages: filetype, rapidfuzz, python-magic, python-iso639, pypdf, pydantic-core, olefile, langdetect, jsonpath-python, emoji, backoff, aiofiles, python-oxmsg, pydantic, unstructured-client, unstructured\n",
            "  Attempting uninstall: pydantic-core\n",
            "    Found existing installation: pydantic_core 2.27.1\n",
            "    Uninstalling pydantic_core-2.27.1:\n",
            "      Successfully uninstalled pydantic_core-2.27.1\n",
            "  Attempting uninstall: pydantic\n",
            "    Found existing installation: pydantic 2.10.3\n",
            "    Uninstalling pydantic-2.10.3:\n",
            "      Successfully uninstalled pydantic-2.10.3\n",
            "Successfully installed aiofiles-24.1.0 backoff-2.2.1 emoji-2.14.0 filetype-1.2.0 jsonpath-python-1.0.6 langdetect-1.0.9 olefile-0.47 pydantic-2.9.2 pydantic-core-2.23.4 pypdf-5.1.0 python-iso639-2024.10.22 python-magic-0.4.27 python-oxmsg-0.0.1 rapidfuzz-3.11.0 unstructured-0.16.11 unstructured-client-0.28.1\n"
          ]
        }
      ]
    },
    {
      "cell_type": "markdown",
      "source": [
        "Cohere Embeddings are dense vector representations of text generated by Cohere's language models. These embeddings capture semantic meaning, making them ideal for natural language processing (NLP) tasks like:\n",
        "\n",
        "* Semantic Search: Find text with similar meaning, even if phrased differently.\n",
        "Clustering: Group similar documents, sentences, or phrases.\n",
        "* Recommendation Systems: Match users with relevant content or products based on semantic similarity.\n",
        "* Retrieval-Augmented Generation (RAG): Retrieve contextually relevant information for LLMs.\n",
        "* Sentiment Analysis: Understand sentiment or intent in text data.\n",
        "\n",
        "Cohere embeddings are pre-trained, highly effective for zero-shot and transfer learning tasks, and easy to integrate into applications for enhanced AI capabilities.\n",
        "\n",
        "*Official Website:* https://docs.cohere.com/v2/docs/embeddings"
      ],
      "metadata": {
        "id": "OKLvwzzmCkm_"
      }
    },
    {
      "cell_type": "code",
      "source": [
        "pip install -qU langchain-cohere"
      ],
      "metadata": {
        "id": "KbShuSz4sa0D",
        "colab": {
          "base_uri": "https://localhost:8080/"
        },
        "outputId": "50ef969c-5460-416a-e451-780e665cbf27"
      },
      "execution_count": 61,
      "outputs": [
        {
          "output_type": "stream",
          "name": "stdout",
          "text": [
            "\u001b[?25l   \u001b[90m━━━━━━━━━━━━━━━━━━━━━━━━━━━━━━━━━━━━━━━━\u001b[0m \u001b[32m0.0/44.3 kB\u001b[0m \u001b[31m?\u001b[0m eta \u001b[36m-:--:--\u001b[0m\r\u001b[2K   \u001b[90m━━━━━━━━━━━━━━━━━━━━━━━━━━━━━━━━━━━━━━━━\u001b[0m \u001b[32m44.3/44.3 kB\u001b[0m \u001b[31m1.9 MB/s\u001b[0m eta \u001b[36m0:00:00\u001b[0m\n",
            "\u001b[?25h\u001b[?25l   \u001b[90m━━━━━━━━━━━━━━━━━━━━━━━━━━━━━━━━━━━━━━━━\u001b[0m \u001b[32m0.0/250.0 kB\u001b[0m \u001b[31m?\u001b[0m eta \u001b[36m-:--:--\u001b[0m\r\u001b[2K   \u001b[91m━━━━━━━━━━━━━━━━━━━━━━━━━━━━━━━━━━━━━━━\u001b[0m\u001b[90m╺\u001b[0m \u001b[32m245.8/250.0 kB\u001b[0m \u001b[31m11.1 MB/s\u001b[0m eta \u001b[36m0:00:01\u001b[0m\r\u001b[2K   \u001b[90m━━━━━━━━━━━━━━━━━━━━━━━━━━━━━━━━━━━━━━━━\u001b[0m \u001b[32m250.0/250.0 kB\u001b[0m \u001b[31m6.7 MB/s\u001b[0m eta \u001b[36m0:00:00\u001b[0m\n",
            "\u001b[2K   \u001b[90m━━━━━━━━━━━━━━━━━━━━━━━━━━━━━━━━━━━━━━━━\u001b[0m \u001b[32m209.2/209.2 kB\u001b[0m \u001b[31m14.7 MB/s\u001b[0m eta \u001b[36m0:00:00\u001b[0m\n",
            "\u001b[2K   \u001b[90m━━━━━━━━━━━━━━━━━━━━━━━━━━━━━━━━━━━━━━━━\u001b[0m \u001b[32m3.1/3.1 MB\u001b[0m \u001b[31m48.3 MB/s\u001b[0m eta \u001b[36m0:00:00\u001b[0m\n",
            "\u001b[?25h"
          ]
        }
      ]
    },
    {
      "cell_type": "code",
      "source": [
        "%pip install -qU langchain-text-splitters"
      ],
      "metadata": {
        "id": "lIv-qSOe-Bki"
      },
      "execution_count": null,
      "outputs": []
    },
    {
      "cell_type": "markdown",
      "source": [
        "Chroma Vector Database is a specialized open-source database designed for storing and querying vector embeddings, making it ideal for AI applications involving large language models (LLMs). Key features include:\n",
        "\n",
        "* Vector Storage: Efficiently stores high-dimensional embeddings generated from text, images, or other data.\n",
        "* Semantic Search: Supports similarity searches to find contextually related items.\n",
        "* Integrations: Works seamlessly with LLMs and embedding models for use cases like Retrieval-Augmented Generation (RAG).\n",
        "* Scalable and Fast: Handles large datasets with low-latency queries.\n",
        "* Open-Source: Fully transparent and customizable for developers.\n",
        "\n",
        "Chroma is widely used in applications like chatbots, recommendation systems, and knowledge retrieval, where quick and accurate access to semantic information is essential.\n",
        "\n",
        "*Official Website:* https://www.trychroma.com/"
      ],
      "metadata": {
        "id": "3S9-aFcvDPmI"
      }
    },
    {
      "cell_type": "code",
      "source": [
        "pip install langchain-chroma"
      ],
      "metadata": {
        "colab": {
          "base_uri": "https://localhost:8080/"
        },
        "collapsed": true,
        "id": "oh5wTc3fesbf",
        "outputId": "0ffa2fde-60b1-4bc4-fe80-6467e3fd62fd"
      },
      "execution_count": 64,
      "outputs": [
        {
          "output_type": "stream",
          "name": "stdout",
          "text": [
            "Collecting langchain-chroma\n",
            "  Downloading langchain_chroma-0.1.4-py3-none-any.whl.metadata (1.6 kB)\n",
            "Collecting chromadb!=0.5.4,!=0.5.5,<0.6.0,>=0.4.0 (from langchain-chroma)\n",
            "  Downloading chromadb-0.5.23-py3-none-any.whl.metadata (6.8 kB)\n",
            "Collecting fastapi<1,>=0.95.2 (from langchain-chroma)\n",
            "  Downloading fastapi-0.115.6-py3-none-any.whl.metadata (27 kB)\n",
            "Requirement already satisfied: langchain-core<0.4,>=0.1.40 in /usr/local/lib/python3.10/dist-packages (from langchain-chroma) (0.3.28)\n",
            "Requirement already satisfied: numpy<2,>=1 in /usr/local/lib/python3.10/dist-packages (from langchain-chroma) (1.26.4)\n",
            "Collecting build>=1.0.3 (from chromadb!=0.5.4,!=0.5.5,<0.6.0,>=0.4.0->langchain-chroma)\n",
            "  Downloading build-1.2.2.post1-py3-none-any.whl.metadata (6.5 kB)\n",
            "Requirement already satisfied: pydantic>=1.9 in /usr/local/lib/python3.10/dist-packages (from chromadb!=0.5.4,!=0.5.5,<0.6.0,>=0.4.0->langchain-chroma) (2.9.2)\n",
            "Collecting chroma-hnswlib==0.7.6 (from chromadb!=0.5.4,!=0.5.5,<0.6.0,>=0.4.0->langchain-chroma)\n",
            "  Downloading chroma_hnswlib-0.7.6-cp310-cp310-manylinux_2_17_x86_64.manylinux2014_x86_64.whl.metadata (252 bytes)\n",
            "Collecting uvicorn>=0.18.3 (from uvicorn[standard]>=0.18.3->chromadb!=0.5.4,!=0.5.5,<0.6.0,>=0.4.0->langchain-chroma)\n",
            "  Downloading uvicorn-0.34.0-py3-none-any.whl.metadata (6.5 kB)\n",
            "Collecting posthog>=2.4.0 (from chromadb!=0.5.4,!=0.5.5,<0.6.0,>=0.4.0->langchain-chroma)\n",
            "  Downloading posthog-3.7.4-py2.py3-none-any.whl.metadata (2.0 kB)\n",
            "Requirement already satisfied: typing_extensions>=4.5.0 in /usr/local/lib/python3.10/dist-packages (from chromadb!=0.5.4,!=0.5.5,<0.6.0,>=0.4.0->langchain-chroma) (4.12.2)\n",
            "Collecting onnxruntime>=1.14.1 (from chromadb!=0.5.4,!=0.5.5,<0.6.0,>=0.4.0->langchain-chroma)\n",
            "  Downloading onnxruntime-1.20.1-cp310-cp310-manylinux_2_27_x86_64.manylinux_2_28_x86_64.whl.metadata (4.5 kB)\n",
            "Requirement already satisfied: opentelemetry-api>=1.2.0 in /usr/local/lib/python3.10/dist-packages (from chromadb!=0.5.4,!=0.5.5,<0.6.0,>=0.4.0->langchain-chroma) (1.29.0)\n",
            "Collecting opentelemetry-exporter-otlp-proto-grpc>=1.2.0 (from chromadb!=0.5.4,!=0.5.5,<0.6.0,>=0.4.0->langchain-chroma)\n",
            "  Downloading opentelemetry_exporter_otlp_proto_grpc-1.29.0-py3-none-any.whl.metadata (2.2 kB)\n",
            "Collecting opentelemetry-instrumentation-fastapi>=0.41b0 (from chromadb!=0.5.4,!=0.5.5,<0.6.0,>=0.4.0->langchain-chroma)\n",
            "  Downloading opentelemetry_instrumentation_fastapi-0.50b0-py3-none-any.whl.metadata (2.1 kB)\n",
            "Requirement already satisfied: opentelemetry-sdk>=1.2.0 in /usr/local/lib/python3.10/dist-packages (from chromadb!=0.5.4,!=0.5.5,<0.6.0,>=0.4.0->langchain-chroma) (1.29.0)\n",
            "Collecting tokenizers<=0.20.3,>=0.13.2 (from chromadb!=0.5.4,!=0.5.5,<0.6.0,>=0.4.0->langchain-chroma)\n",
            "  Downloading tokenizers-0.20.3-cp310-cp310-manylinux_2_17_x86_64.manylinux2014_x86_64.whl.metadata (6.7 kB)\n",
            "Collecting pypika>=0.48.9 (from chromadb!=0.5.4,!=0.5.5,<0.6.0,>=0.4.0->langchain-chroma)\n",
            "  Downloading PyPika-0.48.9.tar.gz (67 kB)\n",
            "\u001b[2K     \u001b[90m━━━━━━━━━━━━━━━━━━━━━━━━━━━━━━━━━━━━━━━━\u001b[0m \u001b[32m67.3/67.3 kB\u001b[0m \u001b[31m3.4 MB/s\u001b[0m eta \u001b[36m0:00:00\u001b[0m\n",
            "\u001b[?25h  Installing build dependencies ... \u001b[?25l\u001b[?25hdone\n",
            "  Getting requirements to build wheel ... \u001b[?25l\u001b[?25hdone\n",
            "  Preparing metadata (pyproject.toml) ... \u001b[?25l\u001b[?25hdone\n",
            "Requirement already satisfied: tqdm>=4.65.0 in /usr/local/lib/python3.10/dist-packages (from chromadb!=0.5.4,!=0.5.5,<0.6.0,>=0.4.0->langchain-chroma) (4.67.1)\n",
            "Collecting overrides>=7.3.1 (from chromadb!=0.5.4,!=0.5.5,<0.6.0,>=0.4.0->langchain-chroma)\n",
            "  Downloading overrides-7.7.0-py3-none-any.whl.metadata (5.8 kB)\n",
            "Requirement already satisfied: importlib-resources in /usr/local/lib/python3.10/dist-packages (from chromadb!=0.5.4,!=0.5.5,<0.6.0,>=0.4.0->langchain-chroma) (6.4.5)\n",
            "Requirement already satisfied: grpcio>=1.58.0 in /usr/local/lib/python3.10/dist-packages (from chromadb!=0.5.4,!=0.5.5,<0.6.0,>=0.4.0->langchain-chroma) (1.68.1)\n",
            "Collecting bcrypt>=4.0.1 (from chromadb!=0.5.4,!=0.5.5,<0.6.0,>=0.4.0->langchain-chroma)\n",
            "  Downloading bcrypt-4.2.1-cp39-abi3-manylinux_2_28_x86_64.whl.metadata (9.8 kB)\n",
            "Requirement already satisfied: typer>=0.9.0 in /usr/local/lib/python3.10/dist-packages (from chromadb!=0.5.4,!=0.5.5,<0.6.0,>=0.4.0->langchain-chroma) (0.15.1)\n",
            "Collecting kubernetes>=28.1.0 (from chromadb!=0.5.4,!=0.5.5,<0.6.0,>=0.4.0->langchain-chroma)\n",
            "  Downloading kubernetes-31.0.0-py2.py3-none-any.whl.metadata (1.5 kB)\n",
            "Requirement already satisfied: tenacity>=8.2.3 in /usr/local/lib/python3.10/dist-packages (from chromadb!=0.5.4,!=0.5.5,<0.6.0,>=0.4.0->langchain-chroma) (9.0.0)\n",
            "Requirement already satisfied: PyYAML>=6.0.0 in /usr/local/lib/python3.10/dist-packages (from chromadb!=0.5.4,!=0.5.5,<0.6.0,>=0.4.0->langchain-chroma) (6.0.2)\n",
            "Collecting mmh3>=4.0.1 (from chromadb!=0.5.4,!=0.5.5,<0.6.0,>=0.4.0->langchain-chroma)\n",
            "  Downloading mmh3-5.0.1-cp310-cp310-manylinux_2_5_x86_64.manylinux1_x86_64.manylinux_2_17_x86_64.manylinux2014_x86_64.whl.metadata (14 kB)\n",
            "Requirement already satisfied: orjson>=3.9.12 in /usr/local/lib/python3.10/dist-packages (from chromadb!=0.5.4,!=0.5.5,<0.6.0,>=0.4.0->langchain-chroma) (3.10.12)\n",
            "Requirement already satisfied: httpx>=0.27.0 in /usr/local/lib/python3.10/dist-packages (from chromadb!=0.5.4,!=0.5.5,<0.6.0,>=0.4.0->langchain-chroma) (0.28.1)\n",
            "Requirement already satisfied: rich>=10.11.0 in /usr/local/lib/python3.10/dist-packages (from chromadb!=0.5.4,!=0.5.5,<0.6.0,>=0.4.0->langchain-chroma) (13.9.4)\n",
            "Collecting starlette<0.42.0,>=0.40.0 (from fastapi<1,>=0.95.2->langchain-chroma)\n",
            "  Downloading starlette-0.41.3-py3-none-any.whl.metadata (6.0 kB)\n",
            "Requirement already satisfied: jsonpatch<2.0,>=1.33 in /usr/local/lib/python3.10/dist-packages (from langchain-core<0.4,>=0.1.40->langchain-chroma) (1.33)\n",
            "Requirement already satisfied: langsmith<0.3,>=0.1.125 in /usr/local/lib/python3.10/dist-packages (from langchain-core<0.4,>=0.1.40->langchain-chroma) (0.2.3)\n",
            "Requirement already satisfied: packaging<25,>=23.2 in /usr/local/lib/python3.10/dist-packages (from langchain-core<0.4,>=0.1.40->langchain-chroma) (24.2)\n",
            "Collecting pyproject_hooks (from build>=1.0.3->chromadb!=0.5.4,!=0.5.5,<0.6.0,>=0.4.0->langchain-chroma)\n",
            "  Downloading pyproject_hooks-1.2.0-py3-none-any.whl.metadata (1.3 kB)\n",
            "Requirement already satisfied: tomli>=1.1.0 in /usr/local/lib/python3.10/dist-packages (from build>=1.0.3->chromadb!=0.5.4,!=0.5.5,<0.6.0,>=0.4.0->langchain-chroma) (2.2.1)\n",
            "Requirement already satisfied: anyio in /usr/local/lib/python3.10/dist-packages (from httpx>=0.27.0->chromadb!=0.5.4,!=0.5.5,<0.6.0,>=0.4.0->langchain-chroma) (3.7.1)\n",
            "Requirement already satisfied: certifi in /usr/local/lib/python3.10/dist-packages (from httpx>=0.27.0->chromadb!=0.5.4,!=0.5.5,<0.6.0,>=0.4.0->langchain-chroma) (2024.12.14)\n",
            "Requirement already satisfied: httpcore==1.* in /usr/local/lib/python3.10/dist-packages (from httpx>=0.27.0->chromadb!=0.5.4,!=0.5.5,<0.6.0,>=0.4.0->langchain-chroma) (1.0.7)\n",
            "Requirement already satisfied: idna in /usr/local/lib/python3.10/dist-packages (from httpx>=0.27.0->chromadb!=0.5.4,!=0.5.5,<0.6.0,>=0.4.0->langchain-chroma) (3.10)\n",
            "Requirement already satisfied: h11<0.15,>=0.13 in /usr/local/lib/python3.10/dist-packages (from httpcore==1.*->httpx>=0.27.0->chromadb!=0.5.4,!=0.5.5,<0.6.0,>=0.4.0->langchain-chroma) (0.14.0)\n",
            "Requirement already satisfied: jsonpointer>=1.9 in /usr/local/lib/python3.10/dist-packages (from jsonpatch<2.0,>=1.33->langchain-core<0.4,>=0.1.40->langchain-chroma) (3.0.0)\n",
            "Requirement already satisfied: six>=1.9.0 in /usr/local/lib/python3.10/dist-packages (from kubernetes>=28.1.0->chromadb!=0.5.4,!=0.5.5,<0.6.0,>=0.4.0->langchain-chroma) (1.17.0)\n",
            "Requirement already satisfied: python-dateutil>=2.5.3 in /usr/local/lib/python3.10/dist-packages (from kubernetes>=28.1.0->chromadb!=0.5.4,!=0.5.5,<0.6.0,>=0.4.0->langchain-chroma) (2.8.2)\n",
            "Requirement already satisfied: google-auth>=1.0.1 in /usr/local/lib/python3.10/dist-packages (from kubernetes>=28.1.0->chromadb!=0.5.4,!=0.5.5,<0.6.0,>=0.4.0->langchain-chroma) (2.27.0)\n",
            "Requirement already satisfied: websocket-client!=0.40.0,!=0.41.*,!=0.42.*,>=0.32.0 in /usr/local/lib/python3.10/dist-packages (from kubernetes>=28.1.0->chromadb!=0.5.4,!=0.5.5,<0.6.0,>=0.4.0->langchain-chroma) (1.8.0)\n",
            "Requirement already satisfied: requests in /usr/local/lib/python3.10/dist-packages (from kubernetes>=28.1.0->chromadb!=0.5.4,!=0.5.5,<0.6.0,>=0.4.0->langchain-chroma) (2.32.3)\n",
            "Requirement already satisfied: requests-oauthlib in /usr/local/lib/python3.10/dist-packages (from kubernetes>=28.1.0->chromadb!=0.5.4,!=0.5.5,<0.6.0,>=0.4.0->langchain-chroma) (1.3.1)\n",
            "Requirement already satisfied: oauthlib>=3.2.2 in /usr/local/lib/python3.10/dist-packages (from kubernetes>=28.1.0->chromadb!=0.5.4,!=0.5.5,<0.6.0,>=0.4.0->langchain-chroma) (3.2.2)\n",
            "Requirement already satisfied: urllib3>=1.24.2 in /usr/local/lib/python3.10/dist-packages (from kubernetes>=28.1.0->chromadb!=0.5.4,!=0.5.5,<0.6.0,>=0.4.0->langchain-chroma) (2.2.3)\n",
            "Collecting durationpy>=0.7 (from kubernetes>=28.1.0->chromadb!=0.5.4,!=0.5.5,<0.6.0,>=0.4.0->langchain-chroma)\n",
            "  Downloading durationpy-0.9-py3-none-any.whl.metadata (338 bytes)\n",
            "Requirement already satisfied: requests-toolbelt<2.0.0,>=1.0.0 in /usr/local/lib/python3.10/dist-packages (from langsmith<0.3,>=0.1.125->langchain-core<0.4,>=0.1.40->langchain-chroma) (1.0.0)\n",
            "Collecting coloredlogs (from onnxruntime>=1.14.1->chromadb!=0.5.4,!=0.5.5,<0.6.0,>=0.4.0->langchain-chroma)\n",
            "  Downloading coloredlogs-15.0.1-py2.py3-none-any.whl.metadata (12 kB)\n",
            "Requirement already satisfied: flatbuffers in /usr/local/lib/python3.10/dist-packages (from onnxruntime>=1.14.1->chromadb!=0.5.4,!=0.5.5,<0.6.0,>=0.4.0->langchain-chroma) (24.3.25)\n",
            "Requirement already satisfied: protobuf in /usr/local/lib/python3.10/dist-packages (from onnxruntime>=1.14.1->chromadb!=0.5.4,!=0.5.5,<0.6.0,>=0.4.0->langchain-chroma) (4.25.5)\n",
            "Requirement already satisfied: sympy in /usr/local/lib/python3.10/dist-packages (from onnxruntime>=1.14.1->chromadb!=0.5.4,!=0.5.5,<0.6.0,>=0.4.0->langchain-chroma) (1.13.1)\n",
            "Requirement already satisfied: deprecated>=1.2.6 in /usr/local/lib/python3.10/dist-packages (from opentelemetry-api>=1.2.0->chromadb!=0.5.4,!=0.5.5,<0.6.0,>=0.4.0->langchain-chroma) (1.2.15)\n",
            "Requirement already satisfied: importlib-metadata<=8.5.0,>=6.0 in /usr/local/lib/python3.10/dist-packages (from opentelemetry-api>=1.2.0->chromadb!=0.5.4,!=0.5.5,<0.6.0,>=0.4.0->langchain-chroma) (8.5.0)\n",
            "Requirement already satisfied: googleapis-common-protos~=1.52 in /usr/local/lib/python3.10/dist-packages (from opentelemetry-exporter-otlp-proto-grpc>=1.2.0->chromadb!=0.5.4,!=0.5.5,<0.6.0,>=0.4.0->langchain-chroma) (1.66.0)\n",
            "Collecting opentelemetry-exporter-otlp-proto-common==1.29.0 (from opentelemetry-exporter-otlp-proto-grpc>=1.2.0->chromadb!=0.5.4,!=0.5.5,<0.6.0,>=0.4.0->langchain-chroma)\n",
            "  Downloading opentelemetry_exporter_otlp_proto_common-1.29.0-py3-none-any.whl.metadata (1.8 kB)\n",
            "Collecting opentelemetry-proto==1.29.0 (from opentelemetry-exporter-otlp-proto-grpc>=1.2.0->chromadb!=0.5.4,!=0.5.5,<0.6.0,>=0.4.0->langchain-chroma)\n",
            "  Downloading opentelemetry_proto-1.29.0-py3-none-any.whl.metadata (2.3 kB)\n",
            "Collecting protobuf (from onnxruntime>=1.14.1->chromadb!=0.5.4,!=0.5.5,<0.6.0,>=0.4.0->langchain-chroma)\n",
            "  Downloading protobuf-5.29.2-cp38-abi3-manylinux2014_x86_64.whl.metadata (592 bytes)\n",
            "Collecting opentelemetry-instrumentation-asgi==0.50b0 (from opentelemetry-instrumentation-fastapi>=0.41b0->chromadb!=0.5.4,!=0.5.5,<0.6.0,>=0.4.0->langchain-chroma)\n",
            "  Downloading opentelemetry_instrumentation_asgi-0.50b0-py3-none-any.whl.metadata (1.9 kB)\n",
            "Collecting opentelemetry-instrumentation==0.50b0 (from opentelemetry-instrumentation-fastapi>=0.41b0->chromadb!=0.5.4,!=0.5.5,<0.6.0,>=0.4.0->langchain-chroma)\n",
            "  Downloading opentelemetry_instrumentation-0.50b0-py3-none-any.whl.metadata (6.1 kB)\n",
            "Requirement already satisfied: opentelemetry-semantic-conventions==0.50b0 in /usr/local/lib/python3.10/dist-packages (from opentelemetry-instrumentation-fastapi>=0.41b0->chromadb!=0.5.4,!=0.5.5,<0.6.0,>=0.4.0->langchain-chroma) (0.50b0)\n",
            "Collecting opentelemetry-util-http==0.50b0 (from opentelemetry-instrumentation-fastapi>=0.41b0->chromadb!=0.5.4,!=0.5.5,<0.6.0,>=0.4.0->langchain-chroma)\n",
            "  Downloading opentelemetry_util_http-0.50b0-py3-none-any.whl.metadata (2.5 kB)\n",
            "Requirement already satisfied: wrapt<2.0.0,>=1.0.0 in /usr/local/lib/python3.10/dist-packages (from opentelemetry-instrumentation==0.50b0->opentelemetry-instrumentation-fastapi>=0.41b0->chromadb!=0.5.4,!=0.5.5,<0.6.0,>=0.4.0->langchain-chroma) (1.17.0)\n",
            "Collecting asgiref~=3.0 (from opentelemetry-instrumentation-asgi==0.50b0->opentelemetry-instrumentation-fastapi>=0.41b0->chromadb!=0.5.4,!=0.5.5,<0.6.0,>=0.4.0->langchain-chroma)\n",
            "  Downloading asgiref-3.8.1-py3-none-any.whl.metadata (9.3 kB)\n",
            "Collecting monotonic>=1.5 (from posthog>=2.4.0->chromadb!=0.5.4,!=0.5.5,<0.6.0,>=0.4.0->langchain-chroma)\n",
            "  Downloading monotonic-1.6-py2.py3-none-any.whl.metadata (1.5 kB)\n",
            "Requirement already satisfied: backoff>=1.10.0 in /usr/local/lib/python3.10/dist-packages (from posthog>=2.4.0->chromadb!=0.5.4,!=0.5.5,<0.6.0,>=0.4.0->langchain-chroma) (2.2.1)\n",
            "Requirement already satisfied: annotated-types>=0.6.0 in /usr/local/lib/python3.10/dist-packages (from pydantic>=1.9->chromadb!=0.5.4,!=0.5.5,<0.6.0,>=0.4.0->langchain-chroma) (0.7.0)\n",
            "Requirement already satisfied: pydantic-core==2.23.4 in /usr/local/lib/python3.10/dist-packages (from pydantic>=1.9->chromadb!=0.5.4,!=0.5.5,<0.6.0,>=0.4.0->langchain-chroma) (2.23.4)\n",
            "Requirement already satisfied: markdown-it-py>=2.2.0 in /usr/local/lib/python3.10/dist-packages (from rich>=10.11.0->chromadb!=0.5.4,!=0.5.5,<0.6.0,>=0.4.0->langchain-chroma) (3.0.0)\n",
            "Requirement already satisfied: pygments<3.0.0,>=2.13.0 in /usr/local/lib/python3.10/dist-packages (from rich>=10.11.0->chromadb!=0.5.4,!=0.5.5,<0.6.0,>=0.4.0->langchain-chroma) (2.18.0)\n",
            "Requirement already satisfied: huggingface-hub<1.0,>=0.16.4 in /usr/local/lib/python3.10/dist-packages (from tokenizers<=0.20.3,>=0.13.2->chromadb!=0.5.4,!=0.5.5,<0.6.0,>=0.4.0->langchain-chroma) (0.27.0)\n",
            "Requirement already satisfied: click>=8.0.0 in /usr/local/lib/python3.10/dist-packages (from typer>=0.9.0->chromadb!=0.5.4,!=0.5.5,<0.6.0,>=0.4.0->langchain-chroma) (8.1.7)\n",
            "Requirement already satisfied: shellingham>=1.3.0 in /usr/local/lib/python3.10/dist-packages (from typer>=0.9.0->chromadb!=0.5.4,!=0.5.5,<0.6.0,>=0.4.0->langchain-chroma) (1.5.4)\n",
            "Collecting httptools>=0.6.3 (from uvicorn[standard]>=0.18.3->chromadb!=0.5.4,!=0.5.5,<0.6.0,>=0.4.0->langchain-chroma)\n",
            "  Downloading httptools-0.6.4-cp310-cp310-manylinux_2_5_x86_64.manylinux1_x86_64.manylinux_2_17_x86_64.manylinux2014_x86_64.whl.metadata (3.6 kB)\n",
            "Requirement already satisfied: python-dotenv>=0.13 in /usr/local/lib/python3.10/dist-packages (from uvicorn[standard]>=0.18.3->chromadb!=0.5.4,!=0.5.5,<0.6.0,>=0.4.0->langchain-chroma) (1.0.1)\n",
            "Collecting uvloop!=0.15.0,!=0.15.1,>=0.14.0 (from uvicorn[standard]>=0.18.3->chromadb!=0.5.4,!=0.5.5,<0.6.0,>=0.4.0->langchain-chroma)\n",
            "  Downloading uvloop-0.21.0-cp310-cp310-manylinux_2_17_x86_64.manylinux2014_x86_64.whl.metadata (4.9 kB)\n",
            "Collecting watchfiles>=0.13 (from uvicorn[standard]>=0.18.3->chromadb!=0.5.4,!=0.5.5,<0.6.0,>=0.4.0->langchain-chroma)\n",
            "  Downloading watchfiles-1.0.3-cp310-cp310-manylinux_2_17_x86_64.manylinux2014_x86_64.whl.metadata (4.9 kB)\n",
            "Requirement already satisfied: websockets>=10.4 in /usr/local/lib/python3.10/dist-packages (from uvicorn[standard]>=0.18.3->chromadb!=0.5.4,!=0.5.5,<0.6.0,>=0.4.0->langchain-chroma) (14.1)\n",
            "Requirement already satisfied: sniffio>=1.1 in /usr/local/lib/python3.10/dist-packages (from anyio->httpx>=0.27.0->chromadb!=0.5.4,!=0.5.5,<0.6.0,>=0.4.0->langchain-chroma) (1.3.1)\n",
            "Requirement already satisfied: exceptiongroup in /usr/local/lib/python3.10/dist-packages (from anyio->httpx>=0.27.0->chromadb!=0.5.4,!=0.5.5,<0.6.0,>=0.4.0->langchain-chroma) (1.2.2)\n",
            "Requirement already satisfied: cachetools<6.0,>=2.0.0 in /usr/local/lib/python3.10/dist-packages (from google-auth>=1.0.1->kubernetes>=28.1.0->chromadb!=0.5.4,!=0.5.5,<0.6.0,>=0.4.0->langchain-chroma) (5.5.0)\n",
            "Requirement already satisfied: pyasn1-modules>=0.2.1 in /usr/local/lib/python3.10/dist-packages (from google-auth>=1.0.1->kubernetes>=28.1.0->chromadb!=0.5.4,!=0.5.5,<0.6.0,>=0.4.0->langchain-chroma) (0.4.1)\n",
            "Requirement already satisfied: rsa<5,>=3.1.4 in /usr/local/lib/python3.10/dist-packages (from google-auth>=1.0.1->kubernetes>=28.1.0->chromadb!=0.5.4,!=0.5.5,<0.6.0,>=0.4.0->langchain-chroma) (4.9)\n",
            "Requirement already satisfied: filelock in /usr/local/lib/python3.10/dist-packages (from huggingface-hub<1.0,>=0.16.4->tokenizers<=0.20.3,>=0.13.2->chromadb!=0.5.4,!=0.5.5,<0.6.0,>=0.4.0->langchain-chroma) (3.16.1)\n",
            "Requirement already satisfied: fsspec>=2023.5.0 in /usr/local/lib/python3.10/dist-packages (from huggingface-hub<1.0,>=0.16.4->tokenizers<=0.20.3,>=0.13.2->chromadb!=0.5.4,!=0.5.5,<0.6.0,>=0.4.0->langchain-chroma) (2024.10.0)\n",
            "Requirement already satisfied: zipp>=3.20 in /usr/local/lib/python3.10/dist-packages (from importlib-metadata<=8.5.0,>=6.0->opentelemetry-api>=1.2.0->chromadb!=0.5.4,!=0.5.5,<0.6.0,>=0.4.0->langchain-chroma) (3.21.0)\n",
            "Requirement already satisfied: mdurl~=0.1 in /usr/local/lib/python3.10/dist-packages (from markdown-it-py>=2.2.0->rich>=10.11.0->chromadb!=0.5.4,!=0.5.5,<0.6.0,>=0.4.0->langchain-chroma) (0.1.2)\n",
            "Requirement already satisfied: charset-normalizer<4,>=2 in /usr/local/lib/python3.10/dist-packages (from requests->kubernetes>=28.1.0->chromadb!=0.5.4,!=0.5.5,<0.6.0,>=0.4.0->langchain-chroma) (3.4.0)\n",
            "Collecting humanfriendly>=9.1 (from coloredlogs->onnxruntime>=1.14.1->chromadb!=0.5.4,!=0.5.5,<0.6.0,>=0.4.0->langchain-chroma)\n",
            "  Downloading humanfriendly-10.0-py2.py3-none-any.whl.metadata (9.2 kB)\n",
            "Requirement already satisfied: mpmath<1.4,>=1.1.0 in /usr/local/lib/python3.10/dist-packages (from sympy->onnxruntime>=1.14.1->chromadb!=0.5.4,!=0.5.5,<0.6.0,>=0.4.0->langchain-chroma) (1.3.0)\n",
            "Requirement already satisfied: pyasn1<0.7.0,>=0.4.6 in /usr/local/lib/python3.10/dist-packages (from pyasn1-modules>=0.2.1->google-auth>=1.0.1->kubernetes>=28.1.0->chromadb!=0.5.4,!=0.5.5,<0.6.0,>=0.4.0->langchain-chroma) (0.6.1)\n",
            "Downloading langchain_chroma-0.1.4-py3-none-any.whl (10 kB)\n",
            "Downloading chromadb-0.5.23-py3-none-any.whl (628 kB)\n",
            "\u001b[2K   \u001b[90m━━━━━━━━━━━━━━━━━━━━━━━━━━━━━━━━━━━━━━━━\u001b[0m \u001b[32m628.3/628.3 kB\u001b[0m \u001b[31m14.6 MB/s\u001b[0m eta \u001b[36m0:00:00\u001b[0m\n",
            "\u001b[?25hDownloading chroma_hnswlib-0.7.6-cp310-cp310-manylinux_2_17_x86_64.manylinux2014_x86_64.whl (2.4 MB)\n",
            "\u001b[2K   \u001b[90m━━━━━━━━━━━━━━━━━━━━━━━━━━━━━━━━━━━━━━━━\u001b[0m \u001b[32m2.4/2.4 MB\u001b[0m \u001b[31m58.5 MB/s\u001b[0m eta \u001b[36m0:00:00\u001b[0m\n",
            "\u001b[?25hDownloading fastapi-0.115.6-py3-none-any.whl (94 kB)\n",
            "\u001b[2K   \u001b[90m━━━━━━━━━━━━━━━━━━━━━━━━━━━━━━━━━━━━━━━━\u001b[0m \u001b[32m94.8/94.8 kB\u001b[0m \u001b[31m8.6 MB/s\u001b[0m eta \u001b[36m0:00:00\u001b[0m\n",
            "\u001b[?25hDownloading bcrypt-4.2.1-cp39-abi3-manylinux_2_28_x86_64.whl (278 kB)\n",
            "\u001b[2K   \u001b[90m━━━━━━━━━━━━━━━━━━━━━━━━━━━━━━━━━━━━━━━━\u001b[0m \u001b[32m278.6/278.6 kB\u001b[0m \u001b[31m19.7 MB/s\u001b[0m eta \u001b[36m0:00:00\u001b[0m\n",
            "\u001b[?25hDownloading build-1.2.2.post1-py3-none-any.whl (22 kB)\n",
            "Downloading kubernetes-31.0.0-py2.py3-none-any.whl (1.9 MB)\n",
            "\u001b[2K   \u001b[90m━━━━━━━━━━━━━━━━━━━━━━━━━━━━━━━━━━━━━━━━\u001b[0m \u001b[32m1.9/1.9 MB\u001b[0m \u001b[31m61.0 MB/s\u001b[0m eta \u001b[36m0:00:00\u001b[0m\n",
            "\u001b[?25hDownloading mmh3-5.0.1-cp310-cp310-manylinux_2_5_x86_64.manylinux1_x86_64.manylinux_2_17_x86_64.manylinux2014_x86_64.whl (93 kB)\n",
            "\u001b[2K   \u001b[90m━━━━━━━━━━━━━━━━━━━━━━━━━━━━━━━━━━━━━━━━\u001b[0m \u001b[32m93.2/93.2 kB\u001b[0m \u001b[31m8.0 MB/s\u001b[0m eta \u001b[36m0:00:00\u001b[0m\n",
            "\u001b[?25hDownloading onnxruntime-1.20.1-cp310-cp310-manylinux_2_27_x86_64.manylinux_2_28_x86_64.whl (13.3 MB)\n",
            "\u001b[2K   \u001b[90m━━━━━━━━━━━━━━━━━━━━━━━━━━━━━━━━━━━━━━━━\u001b[0m \u001b[32m13.3/13.3 MB\u001b[0m \u001b[31m84.3 MB/s\u001b[0m eta \u001b[36m0:00:00\u001b[0m\n",
            "\u001b[?25hDownloading opentelemetry_exporter_otlp_proto_grpc-1.29.0-py3-none-any.whl (18 kB)\n",
            "Downloading opentelemetry_exporter_otlp_proto_common-1.29.0-py3-none-any.whl (18 kB)\n",
            "Downloading opentelemetry_proto-1.29.0-py3-none-any.whl (55 kB)\n",
            "\u001b[2K   \u001b[90m━━━━━━━━━━━━━━━━━━━━━━━━━━━━━━━━━━━━━━━━\u001b[0m \u001b[32m55.8/55.8 kB\u001b[0m \u001b[31m4.7 MB/s\u001b[0m eta \u001b[36m0:00:00\u001b[0m\n",
            "\u001b[?25hDownloading opentelemetry_instrumentation_fastapi-0.50b0-py3-none-any.whl (12 kB)\n",
            "Downloading opentelemetry_instrumentation-0.50b0-py3-none-any.whl (30 kB)\n",
            "Downloading opentelemetry_instrumentation_asgi-0.50b0-py3-none-any.whl (16 kB)\n",
            "Downloading opentelemetry_util_http-0.50b0-py3-none-any.whl (6.9 kB)\n",
            "Downloading overrides-7.7.0-py3-none-any.whl (17 kB)\n",
            "Downloading posthog-3.7.4-py2.py3-none-any.whl (54 kB)\n",
            "\u001b[2K   \u001b[90m━━━━━━━━━━━━━━━━━━━━━━━━━━━━━━━━━━━━━━━━\u001b[0m \u001b[32m54.8/54.8 kB\u001b[0m \u001b[31m4.5 MB/s\u001b[0m eta \u001b[36m0:00:00\u001b[0m\n",
            "\u001b[?25hDownloading starlette-0.41.3-py3-none-any.whl (73 kB)\n",
            "\u001b[2K   \u001b[90m━━━━━━━━━━━━━━━━━━━━━━━━━━━━━━━━━━━━━━━━\u001b[0m \u001b[32m73.2/73.2 kB\u001b[0m \u001b[31m6.5 MB/s\u001b[0m eta \u001b[36m0:00:00\u001b[0m\n",
            "\u001b[?25hDownloading tokenizers-0.20.3-cp310-cp310-manylinux_2_17_x86_64.manylinux2014_x86_64.whl (3.0 MB)\n",
            "\u001b[2K   \u001b[90m━━━━━━━━━━━━━━━━━━━━━━━━━━━━━━━━━━━━━━━━\u001b[0m \u001b[32m3.0/3.0 MB\u001b[0m \u001b[31m81.1 MB/s\u001b[0m eta \u001b[36m0:00:00\u001b[0m\n",
            "\u001b[?25hDownloading uvicorn-0.34.0-py3-none-any.whl (62 kB)\n",
            "\u001b[2K   \u001b[90m━━━━━━━━━━━━━━━━━━━━━━━━━━━━━━━━━━━━━━━━\u001b[0m \u001b[32m62.3/62.3 kB\u001b[0m \u001b[31m4.6 MB/s\u001b[0m eta \u001b[36m0:00:00\u001b[0m\n",
            "\u001b[?25hDownloading durationpy-0.9-py3-none-any.whl (3.5 kB)\n",
            "Downloading httptools-0.6.4-cp310-cp310-manylinux_2_5_x86_64.manylinux1_x86_64.manylinux_2_17_x86_64.manylinux2014_x86_64.whl (442 kB)\n",
            "\u001b[2K   \u001b[90m━━━━━━━━━━━━━━━━━━━━━━━━━━━━━━━━━━━━━━━━\u001b[0m \u001b[32m442.1/442.1 kB\u001b[0m \u001b[31m30.6 MB/s\u001b[0m eta \u001b[36m0:00:00\u001b[0m\n",
            "\u001b[?25hDownloading monotonic-1.6-py2.py3-none-any.whl (8.2 kB)\n",
            "Downloading protobuf-5.29.2-cp38-abi3-manylinux2014_x86_64.whl (319 kB)\n",
            "\u001b[2K   \u001b[90m━━━━━━━━━━━━━━━━━━━━━━━━━━━━━━━━━━━━━━━━\u001b[0m \u001b[32m319.7/319.7 kB\u001b[0m \u001b[31m24.0 MB/s\u001b[0m eta \u001b[36m0:00:00\u001b[0m\n",
            "\u001b[?25hDownloading uvloop-0.21.0-cp310-cp310-manylinux_2_17_x86_64.manylinux2014_x86_64.whl (3.8 MB)\n",
            "\u001b[2K   \u001b[90m━━━━━━━━━━━━━━━━━━━━━━━━━━━━━━━━━━━━━━━━\u001b[0m \u001b[32m3.8/3.8 MB\u001b[0m \u001b[31m74.2 MB/s\u001b[0m eta \u001b[36m0:00:00\u001b[0m\n",
            "\u001b[?25hDownloading watchfiles-1.0.3-cp310-cp310-manylinux_2_17_x86_64.manylinux2014_x86_64.whl (443 kB)\n",
            "\u001b[2K   \u001b[90m━━━━━━━━━━━━━━━━━━━━━━━━━━━━━━━━━━━━━━━━\u001b[0m \u001b[32m443.8/443.8 kB\u001b[0m \u001b[31m31.4 MB/s\u001b[0m eta \u001b[36m0:00:00\u001b[0m\n",
            "\u001b[?25hDownloading coloredlogs-15.0.1-py2.py3-none-any.whl (46 kB)\n",
            "\u001b[2K   \u001b[90m━━━━━━━━━━━━━━━━━━━━━━━━━━━━━━━━━━━━━━━━\u001b[0m \u001b[32m46.0/46.0 kB\u001b[0m \u001b[31m3.8 MB/s\u001b[0m eta \u001b[36m0:00:00\u001b[0m\n",
            "\u001b[?25hDownloading pyproject_hooks-1.2.0-py3-none-any.whl (10 kB)\n",
            "Downloading asgiref-3.8.1-py3-none-any.whl (23 kB)\n",
            "Downloading humanfriendly-10.0-py2.py3-none-any.whl (86 kB)\n",
            "\u001b[2K   \u001b[90m━━━━━━━━━━━━━━━━━━━━━━━━━━━━━━━━━━━━━━━━\u001b[0m \u001b[32m86.8/86.8 kB\u001b[0m \u001b[31m7.9 MB/s\u001b[0m eta \u001b[36m0:00:00\u001b[0m\n",
            "\u001b[?25hBuilding wheels for collected packages: pypika\n",
            "  Building wheel for pypika (pyproject.toml) ... \u001b[?25l\u001b[?25hdone\n",
            "  Created wheel for pypika: filename=PyPika-0.48.9-py2.py3-none-any.whl size=53725 sha256=968a1c079fa6188a8b6916422cf3468198acdae90842c0396bb85b1e4dddf26b\n",
            "  Stored in directory: /root/.cache/pip/wheels/e1/26/51/d0bffb3d2fd82256676d7ad3003faea3bd6dddc9577af665f4\n",
            "Successfully built pypika\n",
            "Installing collected packages: pypika, monotonic, durationpy, uvloop, uvicorn, pyproject_hooks, protobuf, overrides, opentelemetry-util-http, mmh3, humanfriendly, httptools, chroma-hnswlib, bcrypt, asgiref, watchfiles, starlette, posthog, opentelemetry-proto, coloredlogs, build, tokenizers, opentelemetry-exporter-otlp-proto-common, onnxruntime, kubernetes, fastapi, opentelemetry-instrumentation, opentelemetry-instrumentation-asgi, opentelemetry-exporter-otlp-proto-grpc, opentelemetry-instrumentation-fastapi, chromadb, langchain-chroma\n",
            "  Attempting uninstall: protobuf\n",
            "    Found existing installation: protobuf 4.25.5\n",
            "    Uninstalling protobuf-4.25.5:\n",
            "      Successfully uninstalled protobuf-4.25.5\n",
            "  Attempting uninstall: tokenizers\n",
            "    Found existing installation: tokenizers 0.21.0\n",
            "    Uninstalling tokenizers-0.21.0:\n",
            "      Successfully uninstalled tokenizers-0.21.0\n",
            "\u001b[31mERROR: pip's dependency resolver does not currently take into account all the packages that are installed. This behaviour is the source of the following dependency conflicts.\n",
            "tensorflow 2.17.1 requires protobuf!=4.21.0,!=4.21.1,!=4.21.2,!=4.21.3,!=4.21.4,!=4.21.5,<5.0.0dev,>=3.20.3, but you have protobuf 5.29.2 which is incompatible.\n",
            "tensorflow-metadata 1.13.1 requires protobuf<5,>=3.20.3, but you have protobuf 5.29.2 which is incompatible.\n",
            "transformers 4.47.1 requires tokenizers<0.22,>=0.21, but you have tokenizers 0.20.3 which is incompatible.\u001b[0m\u001b[31m\n",
            "\u001b[0mSuccessfully installed asgiref-3.8.1 bcrypt-4.2.1 build-1.2.2.post1 chroma-hnswlib-0.7.6 chromadb-0.5.23 coloredlogs-15.0.1 durationpy-0.9 fastapi-0.115.6 httptools-0.6.4 humanfriendly-10.0 kubernetes-31.0.0 langchain-chroma-0.1.4 mmh3-5.0.1 monotonic-1.6 onnxruntime-1.20.1 opentelemetry-exporter-otlp-proto-common-1.29.0 opentelemetry-exporter-otlp-proto-grpc-1.29.0 opentelemetry-instrumentation-0.50b0 opentelemetry-instrumentation-asgi-0.50b0 opentelemetry-instrumentation-fastapi-0.50b0 opentelemetry-proto-1.29.0 opentelemetry-util-http-0.50b0 overrides-7.7.0 posthog-3.7.4 protobuf-5.29.2 pypika-0.48.9 pyproject_hooks-1.2.0 starlette-0.41.3 tokenizers-0.20.3 uvicorn-0.34.0 uvloop-0.21.0 watchfiles-1.0.3\n"
          ]
        }
      ]
    },
    {
      "cell_type": "markdown",
      "source": [
        "# Setup Environmental"
      ],
      "metadata": {
        "id": "0OJgxkhNXFjK"
      }
    },
    {
      "cell_type": "code",
      "source": [
        "from google.colab import userdata\n",
        "import os\n",
        "from langchain_community.document_loaders import UnstructuredHTMLLoader\n",
        "from langchain_text_splitters import RecursiveCharacterTextSplitter\n",
        "from langchain_cohere import CohereEmbeddings\n",
        "from langchain_chroma import Chroma\n",
        "from langchain_core.prompts import PromptTemplate\n",
        "from langchain_groq import ChatGroq\n",
        "from langchain_core.output_parsers import StrOutputParser\n",
        "from langchain.schema.runnable import RunnablePassthrough"
      ],
      "metadata": {
        "id": "BcezQ77QdDaA"
      },
      "execution_count": 42,
      "outputs": []
    },
    {
      "cell_type": "markdown",
      "source": [
        "**Generate API Keys**:\n",
        "\n",
        "* Groq: https://console.groq.com/keys\n",
        "\n",
        "* Cohere: https://dashboard.cohere.com/api-keys"
      ],
      "metadata": {
        "id": "zLOAPtBrY7PU"
      }
    },
    {
      "cell_type": "code",
      "source": [
        "os.environ[\"COHERE_API_KEY\"] = userdata.get('COHERE_API')\n",
        "os.environ[\"GROQ_API_KEY\"] = userdata.get('GROQ_API_KEY')"
      ],
      "metadata": {
        "id": "nxB4W6toA5AR"
      },
      "execution_count": null,
      "outputs": []
    },
    {
      "cell_type": "markdown",
      "source": [
        "# RAG Code"
      ],
      "metadata": {
        "id": "ztOAGaYyYku1"
      }
    },
    {
      "cell_type": "markdown",
      "source": [
        "**Dataset:**\n",
        "\n",
        "Collegedunia Webpage: https://collegedunia.com/college/13585-government-college-of-engineering-gcek-satara/admission"
      ],
      "metadata": {
        "id": "g0cAg65kY1Y5"
      }
    },
    {
      "cell_type": "code",
      "source": [
        "file_path = \"/content/Government College of Engineering_collegeduniya.html\"\n",
        "\n",
        "loader = UnstructuredHTMLLoader(file_path)\n",
        "data = loader.load()"
      ],
      "metadata": {
        "id": "xof9S0ghrYzW"
      },
      "execution_count": 8,
      "outputs": []
    },
    {
      "cell_type": "code",
      "source": [
        "print(data)"
      ],
      "metadata": {
        "colab": {
          "base_uri": "https://localhost:8080/"
        },
        "collapsed": true,
        "id": "_uYbqXsaruR1",
        "outputId": "6f0197c3-182e-4a38-e181-35c2c6d628c0"
      },
      "execution_count": 10,
      "outputs": [
        {
          "output_type": "stream",
          "name": "stdout",
          "text": [
            "[Document(metadata={'source': '/content/Government College of Engineering_collegeduniya.html'}, page_content=\"Select Goal &\\n\\nCity\\n\\nSelect Goal\\n\\nWrite a ReviewGet Upto ₹500*\\n\\nExplore\\n\\nExplore More\\n\\nStudy AbroadGet upto 50% discount on Visa Fees\\n\\nTop Universities & Colleges\\n\\nAbroad Exams\\n\\nTop Courses\\n\\nExams\\n\\nRead College Reviews\\n\\nNews\\n\\nAdmission Alerts 2024\\n\\nEducation Loan\\n\\nInstitute (Counselling, Coaching and More)\\n\\nAsk a Question\\n\\nCollege Predictor\\n\\nTest Series\\n\\nPractice Questions\\n\\nCourse Finder\\n\\nScholarship\\n\\nAll Courses\\n\\nB.Tech\\n\\nMBA\\n\\nM.Tech\\n\\nMBBS\\n\\nB.Com\\n\\nB.Sc\\n\\nB.Sc (Nursing)\\n\\nBA\\n\\nBBA\\n\\nBCA\\n\\nCourse Finder\\n\\nAll Courses\\n\\nB.Tech\\n\\nMBA\\n\\nM.Tech\\n\\nMBBS\\n\\nB.Com\\n\\nB.Sc\\n\\nB.Sc (Nursing)\\n\\nBA\\n\\nBBA\\n\\nBCA\\n\\nB.Arch\\n\\nB.Ed\\n\\nB.Pharm\\n\\nB.Sc (Agriculture)\\n\\nBAMS\\n\\nLLB\\n\\nLLM\\n\\nM.Pharm\\n\\nM.Sc\\n\\nMCA\\n\\nBachelor of Physiotherapy\\n\\nB.Des\\n\\nM.Planning\\n\\nB.Planning\\n\\nAgriculture\\n\\nArts\\n\\nCommerce\\n\\nComputer Applications\\n\\nDesign\\n\\nEngineering\\n\\nLaw\\n\\nManagement\\n\\nMedical\\n\\nParamedical\\n\\nPharmacy\\n\\nScience\\n\\nArchitecture\\n\\nAviation\\n\\nDental\\n\\nEducation\\n\\nHotel Management\\n\\nMass Communications\\n\\nVeterinary Sciences\\n\\nAnimation\\n\\nGovernment College of Engineering: Admission 2024, Cutoff, Courses, Fees, Eligibility\\n\\nSatara, MaharashtraEstd 1960 Shivaji University, Kolhapur\\n\\n#89 For B.Tech By The Week 2024\\n\\n+5 More\\n\\nCourse Finder\\n\\nCompare\\n\\n3.9\\n\\n(58 Reviews)\\n\\nClaim this college\\n\\nGovernment College of Engineering - [GCEK] Latest Updates\\n\\n29 Dec, 2024\\n\\nMAH MCA CET 2025 Registration has begun at mahacet.org for admission to MCA program for 2025-26. The last date to apply is January 25, 2025 (11:59 PM). MAH MCA CET 2025 will be conducted tentatively on March 23, 2025.\\n\\n03 Dec, 2024\\n\\nMHT CET 2025 Exam Dates have been announced by the Maharashtra State CET Cell for admission to BE/ B.Tech/ B.Pharm Courses for the academic year 2025-26. MHT CET 2025 will be conducted tentatively from April 19 to April 27, 2025 for PCM Group and April 9 to April 17, 2025 for PCB Group. Check Schedule Here. Candidates can check the detailed syllabus and latest updates about the exam @cetcell.mahacet.org.\\n\\n...Read More\\n\\nWritten By Collegedunia Team on, Dec 29, 2024\\n\\nEstablished in 1960, Government College of Engineering Karad is an autonomous technical institute situated in the state of Maharashtra. At present, it offers undergraduate, postgraduate and research level programs viz. B.Tech., M.Tech., MCA and Ph.D.\\n\\nSeats are allocated on the basis of performance in the relevant entrance examination (JEE/ GATE). The DTE is the final authority in selection.\\n\\nReservation is in accordance with regulations of the Government of India, with relaxations given in minimum qualifications as well.\\n\\nStudents can apply through online or offline mode, depending upon the course.\\n\\nAdmission Highlights:\\n\\nName of the University Government College of Engineering, Karad University Type Public Basic Admission Criteria Entrance-Based Last Date to Apply To be announced Application Mode Online / Offline Entrance Examination JEE (UG) GATE (PG) Counselling Yes Counselling Date Announced at time of merit list Scholarship Selected cases\\n\\nColleges Application Forms 2024\\n\\n6.4\\n\\nBest in Infrastructure Lovely Professional University - [LPU] Jalandhar, Punjab\\n\\nNAAC A++ & NIRF Rank 27th\\n\\n3 Crore Highest Package\\n\\nApply Now\\n\\n4.6\\n\\nBest in Placements NIIT University - [NU] Neemrana, Rajasthan\\n\\n100% Placement\\n\\n44.27 LPA CTC\\n\\nApply Now\\n\\n4.9\\n\\nBest in Faculty Dayananda Sagar University - [DSU] Bangalore, Karnataka\\n\\nHighest CTC 35 LPA\\n\\n450+ Companies Visited\\n\\nApply Now\\n\\n4.0\\n\\nBest in Faculty SVKM's Narsee Monjee Institute of Management Studies - [NMIMS University] Navi Mumbai, Maharashtra\\n\\n₹4.25 L 1st Year Fees\\n\\nBE/B.Tech\\n\\nApply Now\\n\\nWrite a Review and Earn Upto ₹500/-\\n\\nStart Writing\\n\\n4.1\\n\\nBest in Social Life GH Raisoni College of Engineering - [GHRCE], Nagpur Nagpur, Maharashtra\\n\\n₹1.39 L 1st Year Fees\\n\\nBE/B.Tech\\n\\nApply Now\\n\\nKnow Your Chances of Admission\\n\\nPredict Now\\n\\n4.1\\n\\nBest in Infrastructure Mukesh Patel School of Technology Management and Engineering - [MPSTME] Mumbai, Maharashtra\\n\\n₹3.50 L 1st Year Fees\\n\\nBE/B.Tech\\n\\nApply Now\\n\\nFind Courses with Help of AI Based Course Finder\\n\\nStart Now\\n\\n4.1\\n\\nBest in Social Life Amity University Mumbai, Maharashtra\\n\\n₹2.84 L 1st Year Fees\\n\\nBE/B.Tech\\n\\nApply Now\\n\\n3.8\\n\\nBest in Social Life Bharati Vidyapeeth Deemed University Pune Pune, Maharashtra\\n\\n₹1.57 L 1st Year Fees\\n\\nBE/B.Tech\\n\\nApply Now\\n\\n4.0\\n\\nBest in Academics Fr. Conceicao Rodrigues College of Engineering - [CRCE] Mumbai, Maharashtra\\n\\n₹1.81 L 1st Year Fees\\n\\nBE/B.Tech\\n\\nApply Now\\n\\n4.1\\n\\nBest in Placements Sardar Patel Institute of Technology - [SPIT] Mumbai, Maharashtra\\n\\n₹1.96 L 1st Year Fees\\n\\nBE/B.Tech\\n\\nApply Now\\n\\nGovernment College of Engineering Karad B.Tech Admission 2024\\n\\nGovernment College of Engineering Karad offers admission B.Tech. programs on the basis of performance in JEE Advanced, national level entrance exam conducted collectively by the IITs. Candidates should have passed at 10+2 level from the science stream to be eligible to apply.\\n\\nJEE Main is a 3-hour paper which consists of 90 questions covering all relevant subject matter to the engineering field.\\n\\nPhysics, Chemistry and Mathematics are given equal weightage.\\n\\nThe questions are objective type.\\n\\nFour marks are given for every correct response, and 1/4thmark is deducted for incorrect response.\\n\\nCourse Specialization Minimum Eligibility Selection Process B.Tech. Civil Engineering Candidates must have a pass at the 10+2 level from the Science stream with PCM background from a recognized board in the country. Appearance in JEE is mandatory. JEE score / rank Mechanical Engineering Electrical Engineering Electronics and Telecommunication Engineering Information Technology\\n\\nCandidates seeking admission to the B.Tech program offered at Government College of Engineering Karad may do so by applying online through the official website.\\n\\nSelection is based on merit, depending on score from JEE examination under the following categories:\\n\\nMaharashtra State Category\\n\\nFor those who wish to apply under Maharashtra State category, candidates must be Indian citizens who cleared their 10+2 from Maharashtra State Board. Such candidates are required to have a Science background with 50% aggregate (45% for reserved categories) along with a positive composite score when accounting for 50% of the marks scored in JEE, and 50% of marks scored in Class XII.\\n\\nAll India Category\\n\\nFor candidates applying under All India category, they are required to have cleared 10+2 examination from State Board or the equivalent. They are required to have a science background with 50% aggregate (45% for reserved categories). They must also possess an All India Rank in JEE.\\n\\nGovernment College of Engineering Karad B.Tech Admission 2024\\n\\nGovernment College of Engineering Karad offers admission B.Tech. programs on the basis of performance in JEE Advanced, national level entrance exam conducted collectively by the IITs. Candidates should have passed at 10+2 level from the science stream to be eligible to apply.\\n\\nJEE Main is a 3-hour paper which consists of 90 questions covering all relevant subject matter to the engineering field.\\n\\nPhysics, Chemistry and Mathematics are given equal weightage.\\n\\nThe questions are objective type.\\n\\nFour marks are given for every correct response, and 1/4thmark is deducted for incorrect response.\\n\\nCourse Specialization Minimum Eligibility Selection Process B.Tech. Civil Engineering Candidates must have a pass at the 10+2 level from the Science stream with PCM background from a recognized board in the country. Appearance in JEE is mandatory. JEE score / rank Mechanical Engineering Electrical Engineering Electronics and Telecommunication Engineering Information Technology\\n\\nCandidates seeking admission to the B.Tech program offered at Government College of Engineering Karad may do so by applying online through the official website.\\n\\nSelection is based on merit, depending on score from JEE examination under the following categories:\\n\\nMaharashtra State Category\\n\\nFor those who wish to apply under Maharashtra State category, candidates must be Indian citizens who cleared their 10+2 from Maharashtra State Board. Such candidates are required to have a Science background with 50% aggregate (45% for reserved categories) along with a positive composite score when accounting for 50% of the marks scored in JEE, and 50% of marks scored in Class XII.\\n\\nAll India Category\\n\\nFor candidates applying under All India category, they are required to have cleared 10+2 examination from State Board or the equivalent. They are required to have a science background with 50% aggregate (45% for reserved categories). They must also possess an All India Rank in JEE.\\n\\nGovernment College of Engineering Karad PG Admission 2024\\n\\nGovernment College of Engineering Karad offers admission to M.Tech. program on the basis of performance in the national level entrance conducted collectively by the IITs - GATE. Admission to MCA course is done through counselling conducted by DTE Maharashtra. Candidates should have passed at the undergraduate level from the relevant stream to be eligible to apply.\\n\\nGATE consists of a 3-hour paper with 65 questions covering all relevant subject matter to the field as studied at the undergraduate level.\\n\\nSections are included on general aptitude as well as technical aspects.\\n\\nThe questions are objective type or numeric type.\\n\\nOne or two marks is given for every correct response, and 1/3rd mark is deducted for incorrect response.\\n\\nCourse Specialization Minimum Eligibility Selection Process M.Tech. Civil Structural Engineering Candidates must have a pass at the undergraduate level (minimum 60%) in the relevant discipline of B.Tech. / B.E. from a recognized university. Appearance in GATE is necessary. GATE score / rank Mechanical Production Engineering Civil Construction Management Mechanical Heat Power Electrical Power Systems MCA Computer Applications Candidates must have a pass at the undergraduate level (minimum 60%) in the relevant discipline from a recognized university. Merit-based\\n\\nCandidates seeking admission to the postgraduate programs at Government College of Engineering Karad may do so by applying online through the official website.\\n\\nReservation is in accordance with the regulations of the state government\\n\\nGATE score is considered according to the category specified at the time of applying.\\n\\nCandidates are considered for admission on the basis of the GATE score, with seats allocated through the DTE centralized allotment process.\\n\\nGovernment College of Engineering Karad PG Admission 2024\\n\\nGovernment College of Engineering Karad offers admission to M.Tech. program on the basis of performance in the national level entrance conducted collectively by the IITs - GATE. Admission to MCA course is done through counselling conducted by DTE Maharashtra. Candidates should have passed at the undergraduate level from the relevant stream to be eligible to apply.\\n\\nGATE consists of a 3-hour paper with 65 questions covering all relevant subject matter to the field as studied at the undergraduate level.\\n\\nSections are included on general aptitude as well as technical aspects.\\n\\nThe questions are objective type or numeric type.\\n\\nOne or two marks is given for every correct response, and 1/3rd mark is deducted for incorrect response.\\n\\nCourse Specialization Minimum Eligibility Selection Process M.Tech. Civil Structural Engineering Candidates must have a pass at the undergraduate level (minimum 60%) in the relevant discipline of B.Tech. / B.E. from a recognized university. Appearance in GATE is necessary. GATE score / rank Mechanical Production Engineering Civil Construction Management Mechanical Heat Power Electrical Power Systems MCA Computer Applications Candidates must have a pass at the undergraduate level (minimum 60%) in the relevant discipline from a recognized university. Merit-based\\n\\nCandidates seeking admission to the postgraduate programs at Government College of Engineering Karad may do so by applying online through the official website.\\n\\nReservation is in accordance with the regulations of the state government\\n\\nGATE score is considered according to the category specified at the time of applying.\\n\\nCandidates are considered for admission on the basis of the GATE score, with seats allocated through the DTE centralized allotment process.\\n\\nGovernment College of Engineering Karad Ph.D Admission 2024\\n\\nThe Institute also offers research programs under different specializations. The selection process is done on the basis of their performance in the written test, and personal interview. Candidates must be qualified from a recognized institute to apply.\\n\\nThe selection process is designed to test the aptitude of the candidate towards the course for which the application has been received. This includes research methodology, and subject specific knowledge relevant to the course.\\n\\nCourse Specilization Eligibility Selection Criteria Ph.D. Civil Engineering Candidates must have a valid Bachelor degree as well as Masters’ degree (minimum 60%) in a relevant discipline from a recognized university. A valid GATE score is also required. Entrance examination / personal interview / academic performance Structural Engineering Mechanical Engineering\\n\\nCandidates seeking admission to the research program offered at Government College of Engineering Karad may do so by applying online through the official website.\\n\\nCandidates should possess Master’s degree or M.Phil degree from a recognized institution in a relevant field.\\n\\nReservation is in accordance with the regulations of the Government of India.\\n\\nA valid GATE score or UGC / JRF qualification or the equivalent fellowship is required.\\n\\nGovernment College of Engineering Karad Ph.D Admission 2024\\n\\nThe Institute also offers research programs under different specializations. The selection process is done on the basis of their performance in the written test, and personal interview. Candidates must be qualified from a recognized institute to apply.\\n\\nThe selection process is designed to test the aptitude of the candidate towards the course for which the application has been received. This includes research methodology, and subject specific knowledge relevant to the course.\\n\\nCourse Specilization Eligibility Selection Criteria Ph.D. Civil Engineering Candidates must have a valid Bachelor degree as well as Masters’ degree (minimum 60%) in a relevant discipline from a recognized university. A valid GATE score is also required. Entrance examination / personal interview / academic performance Structural Engineering Mechanical Engineering\\n\\nCandidates seeking admission to the research program offered at Government College of Engineering Karad may do so by applying online through the official website.\\n\\nCandidates should possess Master’s degree or M.Phil degree from a recognized institution in a relevant field.\\n\\nReservation is in accordance with the regulations of the Government of India.\\n\\nA valid GATE score or UGC / JRF qualification or the equivalent fellowship is required.\\n\\nGovernment College of Engineering Karad Application Process 2024\\n\\nThe application process varies for different courses offered by the institute.\\n\\nFor JEE and GATE:\\n\\nA notification will be released by the IIT, following which the application forms will be officially released.\\n\\nThe registration link will be available from the official JEE / GATE – JAM website.\\n\\nCandidates must submit the duly filled-in form, along with scanned photograph and photocopies of marksheet\\n\\nOnline payment of the application fee can be done through net banking.\\n\\nFor DTE Counselling:\\n\\nThe application fee of INR 700 (INR 500 for reserved categories) should be paid to acquire the application kit\\n\\nThe kit contains an application ID and password, which can be used to access the form from the official website\\n\\nThe form must be duly filled-in, clearly stating qualifications and work experience, and submitted along with all required photocopies of original documents.\\n\\nThe college can be contacted at:\\n\\nGovernment College of Engineering, Vidyanagar, Karad Dist. Satara - 415124 Maharashtra INDIA\\n\\nRead Less\\n\\nDo you think the Admission details are wrong ? Report Here\\n\\nGCEK Upcoming Application Dates 2024\\n\\nImportant Events\\n\\nEvents Dates MHT CET Registration Timeline Tentative Jan 16, 2025 -\\xa0Mar 15, 2025 MHT CET (PCB) Admit Card Date Tentative Apr 13, 2025 MHT CET (PCM) Admit Card Date Tentative Apr 19, 2025 MHT CET Exam Date Tentative Apr 22, 2025 -\\xa0May 17, 2025 MHT CET Result Date Tentative Jun 16, 2025\\n\\nExpired Events\\n\\nEvents Dates Last Date for Non-CAP Round Admissions  [MAHCET - B.Tech] Oct 23, 2024 Last Date for Uploading Data Non-CAP Round [MAHCET - B.Tech] Oct 23, 2024 Last Date for Non-CAP Round Admissions  [MAHCET - MCA] Oct 23, 2024\\n\\nImportant Events\\n\\nEvents Dates MHT CET Registration Timeline Tentative Jan 16, 2025 -\\xa0Mar 15, 2025 MHT CET (PCB) Admit Card Date Tentative Apr 13, 2025 MHT CET (PCM) Admit Card Date Tentative Apr 19, 2025 MHT CET Exam Date Tentative Apr 22, 2025 -\\xa0May 17, 2025 MHT CET Result Date Tentative Jun 16, 2025\\n\\nExpired Events\\n\\nEvents Dates Last Date for Uploading Data Non-CAP Round [MAHCET - B.Tech] Oct 23, 2024 Last Date for Non-CAP Round Admissions  [MAHCET - B.Tech] Oct 23, 2024 Non-CAP Round Registration Date [MAHCET - B.Tech] Oct 01, 2024\\n\\nDo you think the Dates are wrong ? Report Here\\n\\nGCEK Cutoff 2024\\n\\nExams\\n\\nGCEK, MHT CET Cutoff 2024\\n\\nGCEK, MHT CET Cutoff 2024 for EWS Category is listed below. The overall cutoff percentile for MHT CET is 44.89 - 81.71\\n\\nCourses Round 1 (Cutoff percentile) B.Tech Electronics & Telecommunication Engineering 81.71 B.Tech Electrical Engineering 76.03 B.Tech Mechanical Engineering 44.89\\n\\nView MHT CET 2024 Cutoff\\n\\nGCEK, MAH MCA CET Cutoff 2024\\n\\nGCEK, MAH MCA CET Cutoff 2024 for GSCH Category is listed below. The overall cutoff marks for MAH MCA CET is 80.87\\n\\nCourses Round 1 (Cutoff marks) Round 2 (Cutoff marks) Round 3 (Cutoff marks) MCA 80.87 85.31 55.9\\n\\nView MAH MCA CET 2024 Cutoff\\n\\nDo you think the Cutoff is wrong ? Report Here\\n\\nGCEK Fees & Eligibility\\n\\nFull time Courses\\n\\nCourse Fees Eligibility Application Date Action B.Tech 5  Courses ₹88,453 (1st Year Fees) Check Details 10+2 with 50% + MHT CET 16 Jan - 28 Jul 2024 Apply Now M.Tech 7  Courses ₹88,993 (1st Year Fees) Check Details Pass in Graduation + GATE 9 July - 29 Jul 2024 Apply Now B.Tech {Lateral} 5  Courses ₹88,453 (1st Year Fees) Check Details 10+3 with 50% + MHT CET - Apply Now MCA ₹40,398 (1st Year Fees) Check Details Graduation + MAH MCA CET 6 July - 21 Jul 2024 Apply Now\\n\\nDo you think the Course details are wrong ? Report Here\\n\\nCOURSE ADMISSION LINK B.Tech Civil Engineering, Admission Link\\n\\nDo you think the data is wrong ? Report Here\\n\\nCourse Finder\\n\\nSearch from 20K+ Courses and 35+ Streams\\n\\nClear\\n\\nPopular Streams:\\n\\nDigital MarketingData ScienceComputer SciencePsychologyBusiness AnalyticsNursing Information Technology+6 More Streams\\n\\nPopular Courses:\\n\\nB.TechMBAMBBSME/M.TechB.ScBAB.ComBCABBAB.Sc (Nursing)\\n\\nWhy To Join GCEK - Reviews & Rating\\n\\n3.9\\n\\n(58 Verified Reviews)\\n\\nWrite a College Review\\n\\n& Win Monthly Prizes Up to ₹1 Lakh/-*\\n\\n5(38%)\\n\\n4(46%)\\n\\n3(9%)\\n\\n2(7%)\\n\\n1(0%)\\n\\nAcademic\\n\\n4.0\\n\\nFaculty\\n\\n3.8\\n\\nInfrastructure\\n\\n3.9\\n\\nAccommodation\\n\\n3.9\\n\\nSocial Life\\n\\n4.1\\n\\nPlacement\\n\\n3.5\\n\\nMost Popular Tags\\n\\nReset All Filter\\n\\nChello chape\\n\\n3.0Helpful\\n\\nB.Tech, Civil Engineering\\n\\nReviewed on Oct 20, 2024(Enrolled 2022)\\n\\nGCEK overall review\\n\\nLikes\\n\\nthe things i liked about this college is its campus .the college campus is around 35 acres including hostels .the college enviroment is very greenry and it is situated nearby market place.\\n\\nthe college provides various opportunities for their students where they learn about many things and also develops their skills in various fields.\\n\\nDislikes\\n\\nthe things i disliked about this college is its infrastructure,which is very old and they even did not think about for the renovation.\\n\\nmost of the students and teachers including college staffs communicate in their own language where students like us face language barriers most of the time.\\n\\nAdmission:\\n\\nas i said i found this college on CSAB NEUT councelling were and after some research and parents suggestions that for civil engg. this college is good, i add this college in preference list .other colleges like walchanchd college of engg.,COEP,VJTI i had added in my preference list.the addmission process was not that too difficult as the managemnt only verified my documents and after founding all good and fee submission the addmission was done.\\n\\n...Read More\\n\\nReply\\n\\nShare\\n\\nWrite a Colleges Review & Win Prizes Up to ₹1,00,000\\n\\nReport\\n\\nSubham Yadav\\n\\n3.6Helpful\\n\\nB.Tech, Electrical Engineering\\n\\nReviewed on Oct 4, 2024(Enrolled 2024)\\n\\nOverall review GCEK\\n\\nLikes\\n\\nThe best thing about this Institute is about its placements, most of the students gets placed every year and in electrical department its 100% placement.\\n\\nA good campus size, around 40 acres including a polytechnic Institute\\n\\nDislikes\\n\\nIf you have intrest in sports you gotta go little bit disappointment from the college Ground.\\n\\nMostly students and professors use marathi language for communication\\n\\nAdmission:\\n\\ni choosed this college over other because firtly this is a government college which i can afford and able to pay the fees. Secondly I got electrical branch where the placements Is 100% than other branches. For admission you have to clear MHT-CET exam or if you are eligible for CSAB NEUT also you can get admission. After the seat alotment you have to verify you documents and lastly have to pay fees.\\n\\n...Read More\\n\\nReply\\n\\nShare\\n\\nWrite a Colleges Review & Win Prizes Up to ₹1,00,000\\n\\nReport\\n\\nSarthak Desai\\n\\n3.7Helpful\\n\\nB.Tech, Civil Engineering\\n\\nReviewed on Jun 18, 2024(Enrolled 2020)\\n\\nNIT Nagpur A Comprehensive Review\\n\\nLikes\\n\\nThe faculties are very disciplined every lecture practical happens on time.\\n\\nyou would get sufficient resources like computer, books etc. to work with.\\n\\nDislikes\\n\\nTeacher student interactions are not that personal or intimate you will have to solve most problems on your own or with seniors help.\\n\\nhostels doesn't have washing machines either you have to wash the cloths or give it to a dhobi who charges money each time.\\n\\nAdmission:\\n\\n1. Eligibility - Btech in civil or mechanical from AICTE approved institute and min of 60% marks 2. Application portal - CCMT portal 3. EWS quota is available 4.Valid Gate score is requirerd for admission no additional exams.\\n\\n...Read More\\n\\nReply\\n\\nShare\\n\\nWrite a Colleges Review & Win Prizes Up to ₹1,00,000\\n\\nReport\\n\\nYash\\n\\n3.8Helpful\\n\\nB.Tech, Electrical Engineering\\n\\nReviewed on Jun 3, 2024(Enrolled 2023)\\n\\nGCEK\\n\\nLikes\\n\\nDiscipline, availability of various clubs.\\n\\nDislikes\\n\\nLack of permanent faculty members in college.\\n\\nAdmission:\\n\\nThe student who has given MHT-CET exam is eligible to apply for the admission rounds which are organized by the MHT-CET cell. All information can be obtained on CET Cell's official website. Reservation policy is there.\\n\\n...Read More\\n\\nReply\\n\\nShare\\n\\nWrite a Colleges Review & Win Prizes Up to ₹1,00,000\\n\\nReport\\n\\nSiddharth Sunil Chavan\\n\\n4.2Helpful\\n\\nB.Tech, Civil Engineering\\n\\nReviewed on May 28, 2024(Enrolled 2019)\\n\\nGCEK Review\\n\\nLikes\\n\\nGood campus for nurturing the day to day life\\n\\nGood faculty and student interaction for doubts clearing\\n\\nDislikes\\n\\nDelay in the clerical process of the staff\\n\\nLack of bit faculty in the civil department\\n\\nAdmission:\\n\\nEligibility criteria for the admission is MHT CET Score and 12th pass with min 65% Admission procedure is done as per the CET CELL and it is arranged by the CET CELL Improvement in the admission process would be proper explanation of the terms and conditions before regarding the scholarships and schemes\\n\\n...Read More\\n\\nReply\\n\\nShare\\n\\nWrite a Colleges Review & Win Prizes Up to ₹1,00,000\\n\\nReport\\n\\nAditya Patil\\n\\n4.8Helpful\\n\\nB.Tech, Electrical Engineering\\n\\nReviewed on May 18, 2024(Enrolled 2021)\\n\\n#MY GCEK\\n\\nLikes\\n\\nThe college has great infrastructure and great teachers\\n\\nGreat work in events around college and in the college\\n\\nDislikes\\n\\nAdmission process is lengthy and due to government college we have to wait in line\\n\\nSyllabus is outdated in college and needs more practical knowledge than theory\\n\\nAdmission:\\n\\nThe admission is based on the CET exam conducted in Maharashtra The eligibility of the course is a student should get 60 + in group pcm to qualify Application form can be found on the official website of the government college of Engineering Karad The frequency of exams is basically monthly according to semester courses and the exams are tough\\n\\n...Read More\\n\\nReply\\n\\nShare\\n\\nWrite a Colleges Review & Win Prizes Up to ₹1,00,000\\n\\nReport\\n\\nShubham\\n\\n3.0Helpful\\n\\nB.Tech, Information Technology\\n\\nReviewed on Dec 28, 2023(Enrolled 2019)\\n\\nGovernment College of Engineering, Karad Review\\n\\nLikes\\n\\nThe Campus area is great and large there is green everywhere.\\n\\nThe Placements are also good for IT almost everyone get placed in normal conditions.\\n\\nDislikes\\n\\nThere are some faculties who are not good in teaching.\\n\\nThe staff at Scholarship section behaves rudely and don't provide proper details if we asked.\\n\\nAdmission:\\n\\nEligibility : You have to complete 12 th Class and then give CET (Common Entrance Test) or JEE (Joint Entrance Examination) exam Admission Process : you have to fill CAP rounds in which you choose colleges and streams which you want to take admission. Then after allotement of CAP rounds you have to visit college which you have alloted in CAP round and by completing Admission Process you get admission. Fees : The fees for General Category : 85000 approximately, OBC : 42000 approximately and for other categories you can visit GCEK website.\\n\\n...Read More\\n\\nReply\\n\\nShare\\n\\nWrite a Colleges Review & Win Prizes Up to ₹1,00,000\\n\\nReport\\n\\nPravin Nalawade\\n\\n4.3\\n\\nB.Tech, Information Technology\\n\\nReviewed on May 20, 2023(Enrolled 2021)\\n\\nExploring Academic Excellence\\n\\nLikes\\n\\nDiscipline, freedom for sharing thoughts\\n\\nDislikes\\n\\nAcademic curricular little bit old and time to change it.\\n\\nAdmission:\\n\\nEligibility of the Course: First you want to give MHT-CET which is the entrance exam of Maharashtra state for taking admission in Maharashtra state engineering College. Form of this exam release in January on the MHT-CET official website.\\n\\n...Read More\\n\\nReply\\n\\nShare\\n\\nWrite a Colleges Review & Win Prizes Up to ₹1,00,000\\n\\nReport\\n\\nAdiya\\n\\n3.3\\n\\nB.Tech, Electronics & Telecommunication Engineering\\n\\nReviewed on Nov 8, 2022(Enrolled 2021)\\n\\nLife In GCEK Satara.\\n\\nAdmission:\\n\\nThe admission process is very easy and understandable to any individual and it is in offline mode. The college fees and dates are published on the official college website. As a govt. college reservation is there for the reserved category. But the admission process is too time-consuming and has some issues with online fee payments.\\n\\n...Read More\\n\\nReply\\n\\nShare\\n\\nWrite a Colleges Review & Win Prizes Up to ₹1,00,000\\n\\nReport\\n\\nAbhishek Shivaji Bhagat\\n\\n3.8Helpful\\n\\nB.Tech, Electrical Engineering\\n\\nReviewed on Oct 17, 2022(Enrolled 2021)\\n\\nGCE karad\\n\\nAdmission:\\n\\nTo take addmission to this college you need to clear the 12th class And need to gave CET exam. You need above 90% in Cet to take addmission to this college. There is a cast reservation. According to the reservation, there are different sets for each category.\\n\\n...Read More\\n\\nReply\\n\\nShare\\n\\nWrite a Colleges Review & Win Prizes Up to ₹1,00,000\\n\\nReport\\n\\nDo you think the data is wrong ? Report Here\\n\\nHow likely are you to recommend collegedunia.com to a friend or a colleague?\\n\\nGCEK Latest News\\n\\nShivaji University Releases PhD Interview and Spiral Schedule for Engineering and Pharmacy; Check here\\n\\nWritten ByShashank Mishraon Dec 21, 2024\\n\\nShivaji University Result 2024 @unishivaji.ac.in: Check UG, PG Result\\n\\nWritten ByCollegedunia Teamon Jan 25, 2024\\n\\nShivaji University Hall Ticket 2023 (Released) @unishivaji.ac.in; Check SUK B.A, BSc, B.Com Admit Card Direct Link Here\\n\\nWritten ByCollegedunia Teamon May 4, 2023\\n\\nView All News\\n\\nDiscover More Colleges\\n\\nYashoda Technical Campus - [YTC]\\n\\nSatara\\n\\n4.1(4)\\n\\n₹106000First year Fees\\n\\nArvind Gavali College of Engineering - [AGCE]\\n\\nSatara\\n\\n3.8(9)\\n\\n₹72500First year Fees\\n\\nDnyanshree Institute of Engineering & Technology - [DIET]\\n\\nSatara\\n\\n4.2(10)\\n\\n₹70000First year Fees\\n\\nPhaltan Education Society's College of Engineering - [PESCOE]\\n\\nSatara\\n\\n4.8(1)\\n\\n₹85000First year Fees\\n\\nKarmaveer Bhaurao Patil College of Engineering - [KBPCOES]\\n\\nSatara\\n\\n3.8(17)\\n\\n₹85000First year Fees\\n\\nSatara College Of Engineering And Management\\n\\nSatara\\n\\n₹45000First year Fees\\n\\nComments\\n\\nNo Comments To Show\\n\\nAre You Interested in this College?\\n\\nWrite a Review & Win Monthly Prizes upto ₹100000*\\n\\n“Extra Cash for Selected Colleges”\\n\\nWinners Will Get\\n\\nStart Writing\\n\\nPhotos\\n\\nView All Photos\\n\\nTop Courses\\n\\nB.Tech Information Technology\\n\\nCourse Duration: 4 Years\\n\\n₹88224 First Year Fees\\n\\nB.Tech Electronics & Telecommunication Engineering\\n\\nCourse Duration: 4 Years\\n\\n₹88224 First Year Fees\\n\\nB.Tech Civil Engineering\\n\\nCourse Duration: 4 Years\\n\\n₹88224 First Year Fees\\n\\nView All Courses\\n\\nNews\\n\\nShivaji University Releases PhD Interview and Spiral Schedule for Engineering and Pharmacy; Check here\\n\\n1 week Ago\\n\\nShivaji University Result 2024 @unishivaji.ac.in: Check UG, PG Result\\n\\nJan 25, 2024\\n\\nShivaji University Hall Ticket 2023 (Released) @unishivaji.ac.in; Check SUK B.A, BSc, B.Com Admit Card Direct Link Here\\n\\nMay 4, 2023\\n\\nMHT CET 2023 Seat Matrix for Cap Round 1 Released; Check Details Here\\n\\nJul 21, 2023\\n\\nMHT CET 2023 Final Merit List Released, CAP Round I Counselling Started; Check Details Here\\n\\nJul 21, 2023\\n\\nMHT CET BDes Counselling 2023 Schedule Released; Check Details Here\\n\\nJul 18, 2023\\n\\nMAH CET BDes Merit List 2023 Out @bdesigncap2023.mahacet.org; Check Direct Link Here\\n\\nJul 16, 2023\\n\\nFaculties\\n\\nProf. Yuwaraj\\n\\nProfessor, Department of Civil Engineeri ng\\n\\nProf. Ashok Pise\\n\\nProfessor, Department of Mechanical Engineering\\n\\nProf. Madhav Kumthekar\\n\\nProfessor, Department of Civil Engineering\\n\\nView All Faculties\\n\\nLearn More About Courses\\n\\nB.Tech Information Technology\\n\\nB.Tech Electronics & Telecommunication Engineering\\n\\nB.Tech Civil Engineering\\n\\nMCA\\n\\nB.Tech Electrical Engineering\\n\\nStudent Also Visited\\n\\nWalchand College of Engineering - [WCE]\\n\\n4.1(103 Reviews)\\n\\nBE/B.Tech - Bachelor of Technology\\n\\n₹84935 First year Fees\\n\\nKIT's College of Engineering\\n\\n4.2(151 Reviews)\\n\\nBE/B.Tech - Bachelor of Technology\\n\\n₹97500 First year Fees\\n\\nGovernment College of Engineering and Research\\n\\n3.6(42 Reviews)\\n\\nBE/B.Tech - Bachelor of Technology\\n\\n₹16015 First year Fees\\n\\nD. Y. Patil College of Engineering\\n\\n3.9(168 Reviews)\\n\\nBE/B.Tech - Bachelor of Technology\\n\\n₹123998 First year Fees\\n\\nShri Guru Gobind Singhji Institute of Engineering and Technology - [SGGSIE&T]\\n\\n3.9(150 Reviews)\\n\\nBE/B.Tech - Bachelor of Technology\\n\\n₹83107 First year Fees\\n\\nDKTE Society's Textile and Engineering Institute - [DKTE]\\n\\n4.1(89 Reviews)\\n\\nBE/B.Tech - Bachelor of Technology\\n\\n₹106000 First year Fees\\n\\nAnnasaheb Dange College of Engineering & Technology - [ADCET]\\n\\n4.1(46 Reviews)\\n\\nBE/B.Tech - Bachelor of Technology\\n\\n₹107500 First year Fees\\n\\nGovernment College of Engineering - [GCOEA]\\n\\n3.7(134 Reviews)\\n\\nBE/B.Tech - Bachelor of Technology\\n\\n₹85160 First year Fees\\n\\nPimpri Chinchwad College of Engineering - [PCCOE]\\n\\n4(266 Reviews)\\n\\nBE/B.Tech - Bachelor of Technology\\n\\n₹160000 First year Fees\\n\\nGovernment College of Engineering - [GCOEN]\\n\\n3.8(45 Reviews)\\n\\nBE/B.Tech - Bachelor of Technology\\n\\n₹27836 First year Fees\\n\\nAISSMS College of Engineering - [AISSMSCOE]\\n\\n4.1(150 Reviews)\\n\\nBE/B.Tech - Bachelor of Technology\\n\\n₹136000 First year Fees\\n\\nGovernment College of Engineering - [GCOE]\\n\\n3.3(69 Reviews)\\n\\nBE/B.Tech - Bachelor of Technology\\n\\n₹82946 First year Fees\\n\\nGovernment College of Engineering - [GECA]\\n\\n3.9(130 Reviews)\\n\\nBE/B.Tech - Bachelor of Technology\\n\\n₹65839 First year Fees\\n\\nVishwakarma Institute of Technology\\n\\n3.9(539 Reviews)\\n\\nBE/B.Tech - Bachelor of Technology\\n\\n₹192945 First year Fees\\n\\nK.E.Society's Rajarambapu Institute of Technology, Rajaramnagar\\n\\n4.1(122 Reviews)\\n\\nBE/B.Tech - Bachelor of Technology\\n\\n₹157000 First year Fees\\n\\nGovernment College Of Engineering\\n\\n3.1(7 Reviews)\\n\\nBE/B.Tech - Bachelor of Technology\\n\\n₹24701 First year Fees\\n\\nSUBSCRIBE TO OUR NEWS LETTER\\n\\nCOLLEGE NOTIFICATIONS\\n\\nEXAM NOTIFICATIONS\\n\\nNEWS UPDATES\\n\\nTOP COLLEGES\\n\\nMBA\\n\\nBtech\\n\\nMS\\n\\nBBA\\n\\nMtech\\n\\nMA\\n\\nBA\\n\\nTOP UNIVERSITIES\\n\\nengineering\\n\\nmanagement\\n\\nmedical\\n\\nlaw\\n\\ncommerce\\n\\nscience\\n\\narts\\n\\nTop Exam\\n\\nGMAT\\n\\nGRE\\n\\nIELTS\\n\\nDET\\n\\nPTE\\n\\nSAT\\n\\nTOEFL\\n\\nstudy abroad\\n\\ncanada\\n\\nusa\\n\\nuk\\n\\nuae\\n\\naustralia\\n\\ngermany\\n\\nsweden\\n\\nireland\\n\\nnew zealand\\n\\nhong kong\\n\\nsingapore\\n\\nmalaysia\\n\\nnetherlands\\n\\nitaly\\n\\nother links\\n\\nabout collegedunia\\n\\ncontact us\\n\\nadvertising\\n\\ncareer\\n\\nterms & conditions\\n\\nDownload the Collegedunia app on\\n\\n© 2024 Collegedunia Web Pvt. Ltd. All Rights Reserved\\n\\nMHT CET 2024\\n\\nMAH MCA CET 2024\")]\n"
          ]
        }
      ]
    },
    {
      "cell_type": "code",
      "source": [
        "processed_data=data[0].page_content"
      ],
      "metadata": {
        "id": "oMk9J1xntNSU"
      },
      "execution_count": 29,
      "outputs": []
    },
    {
      "cell_type": "code",
      "source": [
        "processed_data"
      ],
      "metadata": {
        "colab": {
          "base_uri": "https://localhost:8080/",
          "height": 191
        },
        "id": "-z1IlMiGanLU",
        "outputId": "0731a36e-a927-4a47-bfdd-9c8e00849c5c"
      },
      "execution_count": 30,
      "outputs": [
        {
          "output_type": "execute_result",
          "data": {
            "text/plain": [
              "\"Select Goal &\\n\\nCity\\n\\nSelect Goal\\n\\nWrite a ReviewGet Upto ₹500*\\n\\nExplore\\n\\nExplore More\\n\\nStudy AbroadGet upto 50% discount on Visa Fees\\n\\nTop Universities & Colleges\\n\\nAbroad Exams\\n\\nTop Courses\\n\\nExams\\n\\nRead College Reviews\\n\\nNews\\n\\nAdmission Alerts 2024\\n\\nEducation Loan\\n\\nInstitute (Counselling, Coaching and More)\\n\\nAsk a Question\\n\\nCollege Predictor\\n\\nTest Series\\n\\nPractice Questions\\n\\nCourse Finder\\n\\nScholarship\\n\\nAll Courses\\n\\nB.Tech\\n\\nMBA\\n\\nM.Tech\\n\\nMBBS\\n\\nB.Com\\n\\nB.Sc\\n\\nB.Sc (Nursing)\\n\\nBA\\n\\nBBA\\n\\nBCA\\n\\nCourse Finder\\n\\nAll Courses\\n\\nB.Tech\\n\\nMBA\\n\\nM.Tech\\n\\nMBBS\\n\\nB.Com\\n\\nB.Sc\\n\\nB.Sc (Nursing)\\n\\nBA\\n\\nBBA\\n\\nBCA\\n\\nB.Arch\\n\\nB.Ed\\n\\nB.Pharm\\n\\nB.Sc (Agriculture)\\n\\nBAMS\\n\\nLLB\\n\\nLLM\\n\\nM.Pharm\\n\\nM.Sc\\n\\nMCA\\n\\nBachelor of Physiotherapy\\n\\nB.Des\\n\\nM.Planning\\n\\nB.Planning\\n\\nAgriculture\\n\\nArts\\n\\nCommerce\\n\\nComputer Applications\\n\\nDesign\\n\\nEngineering\\n\\nLaw\\n\\nManagement\\n\\nMedical\\n\\nParamedical\\n\\nPharmacy\\n\\nScience\\n\\nArchitecture\\n\\nAviation\\n\\nDental\\n\\nEducation\\n\\nHotel Management\\n\\nMass Communications\\n\\nVeterinary Sciences\\n\\nAnimation\\n\\nGovernment College of Engineering: Admission 2024, Cutoff, Courses, Fees, Eligibility\\n\\nSatara, MaharashtraEstd 1960 Shivaji University, Kolhapur\\n\\n#89 For B.Tech By The Week 2024\\n\\n+5 More\\n\\nCourse Finder\\n\\nCompare\\n\\n3.9\\n\\n(58 Reviews)\\n\\nClaim this college\\n\\nGovernment College of Engineering - [GCEK] Latest Updates\\n\\n29 Dec, 2024\\n\\nMAH MCA CET 2025 Registration has begun at mahacet.org for admission to MCA program for 2025-26. The last date to apply is January 25, 2025 (11:59 PM). MAH MCA CET 2025 will be conducted tentatively on March 23, 2025.\\n\\n03 Dec, 2024\\n\\nMHT CET 2025 Exam Dates have been announced by the Maharashtra State CET Cell for admission to BE/ B.Tech/ B.Pharm Courses for the academic year 2025-26. MHT CET 2025 will be conducted tentatively from April 19 to April 27, 2025 for PCM Group and April 9 to April 17, 2025 for PCB Group. Check Schedule Here. Candidates can check the detailed syllabus and latest updates about the exam @cetcell.mahacet.org.\\n\\n...Read More\\n\\nWritten By Collegedunia Team on, Dec 29, 2024\\n\\nEstablished in 1960, Government College of Engineering Karad is an autonomous technical institute situated in the state of Maharashtra. At present, it offers undergraduate, postgraduate and research level programs viz. B.Tech., M.Tech., MCA and Ph.D.\\n\\nSeats are allocated on the basis of performance in the relevant entrance examination (JEE/ GATE). The DTE is the final authority in selection.\\n\\nReservation is in accordance with regulations of the Government of India, with relaxations given in minimum qualifications as well.\\n\\nStudents can apply through online or offline mode, depending upon the course.\\n\\nAdmission Highlights:\\n\\nName of the University Government College of Engineering, Karad University Type Public Basic Admission Criteria Entrance-Based Last Date to Apply To be announced Application Mode Online / Offline Entrance Examination JEE (UG) GATE (PG) Counselling Yes Counselling Date Announced at time of merit list Scholarship Selected cases\\n\\nColleges Application Forms 2024\\n\\n6.4\\n\\nBest in Infrastructure Lovely Professional University - [LPU] Jalandhar, Punjab\\n\\nNAAC A++ & NIRF Rank 27th\\n\\n3 Crore Highest Package\\n\\nApply Now\\n\\n4.6\\n\\nBest in Placements NIIT University - [NU] Neemrana, Rajasthan\\n\\n100% Placement\\n\\n44.27 LPA CTC\\n\\nApply Now\\n\\n4.9\\n\\nBest in Faculty Dayananda Sagar University - [DSU] Bangalore, Karnataka\\n\\nHighest CTC 35 LPA\\n\\n450+ Companies Visited\\n\\nApply Now\\n\\n4.0\\n\\nBest in Faculty SVKM's Narsee Monjee Institute of Management Studies - [NMIMS University] Navi Mumbai, Maharashtra\\n\\n₹4.25 L 1st Year Fees\\n\\nBE/B.Tech\\n\\nApply Now\\n\\nWrite a Review and Earn Upto ₹500/-\\n\\nStart Writing\\n\\n4.1\\n\\nBest in Social Life GH Raisoni College of Engineering - [GHRCE], Nagpur Nagpur, Maharashtra\\n\\n₹1.39 L 1st Year Fees\\n\\nBE/B.Tech\\n\\nApply Now\\n\\nKnow Your Chances of Admission\\n\\nPredict Now\\n\\n4.1\\n\\nBest in Infrastructure Mukesh Patel School of Technology Management and Engineering - [MPSTME] Mumbai, Maharashtra\\n\\n₹3.50 L 1st Year Fees\\n\\nBE/B.Tech\\n\\nApply Now\\n\\nFind Courses with Help of AI Based Course Finder\\n\\nStart Now\\n\\n4.1\\n\\nBest in Social Life Amity University Mumbai, Maharashtra\\n\\n₹2.84 L 1st Year Fees\\n\\nBE/B.Tech\\n\\nApply Now\\n\\n3.8\\n\\nBest in Social Life Bharati Vidyapeeth Deemed University Pune Pune, Maharashtra\\n\\n₹1.57 L 1st Year Fees\\n\\nBE/B.Tech\\n\\nApply Now\\n\\n4.0\\n\\nBest in Academics Fr. Conceicao Rodrigues College of Engineering - [CRCE] Mumbai, Maharashtra\\n\\n₹1.81 L 1st Year Fees\\n\\nBE/B.Tech\\n\\nApply Now\\n\\n4.1\\n\\nBest in Placements Sardar Patel Institute of Technology - [SPIT] Mumbai, Maharashtra\\n\\n₹1.96 L 1st Year Fees\\n\\nBE/B.Tech\\n\\nApply Now\\n\\nGovernment College of Engineering Karad B.Tech Admission 2024\\n\\nGovernment College of Engineering Karad offers admission B.Tech. programs on the basis of performance in JEE Advanced, national level entrance exam conducted collectively by the IITs. Candidates should have passed at 10+2 level from the science stream to be eligible to apply.\\n\\nJEE Main is a 3-hour paper which consists of 90 questions covering all relevant subject matter to the engineering field.\\n\\nPhysics, Chemistry and Mathematics are given equal weightage.\\n\\nThe questions are objective type.\\n\\nFour marks are given for every correct response, and 1/4thmark is deducted for incorrect response.\\n\\nCourse Specialization Minimum Eligibility Selection Process B.Tech. Civil Engineering Candidates must have a pass at the 10+2 level from the Science stream with PCM background from a recognized board in the country. Appearance in JEE is mandatory. JEE score / rank Mechanical Engineering Electrical Engineering Electronics and Telecommunication Engineering Information Technology\\n\\nCandidates seeking admission to the B.Tech program offered at Government College of Engineering Karad may do so by applying online through the official website.\\n\\nSelection is based on merit, depending on score from JEE examination under the following categories:\\n\\nMaharashtra State Category\\n\\nFor those who wish to apply under Maharashtra State category, candidates must be Indian citizens who cleared their 10+2 from Maharashtra State Board. Such candidates are required to have a Science background with 50% aggregate (45% for reserved categories) along with a positive composite score when accounting for 50% of the marks scored in JEE, and 50% of marks scored in Class XII.\\n\\nAll India Category\\n\\nFor candidates applying under All India category, they are required to have cleared 10+2 examination from State Board or the equivalent. They are required to have a science background with 50% aggregate (45% for reserved categories). They must also possess an All India Rank in JEE.\\n\\nGovernment College of Engineering Karad B.Tech Admission 2024\\n\\nGovernment College of Engineering Karad offers admission B.Tech. programs on the basis of performance in JEE Advanced, national level entrance exam conducted collectively by the IITs. Candidates should have passed at 10+2 level from the science stream to be eligible to apply.\\n\\nJEE Main is a 3-hour paper which consists of 90 questions covering all relevant subject matter to the engineering field.\\n\\nPhysics, Chemistry and Mathematics are given equal weightage.\\n\\nThe questions are objective type.\\n\\nFour marks are given for every correct response, and 1/4thmark is deducted for incorrect response.\\n\\nCourse Specialization Minimum Eligibility Selection Process B.Tech. Civil Engineering Candidates must have a pass at the 10+2 level from the Science stream with PCM background from a recognized board in the country. Appearance in JEE is mandatory. JEE score / rank Mechanical Engineering Electrical Engineering Electronics and Telecommunication Engineering Information Technology\\n\\nCandidates seeking admission to the B.Tech program offered at Government College of Engineering Karad may do so by applying online through the official website.\\n\\nSelection is based on merit, depending on score from JEE examination under the following categories:\\n\\nMaharashtra State Category\\n\\nFor those who wish to apply under Maharashtra State category, candidates must be Indian citizens who cleared their 10+2 from Maharashtra State Board. Such candidates are required to have a Science background with 50% aggregate (45% for reserved categories) along with a positive composite score when accounting for 50% of the marks scored in JEE, and 50% of marks scored in Class XII.\\n\\nAll India Category\\n\\nFor candidates applying under All India category, they are required to have cleared 10+2 examination from State Board or the equivalent. They are required to have a science background with 50% aggregate (45% for reserved categories). They must also possess an All India Rank in JEE.\\n\\nGovernment College of Engineering Karad PG Admission 2024\\n\\nGovernment College of Engineering Karad offers admission to M.Tech. program on the basis of performance in the national level entrance conducted collectively by the IITs - GATE. Admission to MCA course is done through counselling conducted by DTE Maharashtra. Candidates should have passed at the undergraduate level from the relevant stream to be eligible to apply.\\n\\nGATE consists of a 3-hour paper with 65 questions covering all relevant subject matter to the field as studied at the undergraduate level.\\n\\nSections are included on general aptitude as well as technical aspects.\\n\\nThe questions are objective type or numeric type.\\n\\nOne or two marks is given for every correct response, and 1/3rd mark is deducted for incorrect response.\\n\\nCourse Specialization Minimum Eligibility Selection Process M.Tech. Civil Structural Engineering Candidates must have a pass at the undergraduate level (minimum 60%) in the relevant discipline of B.Tech. / B.E. from a recognized university. Appearance in GATE is necessary. GATE score / rank Mechanical Production Engineering Civil Construction Management Mechanical Heat Power Electrical Power Systems MCA Computer Applications Candidates must have a pass at the undergraduate level (minimum 60%) in the relevant discipline from a recognized university. Merit-based\\n\\nCandidates seeking admission to the postgraduate programs at Government College of Engineering Karad may do so by applying online through the official website.\\n\\nReservation is in accordance with the regulations of the state government\\n\\nGATE score is considered according to the category specified at the time of applying.\\n\\nCandidates are considered for admission on the basis of the GATE score, with seats allocated through the DTE centralized allotment process.\\n\\nGovernment College of Engineering Karad PG Admission 2024\\n\\nGovernment College of Engineering Karad offers admission to M.Tech. program on the basis of performance in the national level entrance conducted collectively by the IITs - GATE. Admission to MCA course is done through counselling conducted by DTE Maharashtra. Candidates should have passed at the undergraduate level from the relevant stream to be eligible to apply.\\n\\nGATE consists of a 3-hour paper with 65 questions covering all relevant subject matter to the field as studied at the undergraduate level.\\n\\nSections are included on general aptitude as well as technical aspects.\\n\\nThe questions are objective type or numeric type.\\n\\nOne or two marks is given for every correct response, and 1/3rd mark is deducted for incorrect response.\\n\\nCourse Specialization Minimum Eligibility Selection Process M.Tech. Civil Structural Engineering Candidates must have a pass at the undergraduate level (minimum 60%) in the relevant discipline of B.Tech. / B.E. from a recognized university. Appearance in GATE is necessary. GATE score / rank Mechanical Production Engineering Civil Construction Management Mechanical Heat Power Electrical Power Systems MCA Computer Applications Candidates must have a pass at the undergraduate level (minimum 60%) in the relevant discipline from a recognized university. Merit-based\\n\\nCandidates seeking admission to the postgraduate programs at Government College of Engineering Karad may do so by applying online through the official website.\\n\\nReservation is in accordance with the regulations of the state government\\n\\nGATE score is considered according to the category specified at the time of applying.\\n\\nCandidates are considered for admission on the basis of the GATE score, with seats allocated through the DTE centralized allotment process.\\n\\nGovernment College of Engineering Karad Ph.D Admission 2024\\n\\nThe Institute also offers research programs under different specializations. The selection process is done on the basis of their performance in the written test, and personal interview. Candidates must be qualified from a recognized institute to apply.\\n\\nThe selection process is designed to test the aptitude of the candidate towards the course for which the application has been received. This includes research methodology, and subject specific knowledge relevant to the course.\\n\\nCourse Specilization Eligibility Selection Criteria Ph.D. Civil Engineering Candidates must have a valid Bachelor degree as well as Masters’ degree (minimum 60%) in a relevant discipline from a recognized university. A valid GATE score is also required. Entrance examination / personal interview / academic performance Structural Engineering Mechanical Engineering\\n\\nCandidates seeking admission to the research program offered at Government College of Engineering Karad may do so by applying online through the official website.\\n\\nCandidates should possess Master’s degree or M.Phil degree from a recognized institution in a relevant field.\\n\\nReservation is in accordance with the regulations of the Government of India.\\n\\nA valid GATE score or UGC / JRF qualification or the equivalent fellowship is required.\\n\\nGovernment College of Engineering Karad Ph.D Admission 2024\\n\\nThe Institute also offers research programs under different specializations. The selection process is done on the basis of their performance in the written test, and personal interview. Candidates must be qualified from a recognized institute to apply.\\n\\nThe selection process is designed to test the aptitude of the candidate towards the course for which the application has been received. This includes research methodology, and subject specific knowledge relevant to the course.\\n\\nCourse Specilization Eligibility Selection Criteria Ph.D. Civil Engineering Candidates must have a valid Bachelor degree as well as Masters’ degree (minimum 60%) in a relevant discipline from a recognized university. A valid GATE score is also required. Entrance examination / personal interview / academic performance Structural Engineering Mechanical Engineering\\n\\nCandidates seeking admission to the research program offered at Government College of Engineering Karad may do so by applying online through the official website.\\n\\nCandidates should possess Master’s degree or M.Phil degree from a recognized institution in a relevant field.\\n\\nReservation is in accordance with the regulations of the Government of India.\\n\\nA valid GATE score or UGC / JRF qualification or the equivalent fellowship is required.\\n\\nGovernment College of Engineering Karad Application Process 2024\\n\\nThe application process varies for different courses offered by the institute.\\n\\nFor JEE and GATE:\\n\\nA notification will be released by the IIT, following which the application forms will be officially released.\\n\\nThe registration link will be available from the official JEE / GATE – JAM website.\\n\\nCandidates must submit the duly filled-in form, along with scanned photograph and photocopies of marksheet\\n\\nOnline payment of the application fee can be done through net banking.\\n\\nFor DTE Counselling:\\n\\nThe application fee of INR 700 (INR 500 for reserved categories) should be paid to acquire the application kit\\n\\nThe kit contains an application ID and password, which can be used to access the form from the official website\\n\\nThe form must be duly filled-in, clearly stating qualifications and work experience, and submitted along with all required photocopies of original documents.\\n\\nThe college can be contacted at:\\n\\nGovernment College of Engineering, Vidyanagar, Karad Dist. Satara - 415124 Maharashtra INDIA\\n\\nRead Less\\n\\nDo you think the Admission details are wrong ? Report Here\\n\\nGCEK Upcoming Application Dates 2024\\n\\nImportant Events\\n\\nEvents Dates MHT CET Registration Timeline Tentative Jan 16, 2025 -\\xa0Mar 15, 2025 MHT CET (PCB) Admit Card Date Tentative Apr 13, 2025 MHT CET (PCM) Admit Card Date Tentative Apr 19, 2025 MHT CET Exam Date Tentative Apr 22, 2025 -\\xa0May 17, 2025 MHT CET Result Date Tentative Jun 16, 2025\\n\\nExpired Events\\n\\nEvents Dates Last Date for Non-CAP Round Admissions  [MAHCET - B.Tech] Oct 23, 2024 Last Date for Uploading Data Non-CAP Round [MAHCET - B.Tech] Oct 23, 2024 Last Date for Non-CAP Round Admissions  [MAHCET - MCA] Oct 23, 2024\\n\\nImportant Events\\n\\nEvents Dates MHT CET Registration Timeline Tentative Jan 16, 2025 -\\xa0Mar 15, 2025 MHT CET (PCB) Admit Card Date Tentative Apr 13, 2025 MHT CET (PCM) Admit Card Date Tentative Apr 19, 2025 MHT CET Exam Date Tentative Apr 22, 2025 -\\xa0May 17, 2025 MHT CET Result Date Tentative Jun 16, 2025\\n\\nExpired Events\\n\\nEvents Dates Last Date for Uploading Data Non-CAP Round [MAHCET - B.Tech] Oct 23, 2024 Last Date for Non-CAP Round Admissions  [MAHCET - B.Tech] Oct 23, 2024 Non-CAP Round Registration Date [MAHCET - B.Tech] Oct 01, 2024\\n\\nDo you think the Dates are wrong ? Report Here\\n\\nGCEK Cutoff 2024\\n\\nExams\\n\\nGCEK, MHT CET Cutoff 2024\\n\\nGCEK, MHT CET Cutoff 2024 for EWS Category is listed below. The overall cutoff percentile for MHT CET is 44.89 - 81.71\\n\\nCourses Round 1 (Cutoff percentile) B.Tech Electronics & Telecommunication Engineering 81.71 B.Tech Electrical Engineering 76.03 B.Tech Mechanical Engineering 44.89\\n\\nView MHT CET 2024 Cutoff\\n\\nGCEK, MAH MCA CET Cutoff 2024\\n\\nGCEK, MAH MCA CET Cutoff 2024 for GSCH Category is listed below. The overall cutoff marks for MAH MCA CET is 80.87\\n\\nCourses Round 1 (Cutoff marks) Round 2 (Cutoff marks) Round 3 (Cutoff marks) MCA 80.87 85.31 55.9\\n\\nView MAH MCA CET 2024 Cutoff\\n\\nDo you think the Cutoff is wrong ? Report Here\\n\\nGCEK Fees & Eligibility\\n\\nFull time Courses\\n\\nCourse Fees Eligibility Application Date Action B.Tech 5  Courses ₹88,453 (1st Year Fees) Check Details 10+2 with 50% + MHT CET 16 Jan - 28 Jul 2024 Apply Now M.Tech 7  Courses ₹88,993 (1st Year Fees) Check Details Pass in Graduation + GATE 9 July - 29 Jul 2024 Apply Now B.Tech {Lateral} 5  Courses ₹88,453 (1st Year Fees) Check Details 10+3 with 50% + MHT CET - Apply Now MCA ₹40,398 (1st Year Fees) Check Details Graduation + MAH MCA CET 6 July - 21 Jul 2024 Apply Now\\n\\nDo you think the Course details are wrong ? Report Here\\n\\nCOURSE ADMISSION LINK B.Tech Civil Engineering, Admission Link\\n\\nDo you think the data is wrong ? Report Here\\n\\nCourse Finder\\n\\nSearch from 20K+ Courses and 35+ Streams\\n\\nClear\\n\\nPopular Streams:\\n\\nDigital MarketingData ScienceComputer SciencePsychologyBusiness AnalyticsNursing Information Technology+6 More Streams\\n\\nPopular Courses:\\n\\nB.TechMBAMBBSME/M.TechB.ScBAB.ComBCABBAB.Sc (Nursing)\\n\\nWhy To Join GCEK - Reviews & Rating\\n\\n3.9\\n\\n(58 Verified Reviews)\\n\\nWrite a College Review\\n\\n& Win Monthly Prizes Up to ₹1 Lakh/-*\\n\\n5(38%)\\n\\n4(46%)\\n\\n3(9%)\\n\\n2(7%)\\n\\n1(0%)\\n\\nAcademic\\n\\n4.0\\n\\nFaculty\\n\\n3.8\\n\\nInfrastructure\\n\\n3.9\\n\\nAccommodation\\n\\n3.9\\n\\nSocial Life\\n\\n4.1\\n\\nPlacement\\n\\n3.5\\n\\nMost Popular Tags\\n\\nReset All Filter\\n\\nChello chape\\n\\n3.0Helpful\\n\\nB.Tech, Civil Engineering\\n\\nReviewed on Oct 20, 2024(Enrolled 2022)\\n\\nGCEK overall review\\n\\nLikes\\n\\nthe things i liked about this college is its campus .the college campus is around 35 acres including hostels .the college enviroment is very greenry and it is situated nearby market place.\\n\\nthe college provides various opportunities for their students where they learn about many things and also develops their skills in various fields.\\n\\nDislikes\\n\\nthe things i disliked about this college is its infrastructure,which is very old and they even did not think about for the renovation.\\n\\nmost of the students and teachers including college staffs communicate in their own language where students like us face language barriers most of the time.\\n\\nAdmission:\\n\\nas i said i found this college on CSAB NEUT councelling were and after some research and parents suggestions that for civil engg. this college is good, i add this college in preference list .other colleges like walchanchd college of engg.,COEP,VJTI i had added in my preference list.the addmission process was not that too difficult as the managemnt only verified my documents and after founding all good and fee submission the addmission was done.\\n\\n...Read More\\n\\nReply\\n\\nShare\\n\\nWrite a Colleges Review & Win Prizes Up to ₹1,00,000\\n\\nReport\\n\\nSubham Yadav\\n\\n3.6Helpful\\n\\nB.Tech, Electrical Engineering\\n\\nReviewed on Oct 4, 2024(Enrolled 2024)\\n\\nOverall review GCEK\\n\\nLikes\\n\\nThe best thing about this Institute is about its placements, most of the students gets placed every year and in electrical department its 100% placement.\\n\\nA good campus size, around 40 acres including a polytechnic Institute\\n\\nDislikes\\n\\nIf you have intrest in sports you gotta go little bit disappointment from the college Ground.\\n\\nMostly students and professors use marathi language for communication\\n\\nAdmission:\\n\\ni choosed this college over other because firtly this is a government college which i can afford and able to pay the fees. Secondly I got electrical branch where the placements Is 100% than other branches. For admission you have to clear MHT-CET exam or if you are eligible for CSAB NEUT also you can get admission. After the seat alotment you have to verify you documents and lastly have to pay fees.\\n\\n...Read More\\n\\nReply\\n\\nShare\\n\\nWrite a Colleges Review & Win Prizes Up to ₹1,00,000\\n\\nReport\\n\\nSarthak Desai\\n\\n3.7Helpful\\n\\nB.Tech, Civil Engineering\\n\\nReviewed on Jun 18, 2024(Enrolled 2020)\\n\\nNIT Nagpur A Comprehensive Review\\n\\nLikes\\n\\nThe faculties are very disciplined every lecture practical happens on time.\\n\\nyou would get sufficient resources like computer, books etc. to work with.\\n\\nDislikes\\n\\nTeacher student interactions are not that personal or intimate you will have to solve most problems on your own or with seniors help.\\n\\nhostels doesn't have washing machines either you have to wash the cloths or give it to a dhobi who charges money each time.\\n\\nAdmission:\\n\\n1. Eligibility - Btech in civil or mechanical from AICTE approved institute and min of 60% marks 2. Application portal - CCMT portal 3. EWS quota is available 4.Valid Gate score is requirerd for admission no additional exams.\\n\\n...Read More\\n\\nReply\\n\\nShare\\n\\nWrite a Colleges Review & Win Prizes Up to ₹1,00,000\\n\\nReport\\n\\nYash\\n\\n3.8Helpful\\n\\nB.Tech, Electrical Engineering\\n\\nReviewed on Jun 3, 2024(Enrolled 2023)\\n\\nGCEK\\n\\nLikes\\n\\nDiscipline, availability of various clubs.\\n\\nDislikes\\n\\nLack of permanent faculty members in college.\\n\\nAdmission:\\n\\nThe student who has given MHT-CET exam is eligible to apply for the admission rounds which are organized by the MHT-CET cell. All information can be obtained on CET Cell's official website. Reservation policy is there.\\n\\n...Read More\\n\\nReply\\n\\nShare\\n\\nWrite a Colleges Review & Win Prizes Up to ₹1,00,000\\n\\nReport\\n\\nSiddharth Sunil Chavan\\n\\n4.2Helpful\\n\\nB.Tech, Civil Engineering\\n\\nReviewed on May 28, 2024(Enrolled 2019)\\n\\nGCEK Review\\n\\nLikes\\n\\nGood campus for nurturing the day to day life\\n\\nGood faculty and student interaction for doubts clearing\\n\\nDislikes\\n\\nDelay in the clerical process of the staff\\n\\nLack of bit faculty in the civil department\\n\\nAdmission:\\n\\nEligibility criteria for the admission is MHT CET Score and 12th pass with min 65% Admission procedure is done as per the CET CELL and it is arranged by the CET CELL Improvement in the admission process would be proper explanation of the terms and conditions before regarding the scholarships and schemes\\n\\n...Read More\\n\\nReply\\n\\nShare\\n\\nWrite a Colleges Review & Win Prizes Up to ₹1,00,000\\n\\nReport\\n\\nAditya Patil\\n\\n4.8Helpful\\n\\nB.Tech, Electrical Engineering\\n\\nReviewed on May 18, 2024(Enrolled 2021)\\n\\n#MY GCEK\\n\\nLikes\\n\\nThe college has great infrastructure and great teachers\\n\\nGreat work in events around college and in the college\\n\\nDislikes\\n\\nAdmission process is lengthy and due to government college we have to wait in line\\n\\nSyllabus is outdated in college and needs more practical knowledge than theory\\n\\nAdmission:\\n\\nThe admission is based on the CET exam conducted in Maharashtra The eligibility of the course is a student should get 60 + in group pcm to qualify Application form can be found on the official website of the government college of Engineering Karad The frequency of exams is basically monthly according to semester courses and the exams are tough\\n\\n...Read More\\n\\nReply\\n\\nShare\\n\\nWrite a Colleges Review & Win Prizes Up to ₹1,00,000\\n\\nReport\\n\\nShubham\\n\\n3.0Helpful\\n\\nB.Tech, Information Technology\\n\\nReviewed on Dec 28, 2023(Enrolled 2019)\\n\\nGovernment College of Engineering, Karad Review\\n\\nLikes\\n\\nThe Campus area is great and large there is green everywhere.\\n\\nThe Placements are also good for IT almost everyone get placed in normal conditions.\\n\\nDislikes\\n\\nThere are some faculties who are not good in teaching.\\n\\nThe staff at Scholarship section behaves rudely and don't provide proper details if we asked.\\n\\nAdmission:\\n\\nEligibility : You have to complete 12 th Class and then give CET (Common Entrance Test) or JEE (Joint Entrance Examination) exam Admission Process : you have to fill CAP rounds in which you choose colleges and streams which you want to take admission. Then after allotement of CAP rounds you have to visit college which you have alloted in CAP round and by completing Admission Process you get admission. Fees : The fees for General Category : 85000 approximately, OBC : 42000 approximately and for other categories you can visit GCEK website.\\n\\n...Read More\\n\\nReply\\n\\nShare\\n\\nWrite a Colleges Review & Win Prizes Up to ₹1,00,000\\n\\nReport\\n\\nPravin Nalawade\\n\\n4.3\\n\\nB.Tech, Information Technology\\n\\nReviewed on May 20, 2023(Enrolled 2021)\\n\\nExploring Academic Excellence\\n\\nLikes\\n\\nDiscipline, freedom for sharing thoughts\\n\\nDislikes\\n\\nAcademic curricular little bit old and time to change it.\\n\\nAdmission:\\n\\nEligibility of the Course: First you want to give MHT-CET which is the entrance exam of Maharashtra state for taking admission in Maharashtra state engineering College. Form of this exam release in January on the MHT-CET official website.\\n\\n...Read More\\n\\nReply\\n\\nShare\\n\\nWrite a Colleges Review & Win Prizes Up to ₹1,00,000\\n\\nReport\\n\\nAdiya\\n\\n3.3\\n\\nB.Tech, Electronics & Telecommunication Engineering\\n\\nReviewed on Nov 8, 2022(Enrolled 2021)\\n\\nLife In GCEK Satara.\\n\\nAdmission:\\n\\nThe admission process is very easy and understandable to any individual and it is in offline mode. The college fees and dates are published on the official college website. As a govt. college reservation is there for the reserved category. But the admission process is too time-consuming and has some issues with online fee payments.\\n\\n...Read More\\n\\nReply\\n\\nShare\\n\\nWrite a Colleges Review & Win Prizes Up to ₹1,00,000\\n\\nReport\\n\\nAbhishek Shivaji Bhagat\\n\\n3.8Helpful\\n\\nB.Tech, Electrical Engineering\\n\\nReviewed on Oct 17, 2022(Enrolled 2021)\\n\\nGCE karad\\n\\nAdmission:\\n\\nTo take addmission to this college you need to clear the 12th class And need to gave CET exam. You need above 90% in Cet to take addmission to this college. There is a cast reservation. According to the reservation, there are different sets for each category.\\n\\n...Read More\\n\\nReply\\n\\nShare\\n\\nWrite a Colleges Review & Win Prizes Up to ₹1,00,000\\n\\nReport\\n\\nDo you think the data is wrong ? Report Here\\n\\nHow likely are you to recommend collegedunia.com to a friend or a colleague?\\n\\nGCEK Latest News\\n\\nShivaji University Releases PhD Interview and Spiral Schedule for Engineering and Pharmacy; Check here\\n\\nWritten ByShashank Mishraon Dec 21, 2024\\n\\nShivaji University Result 2024 @unishivaji.ac.in: Check UG, PG Result\\n\\nWritten ByCollegedunia Teamon Jan 25, 2024\\n\\nShivaji University Hall Ticket 2023 (Released) @unishivaji.ac.in; Check SUK B.A, BSc, B.Com Admit Card Direct Link Here\\n\\nWritten ByCollegedunia Teamon May 4, 2023\\n\\nView All News\\n\\nDiscover More Colleges\\n\\nYashoda Technical Campus - [YTC]\\n\\nSatara\\n\\n4.1(4)\\n\\n₹106000First year Fees\\n\\nArvind Gavali College of Engineering - [AGCE]\\n\\nSatara\\n\\n3.8(9)\\n\\n₹72500First year Fees\\n\\nDnyanshree Institute of Engineering & Technology - [DIET]\\n\\nSatara\\n\\n4.2(10)\\n\\n₹70000First year Fees\\n\\nPhaltan Education Society's College of Engineering - [PESCOE]\\n\\nSatara\\n\\n4.8(1)\\n\\n₹85000First year Fees\\n\\nKarmaveer Bhaurao Patil College of Engineering - [KBPCOES]\\n\\nSatara\\n\\n3.8(17)\\n\\n₹85000First year Fees\\n\\nSatara College Of Engineering And Management\\n\\nSatara\\n\\n₹45000First year Fees\\n\\nComments\\n\\nNo Comments To Show\\n\\nAre You Interested in this College?\\n\\nWrite a Review & Win Monthly Prizes upto ₹100000*\\n\\n“Extra Cash for Selected Colleges”\\n\\nWinners Will Get\\n\\nStart Writing\\n\\nPhotos\\n\\nView All Photos\\n\\nTop Courses\\n\\nB.Tech Information Technology\\n\\nCourse Duration: 4 Years\\n\\n₹88224 First Year Fees\\n\\nB.Tech Electronics & Telecommunication Engineering\\n\\nCourse Duration: 4 Years\\n\\n₹88224 First Year Fees\\n\\nB.Tech Civil Engineering\\n\\nCourse Duration: 4 Years\\n\\n₹88224 First Year Fees\\n\\nView All Courses\\n\\nNews\\n\\nShivaji University Releases PhD Interview and Spiral Schedule for Engineering and Pharmacy; Check here\\n\\n1 week Ago\\n\\nShivaji University Result 2024 @unishivaji.ac.in: Check UG, PG Result\\n\\nJan 25, 2024\\n\\nShivaji University Hall Ticket 2023 (Released) @unishivaji.ac.in; Check SUK B.A, BSc, B.Com Admit Card Direct Link Here\\n\\nMay 4, 2023\\n\\nMHT CET 2023 Seat Matrix for Cap Round 1 Released; Check Details Here\\n\\nJul 21, 2023\\n\\nMHT CET 2023 Final Merit List Released, CAP Round I Counselling Started; Check Details Here\\n\\nJul 21, 2023\\n\\nMHT CET BDes Counselling 2023 Schedule Released; Check Details Here\\n\\nJul 18, 2023\\n\\nMAH CET BDes Merit List 2023 Out @bdesigncap2023.mahacet.org; Check Direct Link Here\\n\\nJul 16, 2023\\n\\nFaculties\\n\\nProf. Yuwaraj\\n\\nProfessor, Department of Civil Engineeri ng\\n\\nProf. Ashok Pise\\n\\nProfessor, Department of Mechanical Engineering\\n\\nProf. Madhav Kumthekar\\n\\nProfessor, Department of Civil Engineering\\n\\nView All Faculties\\n\\nLearn More About Courses\\n\\nB.Tech Information Technology\\n\\nB.Tech Electronics & Telecommunication Engineering\\n\\nB.Tech Civil Engineering\\n\\nMCA\\n\\nB.Tech Electrical Engineering\\n\\nStudent Also Visited\\n\\nWalchand College of Engineering - [WCE]\\n\\n4.1(103 Reviews)\\n\\nBE/B.Tech - Bachelor of Technology\\n\\n₹84935 First year Fees\\n\\nKIT's College of Engineering\\n\\n4.2(151 Reviews)\\n\\nBE/B.Tech - Bachelor of Technology\\n\\n₹97500 First year Fees\\n\\nGovernment College of Engineering and Research\\n\\n3.6(42 Reviews)\\n\\nBE/B.Tech - Bachelor of Technology\\n\\n₹16015 First year Fees\\n\\nD. Y. Patil College of Engineering\\n\\n3.9(168 Reviews)\\n\\nBE/B.Tech - Bachelor of Technology\\n\\n₹123998 First year Fees\\n\\nShri Guru Gobind Singhji Institute of Engineering and Technology - [SGGSIE&T]\\n\\n3.9(150 Reviews)\\n\\nBE/B.Tech - Bachelor of Technology\\n\\n₹83107 First year Fees\\n\\nDKTE Society's Textile and Engineering Institute - [DKTE]\\n\\n4.1(89 Reviews)\\n\\nBE/B.Tech - Bachelor of Technology\\n\\n₹106000 First year Fees\\n\\nAnnasaheb Dange College of Engineering & Technology - [ADCET]\\n\\n4.1(46 Reviews)\\n\\nBE/B.Tech - Bachelor of Technology\\n\\n₹107500 First year Fees\\n\\nGovernment College of Engineering - [GCOEA]\\n\\n3.7(134 Reviews)\\n\\nBE/B.Tech - Bachelor of Technology\\n\\n₹85160 First year Fees\\n\\nPimpri Chinchwad College of Engineering - [PCCOE]\\n\\n4(266 Reviews)\\n\\nBE/B.Tech - Bachelor of Technology\\n\\n₹160000 First year Fees\\n\\nGovernment College of Engineering - [GCOEN]\\n\\n3.8(45 Reviews)\\n\\nBE/B.Tech - Bachelor of Technology\\n\\n₹27836 First year Fees\\n\\nAISSMS College of Engineering - [AISSMSCOE]\\n\\n4.1(150 Reviews)\\n\\nBE/B.Tech - Bachelor of Technology\\n\\n₹136000 First year Fees\\n\\nGovernment College of Engineering - [GCOE]\\n\\n3.3(69 Reviews)\\n\\nBE/B.Tech - Bachelor of Technology\\n\\n₹82946 First year Fees\\n\\nGovernment College of Engineering - [GECA]\\n\\n3.9(130 Reviews)\\n\\nBE/B.Tech - Bachelor of Technology\\n\\n₹65839 First year Fees\\n\\nVishwakarma Institute of Technology\\n\\n3.9(539 Reviews)\\n\\nBE/B.Tech - Bachelor of Technology\\n\\n₹192945 First year Fees\\n\\nK.E.Society's Rajarambapu Institute of Technology, Rajaramnagar\\n\\n4.1(122 Reviews)\\n\\nBE/B.Tech - Bachelor of Technology\\n\\n₹157000 First year Fees\\n\\nGovernment College Of Engineering\\n\\n3.1(7 Reviews)\\n\\nBE/B.Tech - Bachelor of Technology\\n\\n₹24701 First year Fees\\n\\nSUBSCRIBE TO OUR NEWS LETTER\\n\\nCOLLEGE NOTIFICATIONS\\n\\nEXAM NOTIFICATIONS\\n\\nNEWS UPDATES\\n\\nTOP COLLEGES\\n\\nMBA\\n\\nBtech\\n\\nMS\\n\\nBBA\\n\\nMtech\\n\\nMA\\n\\nBA\\n\\nTOP UNIVERSITIES\\n\\nengineering\\n\\nmanagement\\n\\nmedical\\n\\nlaw\\n\\ncommerce\\n\\nscience\\n\\narts\\n\\nTop Exam\\n\\nGMAT\\n\\nGRE\\n\\nIELTS\\n\\nDET\\n\\nPTE\\n\\nSAT\\n\\nTOEFL\\n\\nstudy abroad\\n\\ncanada\\n\\nusa\\n\\nuk\\n\\nuae\\n\\naustralia\\n\\ngermany\\n\\nsweden\\n\\nireland\\n\\nnew zealand\\n\\nhong kong\\n\\nsingapore\\n\\nmalaysia\\n\\nnetherlands\\n\\nitaly\\n\\nother links\\n\\nabout collegedunia\\n\\ncontact us\\n\\nadvertising\\n\\ncareer\\n\\nterms & conditions\\n\\nDownload the Collegedunia app on\\n\\n© 2024 Collegedunia Web Pvt. Ltd. All Rights Reserved\\n\\nMHT CET 2024\\n\\nMAH MCA CET 2024\""
            ],
            "application/vnd.google.colaboratory.intrinsic+json": {
              "type": "string"
            }
          },
          "metadata": {},
          "execution_count": 30
        }
      ]
    },
    {
      "cell_type": "code",
      "source": [
        "text_splitter = RecursiveCharacterTextSplitter(\n",
        "    chunk_size=1000,\n",
        "    chunk_overlap=100,\n",
        "    length_function=len,\n",
        "    is_separator_regex=False,\n",
        ")\n",
        "texts = text_splitter.create_documents([processed_data])"
      ],
      "metadata": {
        "id": "GD2hrSq1sRsH"
      },
      "execution_count": 31,
      "outputs": []
    },
    {
      "cell_type": "code",
      "source": [
        "embeddings_model = CohereEmbeddings(model=\"embed-english-v3.0\")"
      ],
      "metadata": {
        "id": "C7WSJZr3ea-B"
      },
      "execution_count": 62,
      "outputs": []
    },
    {
      "cell_type": "code",
      "source": [
        "db = Chroma.from_documents(texts,embeddings_model)"
      ],
      "metadata": {
        "id": "2M8oPv2-d9uJ"
      },
      "execution_count": 65,
      "outputs": []
    },
    {
      "cell_type": "code",
      "source": [
        "retriever = db.as_retriever(search_kwargs={\"k\": 5})"
      ],
      "metadata": {
        "id": "rrtajDFDepB9"
      },
      "execution_count": 67,
      "outputs": []
    },
    {
      "cell_type": "code",
      "source": [
        "retriever"
      ],
      "metadata": {
        "colab": {
          "base_uri": "https://localhost:8080/"
        },
        "id": "1UqZofnhgBRv",
        "outputId": "494007df-901d-4686-e778-ff105109b238"
      },
      "execution_count": 68,
      "outputs": [
        {
          "output_type": "execute_result",
          "data": {
            "text/plain": [
              "VectorStoreRetriever(tags=['Chroma', 'CohereEmbeddings'], vectorstore=<langchain_chroma.vectorstores.Chroma object at 0x7dd41f475ea0>, search_kwargs={'k': 5})"
            ]
          },
          "metadata": {},
          "execution_count": 68
        }
      ]
    },
    {
      "cell_type": "code",
      "source": [
        "template = \"\"\"\n",
        "You are an intelligent and helpful chatbot specializing in answering questions about the Government College of Engineering, Karad.\n",
        "You have access to data from the Collegedunia website {context}, specifically related to this college.\n",
        "While the data may include information about advertisements or other institutions, your focus must remain strictly on the Government College of Engineering, Karad.\n",
        "\n",
        "The website data contains the following:\n",
        "1. Academic programs, sports, admissions, living conditions, cut-offs, and more.\n",
        "2. Student reviews of the college.\n",
        "3. Rankings of the college.\n",
        "4. Other general information specific to the college.\n",
        "\n",
        "Your task is to:\n",
        "- Respond concisely and accurately based only on the provided data.\n",
        "- Ignore any unrelated content, such as advertisements, promotions, or information about other colleges.\n",
        "\n",
        "Avoid adding subjective phrases or unnecessary context, such as \"I think\" or \"The answer to this question is or \"Based on the provided data\"\n",
        "\n",
        "Provide an answer strictly based on the Government College of Engineering, Karad, and do not use information from other colleges.\n",
        "\n",
        "Input:\n",
        "- User Query: {input}\n",
        "\n",
        "Output:\n",
        "- Your response:\n",
        "\"\"\"\n",
        "\n",
        "prompt_for_college = PromptTemplate(\n",
        "    template=template,\n",
        "    input_variables=[\"context\", \"input\"]\n",
        ")"
      ],
      "metadata": {
        "id": "oCMl2BiegDoR"
      },
      "execution_count": 84,
      "outputs": []
    },
    {
      "cell_type": "code",
      "source": [
        "llm = ChatGroq(model=\"llama3-8b-8192\")\n",
        "llm"
      ],
      "metadata": {
        "colab": {
          "base_uri": "https://localhost:8080/"
        },
        "id": "5WIVCzH9jko6",
        "outputId": "a325f91a-6553-4e71-954c-5c12e8d4fe10"
      },
      "execution_count": 81,
      "outputs": [
        {
          "output_type": "execute_result",
          "data": {
            "text/plain": [
              "ChatGroq(client=<groq.resources.chat.completions.Completions object at 0x7dd418aae9b0>, async_client=<groq.resources.chat.completions.AsyncCompletions object at 0x7dd418aadd50>, model_name='llama3-8b-8192', model_kwargs={}, groq_api_key=SecretStr('**********'))"
            ]
          },
          "metadata": {},
          "execution_count": 81
        }
      ]
    },
    {
      "cell_type": "code",
      "source": [
        "rag_chain = (\n",
        "    {\"context\": retriever, \"input\": RunnablePassthrough()}\n",
        "    | prompt_for_college\n",
        "    | llm\n",
        "    | StrOutputParser()\n",
        ")"
      ],
      "metadata": {
        "id": "5aqiMHpVjYMw"
      },
      "execution_count": 85,
      "outputs": []
    },
    {
      "cell_type": "code",
      "source": [
        "rag_chain.invoke(\"How is the college infrastructure\")"
      ],
      "metadata": {
        "colab": {
          "base_uri": "https://localhost:8080/",
          "height": 70
        },
        "id": "Czx4zVfdjvDg",
        "outputId": "e0f8a496-ffce-49bb-e7b8-c35001d79744"
      },
      "execution_count": 88,
      "outputs": [
        {
          "output_type": "execute_result",
          "data": {
            "text/plain": [
              "'According to the reviews on Collegedunia, the college infrastructure is described as old and not well-maintained by one student. However, another student mentions that the college campus is around 35 acres, including hostels, and is situated nearby a market place.'"
            ],
            "application/vnd.google.colaboratory.intrinsic+json": {
              "type": "string"
            }
          },
          "metadata": {},
          "execution_count": 88
        }
      ]
    },
    {
      "cell_type": "code",
      "source": [
        "rag_chain.invoke(\"what is the fees for the b.tech\")"
      ],
      "metadata": {
        "colab": {
          "base_uri": "https://localhost:8080/",
          "height": 35
        },
        "id": "pQ6a1TJNkKMv",
        "outputId": "e21336aa-654d-4612-e27a-563949186cef"
      },
      "execution_count": 90,
      "outputs": [
        {
          "output_type": "execute_result",
          "data": {
            "text/plain": [
              "'The first year fees for B.Tech at Government College of Engineering, Karad is ₹27836.'"
            ],
            "application/vnd.google.colaboratory.intrinsic+json": {
              "type": "string"
            }
          },
          "metadata": {},
          "execution_count": 90
        }
      ]
    },
    {
      "cell_type": "code",
      "source": [
        "rag_chain.invoke(\"what is the cut off for Electronics & Telecommunication\")"
      ],
      "metadata": {
        "colab": {
          "base_uri": "https://localhost:8080/",
          "height": 52
        },
        "id": "XN_nZ_HLpSYl",
        "outputId": "ae213b9a-843f-4722-8211-aae79d899270"
      },
      "execution_count": 93,
      "outputs": [
        {
          "output_type": "execute_result",
          "data": {
            "text/plain": [
              "'The cutoff for Electronics & Telecommunication Engineering at Government College of Engineering, Karad is 81.71.'"
            ],
            "application/vnd.google.colaboratory.intrinsic+json": {
              "type": "string"
            }
          },
          "metadata": {},
          "execution_count": 93
        }
      ]
    },
    {
      "cell_type": "code",
      "source": [
        "rag_chain.invoke(\"what is the cut off for Electronics & Telecommunication\")"
      ],
      "metadata": {
        "colab": {
          "base_uri": "https://localhost:8080/",
          "height": 52
        },
        "id": "XRKnQFlWFiip",
        "outputId": "8149eb14-df39-420b-fe6c-7aa42162c8cb"
      },
      "execution_count": 94,
      "outputs": [
        {
          "output_type": "execute_result",
          "data": {
            "text/plain": [
              "'According to the GCEK Cutoff 2024, the cutoff percentile for B.Tech Electronics & Telecommunication Engineering is 81.71.'"
            ],
            "application/vnd.google.colaboratory.intrinsic+json": {
              "type": "string"
            }
          },
          "metadata": {},
          "execution_count": 94
        }
      ]
    },
    {
      "cell_type": "code",
      "source": [
        "inp=input(\"\\nEnter Your query: \")\n",
        "while inp != \"bye\":\n",
        "  print(rag_chain.invoke(inp))\n",
        "  inp=input(\"\\nEnter Your query: \")"
      ],
      "metadata": {
        "colab": {
          "base_uri": "https://localhost:8080/"
        },
        "id": "Vgp9zzmNFkhg",
        "outputId": "3c18d6a6-7f88-499e-fa30-b580278385b2"
      },
      "execution_count": 98,
      "outputs": [
        {
          "name": "stdout",
          "output_type": "stream",
          "text": [
            "\n",
            "Enter Your query: how was your day\n",
            "I'm just an AI, I don't have personal experiences or days, so I don't have an answer to this question. However, I can provide you with information about the Government College of Engineering, Karad if you'd like.\n",
            "\n",
            "Please feel free to ask another question, and I'll do my best to provide you with accurate and concise information based on the provided data.\n",
            "\n",
            "Enter Your query: bye\n"
          ]
        }
      ]
    },
    {
      "cell_type": "code",
      "source": [],
      "metadata": {
        "id": "1Vx7OlXUIPt9"
      },
      "execution_count": null,
      "outputs": []
    }
  ]
}