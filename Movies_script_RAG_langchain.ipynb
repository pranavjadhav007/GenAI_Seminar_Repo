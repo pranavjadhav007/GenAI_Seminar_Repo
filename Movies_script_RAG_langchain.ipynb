{
  "nbformat": 4,
  "nbformat_minor": 0,
  "metadata": {
    "colab": {
      "provenance": [],
      "toc_visible": true
    },
    "kernelspec": {
      "name": "python3",
      "display_name": "Python 3"
    },
    "language_info": {
      "name": "python"
    }
  },
  "cells": [
    {
      "cell_type": "markdown",
      "source": [
        "# **RAG Implementation**"
      ],
      "metadata": {
        "id": "_OWplPb0ctC0"
      }
    },
    {
      "cell_type": "markdown",
      "source": [
        "# Install Required Libraries"
      ],
      "metadata": {
        "id": "5kjPQ_60W-js"
      }
    },
    {
      "cell_type": "markdown",
      "source": [
        "LangChain is a framework designed to build applications that integrate language models (like OpenAI's ChatGPT) with various external tools and data sources. It simplifies the development of intelligent systems by providing modular components for:\n",
        "\n",
        "* [Prompt Engineering](https://python.langchain.com/docs/concepts/prompt_templates/): Easily create and manage prompts to guide the language model’s responses.\n",
        "\n",
        "* Chains: Combine multiple steps (e.g., fetching data, processing it, and generating output) into workflows.\n",
        "\n",
        "* [Tools](https://python.langchain.com/docs/concepts/tools/) & Agents: Extend model capabilities using tools (e.g., search engines, APIs) and empower dynamic decision-making with agents.\n",
        "\n",
        "* Memory: Maintain state and context in conversations or across tasks.\n",
        "\n",
        "* Data Augmentation: Integrate retrieval systems (like Pinecone) for Retrieval-Augmented Generation (RAG).\n",
        "\n",
        "*Official Langchain Documentation: https://python.langchain.com/docs/introduction/*"
      ],
      "metadata": {
        "id": "4z5AsppQSBOT"
      }
    },
    {
      "cell_type": "code",
      "execution_count": null,
      "metadata": {
        "colab": {
          "base_uri": "https://localhost:8080/"
        },
        "collapsed": true,
        "id": "B5XAiehOUJ1C",
        "outputId": "b292a570-3630-4cb6-b22b-81be61573ede"
      },
      "outputs": [
        {
          "output_type": "stream",
          "name": "stdout",
          "text": [
            "Requirement already satisfied: langchain in /usr/local/lib/python3.10/dist-packages (0.3.12)\n",
            "Requirement already satisfied: PyYAML>=5.3 in /usr/local/lib/python3.10/dist-packages (from langchain) (6.0.2)\n",
            "Requirement already satisfied: SQLAlchemy<3,>=1.4 in /usr/local/lib/python3.10/dist-packages (from langchain) (2.0.36)\n",
            "Requirement already satisfied: aiohttp<4.0.0,>=3.8.3 in /usr/local/lib/python3.10/dist-packages (from langchain) (3.11.10)\n",
            "Requirement already satisfied: async-timeout<5.0.0,>=4.0.0 in /usr/local/lib/python3.10/dist-packages (from langchain) (4.0.3)\n",
            "Requirement already satisfied: langchain-core<0.4.0,>=0.3.25 in /usr/local/lib/python3.10/dist-packages (from langchain) (0.3.25)\n",
            "Requirement already satisfied: langchain-text-splitters<0.4.0,>=0.3.3 in /usr/local/lib/python3.10/dist-packages (from langchain) (0.3.3)\n",
            "Requirement already satisfied: langsmith<0.3,>=0.1.17 in /usr/local/lib/python3.10/dist-packages (from langchain) (0.2.3)\n",
            "Requirement already satisfied: numpy<2,>=1.22.4 in /usr/local/lib/python3.10/dist-packages (from langchain) (1.26.4)\n",
            "Requirement already satisfied: pydantic<3.0.0,>=2.7.4 in /usr/local/lib/python3.10/dist-packages (from langchain) (2.10.3)\n",
            "Requirement already satisfied: requests<3,>=2 in /usr/local/lib/python3.10/dist-packages (from langchain) (2.32.3)\n",
            "Requirement already satisfied: tenacity!=8.4.0,<10,>=8.1.0 in /usr/local/lib/python3.10/dist-packages (from langchain) (9.0.0)\n",
            "Requirement already satisfied: aiohappyeyeballs>=2.3.0 in /usr/local/lib/python3.10/dist-packages (from aiohttp<4.0.0,>=3.8.3->langchain) (2.4.4)\n",
            "Requirement already satisfied: aiosignal>=1.1.2 in /usr/local/lib/python3.10/dist-packages (from aiohttp<4.0.0,>=3.8.3->langchain) (1.3.2)\n",
            "Requirement already satisfied: attrs>=17.3.0 in /usr/local/lib/python3.10/dist-packages (from aiohttp<4.0.0,>=3.8.3->langchain) (24.3.0)\n",
            "Requirement already satisfied: frozenlist>=1.1.1 in /usr/local/lib/python3.10/dist-packages (from aiohttp<4.0.0,>=3.8.3->langchain) (1.5.0)\n",
            "Requirement already satisfied: multidict<7.0,>=4.5 in /usr/local/lib/python3.10/dist-packages (from aiohttp<4.0.0,>=3.8.3->langchain) (6.1.0)\n",
            "Requirement already satisfied: propcache>=0.2.0 in /usr/local/lib/python3.10/dist-packages (from aiohttp<4.0.0,>=3.8.3->langchain) (0.2.1)\n",
            "Requirement already satisfied: yarl<2.0,>=1.17.0 in /usr/local/lib/python3.10/dist-packages (from aiohttp<4.0.0,>=3.8.3->langchain) (1.18.3)\n",
            "Requirement already satisfied: jsonpatch<2.0,>=1.33 in /usr/local/lib/python3.10/dist-packages (from langchain-core<0.4.0,>=0.3.25->langchain) (1.33)\n",
            "Requirement already satisfied: packaging<25,>=23.2 in /usr/local/lib/python3.10/dist-packages (from langchain-core<0.4.0,>=0.3.25->langchain) (24.2)\n",
            "Requirement already satisfied: typing-extensions>=4.7 in /usr/local/lib/python3.10/dist-packages (from langchain-core<0.4.0,>=0.3.25->langchain) (4.12.2)\n",
            "Requirement already satisfied: httpx<1,>=0.23.0 in /usr/local/lib/python3.10/dist-packages (from langsmith<0.3,>=0.1.17->langchain) (0.28.1)\n",
            "Requirement already satisfied: orjson<4.0.0,>=3.9.14 in /usr/local/lib/python3.10/dist-packages (from langsmith<0.3,>=0.1.17->langchain) (3.10.12)\n",
            "Requirement already satisfied: requests-toolbelt<2.0.0,>=1.0.0 in /usr/local/lib/python3.10/dist-packages (from langsmith<0.3,>=0.1.17->langchain) (1.0.0)\n",
            "Requirement already satisfied: annotated-types>=0.6.0 in /usr/local/lib/python3.10/dist-packages (from pydantic<3.0.0,>=2.7.4->langchain) (0.7.0)\n",
            "Requirement already satisfied: pydantic-core==2.27.1 in /usr/local/lib/python3.10/dist-packages (from pydantic<3.0.0,>=2.7.4->langchain) (2.27.1)\n",
            "Requirement already satisfied: charset-normalizer<4,>=2 in /usr/local/lib/python3.10/dist-packages (from requests<3,>=2->langchain) (3.4.0)\n",
            "Requirement already satisfied: idna<4,>=2.5 in /usr/local/lib/python3.10/dist-packages (from requests<3,>=2->langchain) (3.10)\n",
            "Requirement already satisfied: urllib3<3,>=1.21.1 in /usr/local/lib/python3.10/dist-packages (from requests<3,>=2->langchain) (2.2.3)\n",
            "Requirement already satisfied: certifi>=2017.4.17 in /usr/local/lib/python3.10/dist-packages (from requests<3,>=2->langchain) (2024.12.14)\n",
            "Requirement already satisfied: greenlet!=0.4.17 in /usr/local/lib/python3.10/dist-packages (from SQLAlchemy<3,>=1.4->langchain) (3.1.1)\n",
            "Requirement already satisfied: anyio in /usr/local/lib/python3.10/dist-packages (from httpx<1,>=0.23.0->langsmith<0.3,>=0.1.17->langchain) (3.7.1)\n",
            "Requirement already satisfied: httpcore==1.* in /usr/local/lib/python3.10/dist-packages (from httpx<1,>=0.23.0->langsmith<0.3,>=0.1.17->langchain) (1.0.7)\n",
            "Requirement already satisfied: h11<0.15,>=0.13 in /usr/local/lib/python3.10/dist-packages (from httpcore==1.*->httpx<1,>=0.23.0->langsmith<0.3,>=0.1.17->langchain) (0.14.0)\n",
            "Requirement already satisfied: jsonpointer>=1.9 in /usr/local/lib/python3.10/dist-packages (from jsonpatch<2.0,>=1.33->langchain-core<0.4.0,>=0.3.25->langchain) (3.0.0)\n",
            "Requirement already satisfied: sniffio>=1.1 in /usr/local/lib/python3.10/dist-packages (from anyio->httpx<1,>=0.23.0->langsmith<0.3,>=0.1.17->langchain) (1.3.1)\n",
            "Requirement already satisfied: exceptiongroup in /usr/local/lib/python3.10/dist-packages (from anyio->httpx<1,>=0.23.0->langsmith<0.3,>=0.1.17->langchain) (1.2.2)\n"
          ]
        }
      ],
      "source": [
        "pip install langchain"
      ]
    },
    {
      "cell_type": "code",
      "source": [
        "pip install langchain-community"
      ],
      "metadata": {
        "colab": {
          "base_uri": "https://localhost:8080/"
        },
        "collapsed": true,
        "id": "Hrsq-vCD1kGw",
        "outputId": "049e4952-32a2-4d96-a286-7aa517d4deb0"
      },
      "execution_count": null,
      "outputs": [
        {
          "output_type": "stream",
          "name": "stdout",
          "text": [
            "Collecting langchain-community\n",
            "  Downloading langchain_community-0.3.13-py3-none-any.whl.metadata (2.9 kB)\n",
            "Requirement already satisfied: PyYAML>=5.3 in /usr/local/lib/python3.10/dist-packages (from langchain-community) (6.0.2)\n",
            "Requirement already satisfied: SQLAlchemy<3,>=1.4 in /usr/local/lib/python3.10/dist-packages (from langchain-community) (2.0.36)\n",
            "Requirement already satisfied: aiohttp<4.0.0,>=3.8.3 in /usr/local/lib/python3.10/dist-packages (from langchain-community) (3.11.10)\n",
            "Collecting dataclasses-json<0.7,>=0.5.7 (from langchain-community)\n",
            "  Downloading dataclasses_json-0.6.7-py3-none-any.whl.metadata (25 kB)\n",
            "Collecting httpx-sse<0.5.0,>=0.4.0 (from langchain-community)\n",
            "  Downloading httpx_sse-0.4.0-py3-none-any.whl.metadata (9.0 kB)\n",
            "Collecting langchain<0.4.0,>=0.3.13 (from langchain-community)\n",
            "  Downloading langchain-0.3.13-py3-none-any.whl.metadata (7.1 kB)\n",
            "Collecting langchain-core<0.4.0,>=0.3.27 (from langchain-community)\n",
            "  Downloading langchain_core-0.3.28-py3-none-any.whl.metadata (6.3 kB)\n",
            "Requirement already satisfied: langsmith<0.3,>=0.1.125 in /usr/local/lib/python3.10/dist-packages (from langchain-community) (0.2.3)\n",
            "Requirement already satisfied: numpy<2,>=1.22.4 in /usr/local/lib/python3.10/dist-packages (from langchain-community) (1.26.4)\n",
            "Collecting pydantic-settings<3.0.0,>=2.4.0 (from langchain-community)\n",
            "  Downloading pydantic_settings-2.7.0-py3-none-any.whl.metadata (3.5 kB)\n",
            "Requirement already satisfied: requests<3,>=2 in /usr/local/lib/python3.10/dist-packages (from langchain-community) (2.32.3)\n",
            "Requirement already satisfied: tenacity!=8.4.0,<10,>=8.1.0 in /usr/local/lib/python3.10/dist-packages (from langchain-community) (9.0.0)\n",
            "Requirement already satisfied: aiohappyeyeballs>=2.3.0 in /usr/local/lib/python3.10/dist-packages (from aiohttp<4.0.0,>=3.8.3->langchain-community) (2.4.4)\n",
            "Requirement already satisfied: aiosignal>=1.1.2 in /usr/local/lib/python3.10/dist-packages (from aiohttp<4.0.0,>=3.8.3->langchain-community) (1.3.2)\n",
            "Requirement already satisfied: async-timeout<6.0,>=4.0 in /usr/local/lib/python3.10/dist-packages (from aiohttp<4.0.0,>=3.8.3->langchain-community) (4.0.3)\n",
            "Requirement already satisfied: attrs>=17.3.0 in /usr/local/lib/python3.10/dist-packages (from aiohttp<4.0.0,>=3.8.3->langchain-community) (24.3.0)\n",
            "Requirement already satisfied: frozenlist>=1.1.1 in /usr/local/lib/python3.10/dist-packages (from aiohttp<4.0.0,>=3.8.3->langchain-community) (1.5.0)\n",
            "Requirement already satisfied: multidict<7.0,>=4.5 in /usr/local/lib/python3.10/dist-packages (from aiohttp<4.0.0,>=3.8.3->langchain-community) (6.1.0)\n",
            "Requirement already satisfied: propcache>=0.2.0 in /usr/local/lib/python3.10/dist-packages (from aiohttp<4.0.0,>=3.8.3->langchain-community) (0.2.1)\n",
            "Requirement already satisfied: yarl<2.0,>=1.17.0 in /usr/local/lib/python3.10/dist-packages (from aiohttp<4.0.0,>=3.8.3->langchain-community) (1.18.3)\n",
            "Collecting marshmallow<4.0.0,>=3.18.0 (from dataclasses-json<0.7,>=0.5.7->langchain-community)\n",
            "  Downloading marshmallow-3.23.2-py3-none-any.whl.metadata (7.1 kB)\n",
            "Collecting typing-inspect<1,>=0.4.0 (from dataclasses-json<0.7,>=0.5.7->langchain-community)\n",
            "  Downloading typing_inspect-0.9.0-py3-none-any.whl.metadata (1.5 kB)\n",
            "Requirement already satisfied: langchain-text-splitters<0.4.0,>=0.3.3 in /usr/local/lib/python3.10/dist-packages (from langchain<0.4.0,>=0.3.13->langchain-community) (0.3.3)\n",
            "Requirement already satisfied: pydantic<3.0.0,>=2.7.4 in /usr/local/lib/python3.10/dist-packages (from langchain<0.4.0,>=0.3.13->langchain-community) (2.10.3)\n",
            "Requirement already satisfied: jsonpatch<2.0,>=1.33 in /usr/local/lib/python3.10/dist-packages (from langchain-core<0.4.0,>=0.3.27->langchain-community) (1.33)\n",
            "Requirement already satisfied: packaging<25,>=23.2 in /usr/local/lib/python3.10/dist-packages (from langchain-core<0.4.0,>=0.3.27->langchain-community) (24.2)\n",
            "Requirement already satisfied: typing-extensions>=4.7 in /usr/local/lib/python3.10/dist-packages (from langchain-core<0.4.0,>=0.3.27->langchain-community) (4.12.2)\n",
            "Requirement already satisfied: httpx<1,>=0.23.0 in /usr/local/lib/python3.10/dist-packages (from langsmith<0.3,>=0.1.125->langchain-community) (0.28.1)\n",
            "Requirement already satisfied: orjson<4.0.0,>=3.9.14 in /usr/local/lib/python3.10/dist-packages (from langsmith<0.3,>=0.1.125->langchain-community) (3.10.12)\n",
            "Requirement already satisfied: requests-toolbelt<2.0.0,>=1.0.0 in /usr/local/lib/python3.10/dist-packages (from langsmith<0.3,>=0.1.125->langchain-community) (1.0.0)\n",
            "Collecting python-dotenv>=0.21.0 (from pydantic-settings<3.0.0,>=2.4.0->langchain-community)\n",
            "  Downloading python_dotenv-1.0.1-py3-none-any.whl.metadata (23 kB)\n",
            "Requirement already satisfied: charset-normalizer<4,>=2 in /usr/local/lib/python3.10/dist-packages (from requests<3,>=2->langchain-community) (3.4.0)\n",
            "Requirement already satisfied: idna<4,>=2.5 in /usr/local/lib/python3.10/dist-packages (from requests<3,>=2->langchain-community) (3.10)\n",
            "Requirement already satisfied: urllib3<3,>=1.21.1 in /usr/local/lib/python3.10/dist-packages (from requests<3,>=2->langchain-community) (2.2.3)\n",
            "Requirement already satisfied: certifi>=2017.4.17 in /usr/local/lib/python3.10/dist-packages (from requests<3,>=2->langchain-community) (2024.12.14)\n",
            "Requirement already satisfied: greenlet!=0.4.17 in /usr/local/lib/python3.10/dist-packages (from SQLAlchemy<3,>=1.4->langchain-community) (3.1.1)\n",
            "Requirement already satisfied: anyio in /usr/local/lib/python3.10/dist-packages (from httpx<1,>=0.23.0->langsmith<0.3,>=0.1.125->langchain-community) (3.7.1)\n",
            "Requirement already satisfied: httpcore==1.* in /usr/local/lib/python3.10/dist-packages (from httpx<1,>=0.23.0->langsmith<0.3,>=0.1.125->langchain-community) (1.0.7)\n",
            "Requirement already satisfied: h11<0.15,>=0.13 in /usr/local/lib/python3.10/dist-packages (from httpcore==1.*->httpx<1,>=0.23.0->langsmith<0.3,>=0.1.125->langchain-community) (0.14.0)\n",
            "Requirement already satisfied: jsonpointer>=1.9 in /usr/local/lib/python3.10/dist-packages (from jsonpatch<2.0,>=1.33->langchain-core<0.4.0,>=0.3.27->langchain-community) (3.0.0)\n",
            "Requirement already satisfied: annotated-types>=0.6.0 in /usr/local/lib/python3.10/dist-packages (from pydantic<3.0.0,>=2.7.4->langchain<0.4.0,>=0.3.13->langchain-community) (0.7.0)\n",
            "Requirement already satisfied: pydantic-core==2.27.1 in /usr/local/lib/python3.10/dist-packages (from pydantic<3.0.0,>=2.7.4->langchain<0.4.0,>=0.3.13->langchain-community) (2.27.1)\n",
            "Collecting mypy-extensions>=0.3.0 (from typing-inspect<1,>=0.4.0->dataclasses-json<0.7,>=0.5.7->langchain-community)\n",
            "  Downloading mypy_extensions-1.0.0-py3-none-any.whl.metadata (1.1 kB)\n",
            "Requirement already satisfied: sniffio>=1.1 in /usr/local/lib/python3.10/dist-packages (from anyio->httpx<1,>=0.23.0->langsmith<0.3,>=0.1.125->langchain-community) (1.3.1)\n",
            "Requirement already satisfied: exceptiongroup in /usr/local/lib/python3.10/dist-packages (from anyio->httpx<1,>=0.23.0->langsmith<0.3,>=0.1.125->langchain-community) (1.2.2)\n",
            "Downloading langchain_community-0.3.13-py3-none-any.whl (2.5 MB)\n",
            "\u001b[2K   \u001b[90m━━━━━━━━━━━━━━━━━━━━━━━━━━━━━━━━━━━━━━━━\u001b[0m \u001b[32m2.5/2.5 MB\u001b[0m \u001b[31m38.3 MB/s\u001b[0m eta \u001b[36m0:00:00\u001b[0m\n",
            "\u001b[?25hDownloading dataclasses_json-0.6.7-py3-none-any.whl (28 kB)\n",
            "Downloading httpx_sse-0.4.0-py3-none-any.whl (7.8 kB)\n",
            "Downloading langchain-0.3.13-py3-none-any.whl (1.0 MB)\n",
            "\u001b[2K   \u001b[90m━━━━━━━━━━━━━━━━━━━━━━━━━━━━━━━━━━━━━━━━\u001b[0m \u001b[32m1.0/1.0 MB\u001b[0m \u001b[31m56.5 MB/s\u001b[0m eta \u001b[36m0:00:00\u001b[0m\n",
            "\u001b[?25hDownloading langchain_core-0.3.28-py3-none-any.whl (411 kB)\n",
            "\u001b[2K   \u001b[90m━━━━━━━━━━━━━━━━━━━━━━━━━━━━━━━━━━━━━━━━\u001b[0m \u001b[32m411.6/411.6 kB\u001b[0m \u001b[31m37.5 MB/s\u001b[0m eta \u001b[36m0:00:00\u001b[0m\n",
            "\u001b[?25hDownloading pydantic_settings-2.7.0-py3-none-any.whl (29 kB)\n",
            "Downloading marshmallow-3.23.2-py3-none-any.whl (49 kB)\n",
            "\u001b[2K   \u001b[90m━━━━━━━━━━━━━━━━━━━━━━━━━━━━━━━━━━━━━━━━\u001b[0m \u001b[32m49.3/49.3 kB\u001b[0m \u001b[31m5.6 MB/s\u001b[0m eta \u001b[36m0:00:00\u001b[0m\n",
            "\u001b[?25hDownloading python_dotenv-1.0.1-py3-none-any.whl (19 kB)\n",
            "Downloading typing_inspect-0.9.0-py3-none-any.whl (8.8 kB)\n",
            "Downloading mypy_extensions-1.0.0-py3-none-any.whl (4.7 kB)\n",
            "Installing collected packages: python-dotenv, mypy-extensions, marshmallow, httpx-sse, typing-inspect, pydantic-settings, dataclasses-json, langchain-core, langchain, langchain-community\n",
            "  Attempting uninstall: langchain-core\n",
            "    Found existing installation: langchain-core 0.3.25\n",
            "    Uninstalling langchain-core-0.3.25:\n",
            "      Successfully uninstalled langchain-core-0.3.25\n",
            "  Attempting uninstall: langchain\n",
            "    Found existing installation: langchain 0.3.12\n",
            "    Uninstalling langchain-0.3.12:\n",
            "      Successfully uninstalled langchain-0.3.12\n",
            "Successfully installed dataclasses-json-0.6.7 httpx-sse-0.4.0 langchain-0.3.13 langchain-community-0.3.13 langchain-core-0.3.28 marshmallow-3.23.2 mypy-extensions-1.0.0 pydantic-settings-2.7.0 python-dotenv-1.0.1 typing-inspect-0.9.0\n"
          ]
        }
      ]
    },
    {
      "cell_type": "markdown",
      "source": [
        "Groq builds super-fast processors designed specifically for artificial intelligence (AI) and machine learning tasks. Their technology focuses on delivering high performance for AI applications, such as natural language processing, computer vision, and large-scale data analysis.\n",
        "\n",
        "In simple terms, Groq's processors are like turbocharged engines for computers, helping them perform complex AI calculations faster and more efficiently than regular processors. This makes them great for tasks like training AI models, running real-time AI applications, or analyzing massive datasets quickly.\n",
        "\n",
        "*Groq Weebsite: https://console.groq.com/login*"
      ],
      "metadata": {
        "id": "SseLgl6gT3Uq"
      }
    },
    {
      "cell_type": "code",
      "source": [
        "pip install -qU langchain-groq"
      ],
      "metadata": {
        "colab": {
          "base_uri": "https://localhost:8080/"
        },
        "id": "--7Dsy2X1nkb",
        "outputId": "a9cd3dd3-bbdc-4bd8-a58e-f5eb5cd6f9f7"
      },
      "execution_count": null,
      "outputs": [
        {
          "output_type": "stream",
          "name": "stdout",
          "text": [
            "\u001b[?25l   \u001b[90m━━━━━━━━━━━━━━━━━━━━━━━━━━━━━━━━━━━━━━━━\u001b[0m \u001b[32m0.0/109.1 kB\u001b[0m \u001b[31m?\u001b[0m eta \u001b[36m-:--:--\u001b[0m\r\u001b[2K   \u001b[90m━━━━━━━━━━━━━━━━━━━━━━━━━━━━━━━━━━━━━━━━\u001b[0m \u001b[32m109.1/109.1 kB\u001b[0m \u001b[31m7.2 MB/s\u001b[0m eta \u001b[36m0:00:00\u001b[0m\n",
            "\u001b[?25h"
          ]
        }
      ]
    },
    {
      "cell_type": "markdown",
      "source": [
        "\n",
        "PyPDF is a Python library used for working with PDF files. It allows you to read, manipulate, and extract information from PDF documents. It's lightweight, easy to use, and supports a variety of PDF-related tasks."
      ],
      "metadata": {
        "id": "Dwyn7RUwUydI"
      }
    },
    {
      "cell_type": "code",
      "source": [
        "%pip install -qU pypdf"
      ],
      "metadata": {
        "colab": {
          "base_uri": "https://localhost:8080/"
        },
        "id": "xA7Df07k2Gz-",
        "outputId": "789eccd1-1fa4-410f-97a0-8382ef491f46"
      },
      "execution_count": null,
      "outputs": [
        {
          "output_type": "stream",
          "name": "stdout",
          "text": [
            "\u001b[?25l   \u001b[90m━━━━━━━━━━━━━━━━━━━━━━━━━━━━━━━━━━━━━━━━\u001b[0m \u001b[32m0.0/298.0 kB\u001b[0m \u001b[31m?\u001b[0m eta \u001b[36m-:--:--\u001b[0m\r\u001b[2K   \u001b[90m━━━━━━━━━━━━━━━━━━━━━━━━━━━━━━━━━━━━━━━━\u001b[0m \u001b[32m298.0/298.0 kB\u001b[0m \u001b[31m9.3 MB/s\u001b[0m eta \u001b[36m0:00:00\u001b[0m\n",
            "\u001b[?25h"
          ]
        }
      ]
    },
    {
      "cell_type": "markdown",
      "source": [
        "AstraDB is a cloud-based, fully-managed database-as-a-service powered by Apache Cassandra, known for its high scalability, reliability, and performance. It is designed for modern applications that require real-time data handling across distributed systems.\n",
        "\n",
        "AstraDB Website: https://www.datastax.com/products/datastax-astra"
      ],
      "metadata": {
        "id": "eaP29hYHVCXf"
      }
    },
    {
      "cell_type": "code",
      "source": [
        "pip install langchain_astradb"
      ],
      "metadata": {
        "collapsed": true,
        "colab": {
          "base_uri": "https://localhost:8080/"
        },
        "id": "A6jKTiey8MrY",
        "outputId": "7529864d-506c-421d-e4b8-c56871a29052"
      },
      "execution_count": null,
      "outputs": [
        {
          "output_type": "stream",
          "name": "stdout",
          "text": [
            "Collecting langchain_astradb\n",
            "  Downloading langchain_astradb-0.5.2-py3-none-any.whl.metadata (5.6 kB)\n",
            "Collecting astrapy<2.0.0,>=1.5.2 (from langchain_astradb)\n",
            "  Downloading astrapy-1.5.2-py3-none-any.whl.metadata (19 kB)\n",
            "Requirement already satisfied: langchain-community>=0.3.1 in /usr/local/lib/python3.10/dist-packages (from langchain_astradb) (0.3.13)\n",
            "Requirement already satisfied: numpy<2.0.0,>=1.26.0 in /usr/local/lib/python3.10/dist-packages (from langchain_astradb) (1.26.4)\n",
            "Collecting deprecation<2.2.0,>=2.1.0 (from astrapy<2.0.0,>=1.5.2->langchain_astradb)\n",
            "  Downloading deprecation-2.1.0-py2.py3-none-any.whl.metadata (4.6 kB)\n",
            "Requirement already satisfied: httpx<1,>=0.25.2 in /usr/local/lib/python3.10/dist-packages (from httpx[http2]<1,>=0.25.2->astrapy<2.0.0,>=1.5.2->langchain_astradb) (0.28.1)\n",
            "Collecting pymongo>=3 (from astrapy<2.0.0,>=1.5.2->langchain_astradb)\n",
            "  Downloading pymongo-4.10.1-cp310-cp310-manylinux_2_17_x86_64.manylinux2014_x86_64.whl.metadata (22 kB)\n",
            "Requirement already satisfied: toml<0.11.0,>=0.10.2 in /usr/local/lib/python3.10/dist-packages (from astrapy<2.0.0,>=1.5.2->langchain_astradb) (0.10.2)\n",
            "Collecting uuid6>=2024.1.12 (from astrapy<2.0.0,>=1.5.2->langchain_astradb)\n",
            "  Downloading uuid6-2024.7.10-py3-none-any.whl.metadata (8.6 kB)\n",
            "Requirement already satisfied: PyYAML>=5.3 in /usr/local/lib/python3.10/dist-packages (from langchain-community>=0.3.1->langchain_astradb) (6.0.2)\n",
            "Requirement already satisfied: SQLAlchemy<3,>=1.4 in /usr/local/lib/python3.10/dist-packages (from langchain-community>=0.3.1->langchain_astradb) (2.0.36)\n",
            "Requirement already satisfied: aiohttp<4.0.0,>=3.8.3 in /usr/local/lib/python3.10/dist-packages (from langchain-community>=0.3.1->langchain_astradb) (3.11.10)\n",
            "Requirement already satisfied: dataclasses-json<0.7,>=0.5.7 in /usr/local/lib/python3.10/dist-packages (from langchain-community>=0.3.1->langchain_astradb) (0.6.7)\n",
            "Requirement already satisfied: httpx-sse<0.5.0,>=0.4.0 in /usr/local/lib/python3.10/dist-packages (from langchain-community>=0.3.1->langchain_astradb) (0.4.0)\n",
            "Requirement already satisfied: langchain<0.4.0,>=0.3.13 in /usr/local/lib/python3.10/dist-packages (from langchain-community>=0.3.1->langchain_astradb) (0.3.13)\n",
            "Requirement already satisfied: langchain-core<0.4.0,>=0.3.27 in /usr/local/lib/python3.10/dist-packages (from langchain-community>=0.3.1->langchain_astradb) (0.3.28)\n",
            "Requirement already satisfied: langsmith<0.3,>=0.1.125 in /usr/local/lib/python3.10/dist-packages (from langchain-community>=0.3.1->langchain_astradb) (0.2.3)\n",
            "Requirement already satisfied: pydantic-settings<3.0.0,>=2.4.0 in /usr/local/lib/python3.10/dist-packages (from langchain-community>=0.3.1->langchain_astradb) (2.7.0)\n",
            "Requirement already satisfied: requests<3,>=2 in /usr/local/lib/python3.10/dist-packages (from langchain-community>=0.3.1->langchain_astradb) (2.32.3)\n",
            "Requirement already satisfied: tenacity!=8.4.0,<10,>=8.1.0 in /usr/local/lib/python3.10/dist-packages (from langchain-community>=0.3.1->langchain_astradb) (9.0.0)\n",
            "Requirement already satisfied: aiohappyeyeballs>=2.3.0 in /usr/local/lib/python3.10/dist-packages (from aiohttp<4.0.0,>=3.8.3->langchain-community>=0.3.1->langchain_astradb) (2.4.4)\n",
            "Requirement already satisfied: aiosignal>=1.1.2 in /usr/local/lib/python3.10/dist-packages (from aiohttp<4.0.0,>=3.8.3->langchain-community>=0.3.1->langchain_astradb) (1.3.2)\n",
            "Requirement already satisfied: async-timeout<6.0,>=4.0 in /usr/local/lib/python3.10/dist-packages (from aiohttp<4.0.0,>=3.8.3->langchain-community>=0.3.1->langchain_astradb) (4.0.3)\n",
            "Requirement already satisfied: attrs>=17.3.0 in /usr/local/lib/python3.10/dist-packages (from aiohttp<4.0.0,>=3.8.3->langchain-community>=0.3.1->langchain_astradb) (24.3.0)\n",
            "Requirement already satisfied: frozenlist>=1.1.1 in /usr/local/lib/python3.10/dist-packages (from aiohttp<4.0.0,>=3.8.3->langchain-community>=0.3.1->langchain_astradb) (1.5.0)\n",
            "Requirement already satisfied: multidict<7.0,>=4.5 in /usr/local/lib/python3.10/dist-packages (from aiohttp<4.0.0,>=3.8.3->langchain-community>=0.3.1->langchain_astradb) (6.1.0)\n",
            "Requirement already satisfied: propcache>=0.2.0 in /usr/local/lib/python3.10/dist-packages (from aiohttp<4.0.0,>=3.8.3->langchain-community>=0.3.1->langchain_astradb) (0.2.1)\n",
            "Requirement already satisfied: yarl<2.0,>=1.17.0 in /usr/local/lib/python3.10/dist-packages (from aiohttp<4.0.0,>=3.8.3->langchain-community>=0.3.1->langchain_astradb) (1.18.3)\n",
            "Requirement already satisfied: marshmallow<4.0.0,>=3.18.0 in /usr/local/lib/python3.10/dist-packages (from dataclasses-json<0.7,>=0.5.7->langchain-community>=0.3.1->langchain_astradb) (3.23.2)\n",
            "Requirement already satisfied: typing-inspect<1,>=0.4.0 in /usr/local/lib/python3.10/dist-packages (from dataclasses-json<0.7,>=0.5.7->langchain-community>=0.3.1->langchain_astradb) (0.9.0)\n",
            "Requirement already satisfied: packaging in /usr/local/lib/python3.10/dist-packages (from deprecation<2.2.0,>=2.1.0->astrapy<2.0.0,>=1.5.2->langchain_astradb) (24.2)\n",
            "Requirement already satisfied: anyio in /usr/local/lib/python3.10/dist-packages (from httpx<1,>=0.25.2->httpx[http2]<1,>=0.25.2->astrapy<2.0.0,>=1.5.2->langchain_astradb) (3.7.1)\n",
            "Requirement already satisfied: certifi in /usr/local/lib/python3.10/dist-packages (from httpx<1,>=0.25.2->httpx[http2]<1,>=0.25.2->astrapy<2.0.0,>=1.5.2->langchain_astradb) (2024.12.14)\n",
            "Requirement already satisfied: httpcore==1.* in /usr/local/lib/python3.10/dist-packages (from httpx<1,>=0.25.2->httpx[http2]<1,>=0.25.2->astrapy<2.0.0,>=1.5.2->langchain_astradb) (1.0.7)\n",
            "Requirement already satisfied: idna in /usr/local/lib/python3.10/dist-packages (from httpx<1,>=0.25.2->httpx[http2]<1,>=0.25.2->astrapy<2.0.0,>=1.5.2->langchain_astradb) (3.10)\n",
            "Requirement already satisfied: h11<0.15,>=0.13 in /usr/local/lib/python3.10/dist-packages (from httpcore==1.*->httpx<1,>=0.25.2->httpx[http2]<1,>=0.25.2->astrapy<2.0.0,>=1.5.2->langchain_astradb) (0.14.0)\n",
            "Collecting h2<5,>=3 (from httpx[http2]<1,>=0.25.2->astrapy<2.0.0,>=1.5.2->langchain_astradb)\n",
            "  Downloading h2-4.1.0-py3-none-any.whl.metadata (3.6 kB)\n",
            "Requirement already satisfied: langchain-text-splitters<0.4.0,>=0.3.3 in /usr/local/lib/python3.10/dist-packages (from langchain<0.4.0,>=0.3.13->langchain-community>=0.3.1->langchain_astradb) (0.3.3)\n",
            "Requirement already satisfied: pydantic<3.0.0,>=2.7.4 in /usr/local/lib/python3.10/dist-packages (from langchain<0.4.0,>=0.3.13->langchain-community>=0.3.1->langchain_astradb) (2.10.3)\n",
            "Requirement already satisfied: jsonpatch<2.0,>=1.33 in /usr/local/lib/python3.10/dist-packages (from langchain-core<0.4.0,>=0.3.27->langchain-community>=0.3.1->langchain_astradb) (1.33)\n",
            "Requirement already satisfied: typing-extensions>=4.7 in /usr/local/lib/python3.10/dist-packages (from langchain-core<0.4.0,>=0.3.27->langchain-community>=0.3.1->langchain_astradb) (4.12.2)\n",
            "Requirement already satisfied: orjson<4.0.0,>=3.9.14 in /usr/local/lib/python3.10/dist-packages (from langsmith<0.3,>=0.1.125->langchain-community>=0.3.1->langchain_astradb) (3.10.12)\n",
            "Requirement already satisfied: requests-toolbelt<2.0.0,>=1.0.0 in /usr/local/lib/python3.10/dist-packages (from langsmith<0.3,>=0.1.125->langchain-community>=0.3.1->langchain_astradb) (1.0.0)\n",
            "Requirement already satisfied: python-dotenv>=0.21.0 in /usr/local/lib/python3.10/dist-packages (from pydantic-settings<3.0.0,>=2.4.0->langchain-community>=0.3.1->langchain_astradb) (1.0.1)\n",
            "Collecting dnspython<3.0.0,>=1.16.0 (from pymongo>=3->astrapy<2.0.0,>=1.5.2->langchain_astradb)\n",
            "  Downloading dnspython-2.7.0-py3-none-any.whl.metadata (5.8 kB)\n",
            "Requirement already satisfied: charset-normalizer<4,>=2 in /usr/local/lib/python3.10/dist-packages (from requests<3,>=2->langchain-community>=0.3.1->langchain_astradb) (3.4.0)\n",
            "Requirement already satisfied: urllib3<3,>=1.21.1 in /usr/local/lib/python3.10/dist-packages (from requests<3,>=2->langchain-community>=0.3.1->langchain_astradb) (2.2.3)\n",
            "Requirement already satisfied: greenlet!=0.4.17 in /usr/local/lib/python3.10/dist-packages (from SQLAlchemy<3,>=1.4->langchain-community>=0.3.1->langchain_astradb) (3.1.1)\n",
            "Collecting hyperframe<7,>=6.0 (from h2<5,>=3->httpx[http2]<1,>=0.25.2->astrapy<2.0.0,>=1.5.2->langchain_astradb)\n",
            "  Downloading hyperframe-6.0.1-py3-none-any.whl.metadata (2.7 kB)\n",
            "Collecting hpack<5,>=4.0 (from h2<5,>=3->httpx[http2]<1,>=0.25.2->astrapy<2.0.0,>=1.5.2->langchain_astradb)\n",
            "  Downloading hpack-4.0.0-py3-none-any.whl.metadata (2.5 kB)\n",
            "Requirement already satisfied: jsonpointer>=1.9 in /usr/local/lib/python3.10/dist-packages (from jsonpatch<2.0,>=1.33->langchain-core<0.4.0,>=0.3.27->langchain-community>=0.3.1->langchain_astradb) (3.0.0)\n",
            "Requirement already satisfied: annotated-types>=0.6.0 in /usr/local/lib/python3.10/dist-packages (from pydantic<3.0.0,>=2.7.4->langchain<0.4.0,>=0.3.13->langchain-community>=0.3.1->langchain_astradb) (0.7.0)\n",
            "Requirement already satisfied: pydantic-core==2.27.1 in /usr/local/lib/python3.10/dist-packages (from pydantic<3.0.0,>=2.7.4->langchain<0.4.0,>=0.3.13->langchain-community>=0.3.1->langchain_astradb) (2.27.1)\n",
            "Requirement already satisfied: mypy-extensions>=0.3.0 in /usr/local/lib/python3.10/dist-packages (from typing-inspect<1,>=0.4.0->dataclasses-json<0.7,>=0.5.7->langchain-community>=0.3.1->langchain_astradb) (1.0.0)\n",
            "Requirement already satisfied: sniffio>=1.1 in /usr/local/lib/python3.10/dist-packages (from anyio->httpx<1,>=0.25.2->httpx[http2]<1,>=0.25.2->astrapy<2.0.0,>=1.5.2->langchain_astradb) (1.3.1)\n",
            "Requirement already satisfied: exceptiongroup in /usr/local/lib/python3.10/dist-packages (from anyio->httpx<1,>=0.25.2->httpx[http2]<1,>=0.25.2->astrapy<2.0.0,>=1.5.2->langchain_astradb) (1.2.2)\n",
            "Downloading langchain_astradb-0.5.2-py3-none-any.whl (56 kB)\n",
            "\u001b[2K   \u001b[90m━━━━━━━━━━━━━━━━━━━━━━━━━━━━━━━━━━━━━━━━\u001b[0m \u001b[32m56.7/56.7 kB\u001b[0m \u001b[31m5.3 MB/s\u001b[0m eta \u001b[36m0:00:00\u001b[0m\n",
            "\u001b[?25hDownloading astrapy-1.5.2-py3-none-any.whl (177 kB)\n",
            "\u001b[2K   \u001b[90m━━━━━━━━━━━━━━━━━━━━━━━━━━━━━━━━━━━━━━━━\u001b[0m \u001b[32m177.1/177.1 kB\u001b[0m \u001b[31m15.9 MB/s\u001b[0m eta \u001b[36m0:00:00\u001b[0m\n",
            "\u001b[?25hDownloading deprecation-2.1.0-py2.py3-none-any.whl (11 kB)\n",
            "Downloading pymongo-4.10.1-cp310-cp310-manylinux_2_17_x86_64.manylinux2014_x86_64.whl (1.4 MB)\n",
            "\u001b[2K   \u001b[90m━━━━━━━━━━━━━━━━━━━━━━━━━━━━━━━━━━━━━━━━\u001b[0m \u001b[32m1.4/1.4 MB\u001b[0m \u001b[31m38.1 MB/s\u001b[0m eta \u001b[36m0:00:00\u001b[0m\n",
            "\u001b[?25hDownloading uuid6-2024.7.10-py3-none-any.whl (6.4 kB)\n",
            "Downloading dnspython-2.7.0-py3-none-any.whl (313 kB)\n",
            "\u001b[2K   \u001b[90m━━━━━━━━━━━━━━━━━━━━━━━━━━━━━━━━━━━━━━━━\u001b[0m \u001b[32m313.6/313.6 kB\u001b[0m \u001b[31m29.1 MB/s\u001b[0m eta \u001b[36m0:00:00\u001b[0m\n",
            "\u001b[?25hDownloading h2-4.1.0-py3-none-any.whl (57 kB)\n",
            "\u001b[2K   \u001b[90m━━━━━━━━━━━━━━━━━━━━━━━━━━━━━━━━━━━━━━━━\u001b[0m \u001b[32m57.5/57.5 kB\u001b[0m \u001b[31m5.6 MB/s\u001b[0m eta \u001b[36m0:00:00\u001b[0m\n",
            "\u001b[?25hDownloading hpack-4.0.0-py3-none-any.whl (32 kB)\n",
            "Downloading hyperframe-6.0.1-py3-none-any.whl (12 kB)\n",
            "Installing collected packages: uuid6, hyperframe, hpack, dnspython, deprecation, pymongo, h2, astrapy, langchain_astradb\n",
            "Successfully installed astrapy-1.5.2 deprecation-2.1.0 dnspython-2.7.0 h2-4.1.0 hpack-4.0.0 hyperframe-6.0.1 langchain_astradb-0.5.2 pymongo-4.10.1 uuid6-2024.7.10\n"
          ]
        }
      ]
    },
    {
      "cell_type": "markdown",
      "source": [
        "Mistral AI focused on developing open-source large language models (LLMs) for AI applications. It aims to provide powerful, efficient, and transparent AI tools that can be freely used and adapted by developers and businesses.\n",
        "\n",
        "Key Highlights:\n",
        "* Open-Source Models: Mistral AI releases its models under permissive licenses, allowing for customization and integration without restrictions.\n",
        "* High Performance: Their models are designed to offer competitive performance in natural language processing tasks while being efficient in resource usage.\n",
        "\n",
        "Mistral AI is part of the growing movement to democratize AI by providing cutting-edge, open-source alternatives to proprietary models.\n",
        "\n",
        "*Mistral AI Website*: https://mistral.ai/"
      ],
      "metadata": {
        "id": "w3qLEw7iVUB7"
      }
    },
    {
      "cell_type": "code",
      "source": [
        "pip install -qU langchain-mistralai"
      ],
      "metadata": {
        "id": "pbMrvY7O89qL"
      },
      "execution_count": null,
      "outputs": []
    },
    {
      "cell_type": "markdown",
      "source": [
        "# Setup Environmental"
      ],
      "metadata": {
        "id": "0OJgxkhNXFjK"
      }
    },
    {
      "cell_type": "code",
      "source": [
        "from google.colab import userdata\n",
        "import os\n",
        "from langchain_groq import ChatGroq\n",
        "from langchain_community.document_loaders import PyPDFLoader\n",
        "from langchain_astradb import AstraDBVectorStore\n",
        "from langchain_mistralai import MistralAIEmbeddings\n",
        "from langchain_core.prompts import PromptTemplate\n",
        "from langchain_core.output_parsers import StrOutputParser\n",
        "from langchain.schema.runnable import RunnablePassthrough"
      ],
      "metadata": {
        "id": "Wjo9Wnd5XK2o"
      },
      "execution_count": null,
      "outputs": []
    },
    {
      "cell_type": "markdown",
      "source": [
        "**Generate API Keys**:\n",
        "\n",
        "* Groq: https://console.groq.com/keys\n",
        "\n",
        "* Astra DB: https://accounts.datastax.com/session-service/v1/login\n",
        "\n",
        "* Mistral AI: https://console.mistral.ai/api-keys/"
      ],
      "metadata": {
        "id": "zLOAPtBrY7PU"
      }
    },
    {
      "cell_type": "code",
      "source": [
        "os.environ[\"GROQ_API_KEY\"] = userdata.get('GROQ_API_KEY')\n",
        "os.environ[\"ASTRA_DB_APPLICATION_TOKEN\"] = userdata.get('ASTRA_DB_TOKEN')\n",
        "os.environ[\"ASTRA_DB_API_ENDPOINT\"] = userdata.get('ASTRA_ENDPOINT')\n",
        "os.environ[\"ASTRA_DB_KEYSPACE\"] = \"transcripts\"\n",
        "ASTRA_DB_APPLICATION_TOKEN = os.environ[\"ASTRA_DB_APPLICATION_TOKEN\"]\n",
        "ASTRA_DB_API_ENDPOINT = os.environ[\"ASTRA_DB_API_ENDPOINT\"]\n",
        "os.environ[\"MISTRAL_API_KEY\"] = userdata.get('assign_key')"
      ],
      "metadata": {
        "id": "Lmu-hP6M1tiJ"
      },
      "execution_count": null,
      "outputs": []
    },
    {
      "cell_type": "markdown",
      "source": [
        "# RAG Code"
      ],
      "metadata": {
        "id": "ztOAGaYyYku1"
      }
    },
    {
      "cell_type": "markdown",
      "source": [
        "**Dataset:**\n",
        "\n",
        "Bollywood Movie Script: https://www.filmcompanion.in/companion-zone/download-the-script-of-3-idiots"
      ],
      "metadata": {
        "id": "g0cAg65kY1Y5"
      }
    },
    {
      "cell_type": "code",
      "source": [
        "file_path = (\"/content/3_idiots_SCRIPT.pdf\")"
      ],
      "metadata": {
        "id": "SDsUX0Go4O_z"
      },
      "execution_count": null,
      "outputs": []
    },
    {
      "cell_type": "code",
      "source": [
        "loader = PyPDFLoader(file_path)\n",
        "pages = []\n",
        "async for page in loader.alazy_load():\n",
        "    pages.append(page)"
      ],
      "metadata": {
        "id": "bu_LqIDB4VLF"
      },
      "execution_count": null,
      "outputs": []
    },
    {
      "cell_type": "code",
      "source": [
        "pages[8]"
      ],
      "metadata": {
        "colab": {
          "base_uri": "https://localhost:8080/"
        },
        "id": "vLH1W3pk4XSA",
        "outputId": "9cf37dfd-7381-44bf-cc0f-41a19789d7bf"
      },
      "execution_count": null,
      "outputs": [
        {
          "output_type": "execute_result",
          "data": {
            "text/plain": [
              "Document(metadata={'source': '/content/3_idiots_SCRIPT.pdf', 'page': 8}, page_content='INTRODUCTION\\nINTRODUCTION\\n03_Introduction.indd   903_Introduction.indd   9 5/31/2010   1:47:14 AM5/31/2010   1:47:14 AM')"
            ]
          },
          "metadata": {},
          "execution_count": 17
        }
      ]
    },
    {
      "cell_type": "code",
      "source": [
        "llm = ChatGroq(model=\"llama3-8b-8192\")\n",
        "llm"
      ],
      "metadata": {
        "colab": {
          "base_uri": "https://localhost:8080/"
        },
        "id": "89cAHO2WYRrZ",
        "outputId": "cb820807-57a3-4b74-9d3a-8e9b365092ed"
      },
      "execution_count": null,
      "outputs": [
        {
          "output_type": "execute_result",
          "data": {
            "text/plain": [
              "ChatGroq(client=<groq.resources.chat.completions.Completions object at 0x79d0b47d8670>, async_client=<groq.resources.chat.completions.AsyncCompletions object at 0x79d0b47d9a20>, model_name='llama3-8b-8192', model_kwargs={}, groq_api_key=SecretStr('**********'))"
            ]
          },
          "metadata": {},
          "execution_count": 49
        }
      ]
    },
    {
      "cell_type": "code",
      "source": [
        "embedding_model = MistralAIEmbeddings(model=\"mistral-embed\")\n",
        "embedding_model"
      ],
      "metadata": {
        "colab": {
          "base_uri": "https://localhost:8080/"
        },
        "id": "FcZaxBDz9FPn",
        "outputId": "b2418a23-3325-4e91-967a-49ac7307790d"
      },
      "execution_count": null,
      "outputs": [
        {
          "output_type": "stream",
          "name": "stderr",
          "text": [
            "/usr/local/lib/python3.10/dist-packages/langchain_mistralai/embeddings.py:180: UserWarning: Could not download mistral tokenizer from Huggingface for calculating batch sizes. Set a Huggingface token via the HF_TOKEN environment variable to download the real tokenizer. Falling back to a dummy tokenizer that uses `len()`.\n",
            "  warnings.warn(\n"
          ]
        },
        {
          "output_type": "execute_result",
          "data": {
            "text/plain": [
              "MistralAIEmbeddings(client=<httpx.Client object at 0x79d0b47d87c0>, async_client=<httpx.AsyncClient object at 0x79d0b47daa70>, mistral_api_key=SecretStr('**********'), endpoint='https://api.mistral.ai/v1/', max_retries=5, timeout=120, wait_time=30, max_concurrent_requests=64, tokenizer=<langchain_mistralai.embeddings.DummyTokenizer object at 0x79d0a3ec87f0>, model='mistral-embed')"
            ]
          },
          "metadata": {},
          "execution_count": 50
        }
      ]
    },
    {
      "cell_type": "code",
      "source": [
        "vstore = AstraDBVectorStore(\n",
        "    collection_name=\"transcriptStorage\",\n",
        "    embedding=embedding_model,\n",
        "    token=ASTRA_DB_APPLICATION_TOKEN,\n",
        "    api_endpoint=ASTRA_DB_API_ENDPOINT,\n",
        "    namespace='transcripts',\n",
        ")"
      ],
      "metadata": {
        "id": "vfJleBdX8ZZh"
      },
      "execution_count": null,
      "outputs": []
    },
    {
      "cell_type": "code",
      "source": [
        "len(pages)"
      ],
      "metadata": {
        "colab": {
          "base_uri": "https://localhost:8080/"
        },
        "id": "1T1aD3WLZVka",
        "outputId": "ec90ab05-d8e2-4ef3-f098-fbdac35b425b"
      },
      "execution_count": null,
      "outputs": [
        {
          "output_type": "execute_result",
          "data": {
            "text/plain": [
              "426"
            ]
          },
          "metadata": {},
          "execution_count": 35
        }
      ]
    },
    {
      "cell_type": "code",
      "source": [
        "inserted_ids = vstore.add_documents(pages[:30])\n",
        "print(f\"Inserted {len(inserted_ids)} documents.\")"
      ],
      "metadata": {
        "colab": {
          "base_uri": "https://localhost:8080/"
        },
        "id": "lH5isobN-aGN",
        "outputId": "22f256f8-3066-4d56-fc78-e6831ddd4ee4"
      },
      "execution_count": null,
      "outputs": [
        {
          "output_type": "stream",
          "name": "stdout",
          "text": [
            "Inserted 30 documents.\n"
          ]
        }
      ]
    },
    {
      "cell_type": "code",
      "source": [
        "inserted_ids = vstore.add_documents(pages[31:50])\n",
        "print(f\"Inserted {len(inserted_ids)} documents.\")"
      ],
      "metadata": {
        "colab": {
          "base_uri": "https://localhost:8080/"
        },
        "id": "TtpEVZIf-aXN",
        "outputId": "d61a6ff8-f3d5-44d1-ab14-cef34d11d7c7"
      },
      "execution_count": null,
      "outputs": [
        {
          "output_type": "stream",
          "name": "stdout",
          "text": [
            "Inserted 19 documents.\n"
          ]
        }
      ]
    },
    {
      "cell_type": "code",
      "source": [
        "inserted_ids = vstore.add_documents(pages[51:70])\n",
        "print(f\"Inserted {len(inserted_ids)} documents.\")"
      ],
      "metadata": {
        "colab": {
          "base_uri": "https://localhost:8080/"
        },
        "id": "7UV0jkPDaznb",
        "outputId": "3ed6f300-634a-499b-d7b3-33a5b831d11f"
      },
      "execution_count": null,
      "outputs": [
        {
          "output_type": "stream",
          "name": "stdout",
          "text": [
            "Inserted 19 documents.\n"
          ]
        }
      ]
    },
    {
      "cell_type": "code",
      "source": [
        "results = vstore.similarity_search(\"How does the motor starts\", k=3)\n",
        "for res in results:\n",
        "    print(f\"* {res.page_content} [{res.metadata}]\")"
      ],
      "metadata": {
        "colab": {
          "base_uri": "https://localhost:8080/"
        },
        "collapsed": true,
        "id": "OFF4DHP3bGeV",
        "outputId": "5896915a-5c43-48aa-f38a-a9c28b3bc32e"
      },
      "execution_count": null,
      "outputs": [
        {
          "output_type": "stream",
          "name": "stdout",
          "text": [
            "* 56\n",
            "PROFESSOR POTDAR \n",
            "What’re you smiling for?\n",
            "RANCHO\n",
            "Sir, to study engineering was a childhood \n",
            "dream. I’m so happy to be here ﬁ nally.\n",
            "PROFESSOR POTDAR\n",
            "No need to be so happy. \n",
            "PROFESSOR POTDAR\n",
            "Deﬁ ne a machine.\n",
            "RANCHO \n",
            "Anything that simpliﬁ  es work, or saves \n",
            "time, is a machine. \n",
            "RANCHO \n",
            "It’s a warm day, press a button, get a blast \n",
            "of air. The fan ... a machine!\n",
            "izksQslj iksíkj \n",
            "vki eqLdqjk D;ksaa jgs gSa\\ ugha\n",
            "jSUpks\n",
            ",sDpoyh lj] cpiu ls pkgrk Fkk fd \n",
            "bUt+hfu;fjax dkWyst esa i<awA vkt ;gk¡ cSBk \n",
            "gw¡A cgqr et+k vk jgk gS ljA\n",
            "izksQslj iksíkj\n",
            "T;knk et+k ysus dh t:jr ughaa gSaA \n",
            "Taken aback, Rancho stops smiling.\n",
            "izksQslj iksíkj\n",
            "cksyks] e'khu dk M~;fQus'ku cksyksA\n",
            "RANCHO \n",
            "A machine is anything that reduces human \n",
            "effort.\n",
            "PROFESSOR POTDAR \n",
            "Will you please elaborate?\n",
            "Rancho stands up and starts to explain.\n",
            "jSUpks\n",
            "lj] gj oks pht+ tks bUlku dk dke vklku \n",
            "djs ;k oD+r cpk;s, oks e'khu gS] ljA\n",
            "Chatur frowns at Rancho in disdain.\n",
            "jSUpks \n",
            "xjeh yx jgh gSa\\ cVu nck;k] gok pkyw && \n",
            "QSu --- e'khu gS] ljA\n",
            "Rancho launches into examples to \n",
            "illustrate his point with gusto and \n",
            "enthusiasm. [{'source': '/content/3_idiots_SCRIPT.pdf', 'page': 55}]\n",
            "* 58\n",
            "PROFESSOR\n",
            "Yes?\n",
            "PROFESSOR POTDAR\n",
            "Wonderful. Perfect. Please sit down.\n",
            "RANCHO \n",
            "But Sir, I said the same thing, in simple \n",
            "language.\n",
            "PROFESSOR POTDAR \n",
            "If you prefer simple language, join an Arts \n",
            "and Commerce college.\n",
            "Chatur raises his hand.\n",
            "izksQslj\n",
            ";sl\\\n",
            "CHATUR \n",
            "Sir, machines are any combination of bodies \n",
            "so connected that their relative motions \n",
            "are constrained and by which means, \n",
            "force and motion may be transmitted \n",
            "and modiﬁ ed as a screw and its nut, or \n",
            "a lever arranged to turn about a fulcrum \n",
            "or a pulley about its pivot, etc., especially, \n",
            "a construction, more or less complex \n",
            "consisting of a combination of moving \n",
            "parts, or simple mechanical elements, as \n",
            "wheels, levers, cams, etc.\n",
            "Professor Potdar looks at Chatur with \n",
            "admiration and approval.\n",
            "izksQslj iksíkj\n",
            "D;k ckr gS\\ ijQSDV! Iyht+ flV Mkmu\n",
            "Chatur sits down and looks around \n",
            "triumphantly.\n",
            "CHATUR\n",
            "Thank you ... Thank you.\n",
            "Rancho is puzzled.\n",
            "jSUpks\n",
            "ysfdu lj --- eSaus Hkh rks ogh crk;k ljA \n",
            "vklku Hkk”\"kk esaA\n",
            "izksQslj iksíkj\n",
            "(derisively)\n",
            "vkidks vxj flEiy Hkk”\"kk ilan gks rks vkV~Zl \n",
            ",.M dkselZ dkWyst tkWbu dhft;sA [{'source': '/content/3_idiots_SCRIPT.pdf', 'page': 57}]\n",
            "* 50\n",
            "attentively, next to a pile of cardboard \n",
            "cartons. \n",
            "MkbjsDVj\n",
            "dks;y viuk ?kkaslyk dHkh ughaa cukrhA oks \n",
            "vius vaMs nwljksa ds ?kkaslys esa j[krh gSA \n",
            "Rancho, Farhan and Raju make a rushed, \n",
            "belated entry, looking like they’ve just \n",
            "woken up. The Director turns around to \n",
            "face the students. \n",
            "MkbjsDVj\n",
            "vkSj tc mlds cPps bl nqfu;k esa vkrs gaS \n",
            "rks lcls igys D;k djrs gSa\\\n",
            "A beat.\n",
            "MkbjsDVj\n",
            "oks cPps nwljs vaMks dks /kDdk ekj ds ?kksalys \n",
            "ls fxjk nsrs gSaA\n",
            "He holds up an egg from the nest and \n",
            "drops it. The egg splatters on the ground. \n",
            "The students wince at the brutal action.\n",
            "DIRECTOR\n",
            "Competition over. Their life begins with \n",
            "murder. That’s nature. Compete or die.\n",
            "While everyone listens transﬁ xed, Rancho \n",
            "starts getting restless. The Director hands \n",
            "over the nest to Govind.\n",
            "DIRECTOR\n",
            "You also are like the koel birds.\n",
            "With a sudden movement, he turns over \n",
            "a carton. ICE application forms spill out \n",
            "onto the courtyard ﬂ oor. \n",
            "DIRECTOR\n",
            "A koel bird never makes her own nest. \n",
            "She lays her eggs in other nests. \n",
            "DIRECTOR \n",
            "And when they hatch, what do they do? \n",
            "DIRECTOR \n",
            "They push the other eggs out of the \n",
            "nest.  [{'source': '/content/3_idiots_SCRIPT.pdf', 'page': 49}]\n"
          ]
        }
      ]
    },
    {
      "cell_type": "code",
      "source": [
        "retriever = vstore.as_retriever(search_kwargs={\"k\": 5})"
      ],
      "metadata": {
        "id": "08RMizOH0i04"
      },
      "execution_count": null,
      "outputs": []
    },
    {
      "cell_type": "code",
      "source": [
        "retriever"
      ],
      "metadata": {
        "colab": {
          "base_uri": "https://localhost:8080/"
        },
        "id": "hJ9bvs12bGmf",
        "outputId": "06804a8b-106a-44da-a320-73c9ab407c16"
      },
      "execution_count": null,
      "outputs": [
        {
          "output_type": "execute_result",
          "data": {
            "text/plain": [
              "VectorStoreRetriever(tags=['AstraDBVectorStore', 'MistralAIEmbeddings'], vectorstore=<langchain_astradb.vectorstores.AstraDBVectorStore object at 0x79d0b47d56f0>, search_kwargs={'k': 5})"
            ]
          },
          "metadata": {},
          "execution_count": 20
        }
      ]
    },
    {
      "cell_type": "code",
      "source": [
        "template = \"\"\"\n",
        "You are an expert in answering questions based on the provided movie script {context}.\n",
        "The script contains the following:\n",
        "1. Character names and their dialogues.\n",
        "2. Scene descriptions.\n",
        "3. Hindi translations (which you must skip and focus only on the English transcript).\n",
        "4. Songs (which you can ignore unless explicitly asked about them).\n",
        "\n",
        "Your task is to:\n",
        "- Provide concise and accurate answers to user questions based on the entire movie script.\n",
        "- Skip irrelevant details like Hindi translations unless specified otherwise.\n",
        "\n",
        "Only answer with respect to script. And do not mention other things like I think, The answer to this question is and etc.\n",
        "\n",
        "Input:\n",
        "- Question from the user: {input}\n",
        "\n",
        "Output:\n",
        "- Your response:\n",
        "\"\"\"\n",
        "\n",
        "prompt_for_movie = PromptTemplate(\n",
        "    template=template,\n",
        "    input_variables=[\"context\", \"input\"]\n",
        ")"
      ],
      "metadata": {
        "id": "ydO4D4zD0sws"
      },
      "execution_count": null,
      "outputs": []
    },
    {
      "cell_type": "code",
      "source": [
        "rag_chain = (\n",
        "    {\"context\": retriever, \"input\": RunnablePassthrough()}\n",
        "    | prompt_for_movie\n",
        "    | llm\n",
        "    | StrOutputParser()\n",
        ")"
      ],
      "metadata": {
        "id": "pE3IYxz1P0-S"
      },
      "execution_count": null,
      "outputs": []
    },
    {
      "cell_type": "code",
      "source": [
        "rag_chain"
      ],
      "metadata": {
        "colab": {
          "base_uri": "https://localhost:8080/"
        },
        "id": "hdPySTEGTg6X",
        "outputId": "718e119c-5bdf-4404-e94d-e6c4a2549a12"
      },
      "execution_count": null,
      "outputs": [
        {
          "output_type": "execute_result",
          "data": {
            "text/plain": [
              "{\n",
              "  context: VectorStoreRetriever(tags=['AstraDBVectorStore', 'MistralAIEmbeddings'], vectorstore=<langchain_astradb.vectorstores.AstraDBVectorStore object at 0x79d0b47d56f0>, search_kwargs={'k': 5}),\n",
              "  input: RunnablePassthrough()\n",
              "}\n",
              "| PromptTemplate(input_variables=['context', 'input'], input_types={}, partial_variables={}, template='\\nYou are an expert in answering questions based on the provided movie script {context}.\\nThe script contains the following:\\n1. Character names and their dialogues.\\n2. Scene descriptions.\\n3. Hindi translations (which you must skip and focus only on the English transcript).\\n4. Songs (which you can ignore unless explicitly asked about them).\\n\\nYour task is to:\\n- Provide concise and accurate answers to user questions based on the entire movie script.\\n- Skip irrelevant details like Hindi translations unless specified otherwise.\\n\\nOnly answer with respect to script. And do not mention other things like I think, The answer to this question is and etc.\\n\\nInput:\\n- Question from the user: {input}\\n\\nOutput:\\n- Your response:\\n')\n",
              "| ChatGroq(client=<groq.resources.chat.completions.Completions object at 0x79d0b4cb6530>, async_client=<groq.resources.chat.completions.AsyncCompletions object at 0x79d0b4cb52d0>, model_name='llama3-8b-8192', model_kwargs={}, groq_api_key=SecretStr('**********'))\n",
              "| StrOutputParser()"
            ]
          },
          "metadata": {},
          "execution_count": 48
        }
      ]
    },
    {
      "cell_type": "code",
      "source": [
        "out=rag_chain.invoke(\"Who is rancho\")"
      ],
      "metadata": {
        "id": "VQGj2RM4P-E0"
      },
      "execution_count": null,
      "outputs": []
    },
    {
      "cell_type": "code",
      "source": [
        "out"
      ],
      "metadata": {
        "colab": {
          "base_uri": "https://localhost:8080/",
          "height": 35
        },
        "id": "vMDk_CXVQBrO",
        "outputId": "2e93d3ae-8ca1-4614-996e-9241d0f5fbbd"
      },
      "execution_count": null,
      "outputs": [
        {
          "output_type": "execute_result",
          "data": {
            "text/plain": [
              "'Rancho is the main character in the movie.'"
            ],
            "application/vnd.google.colaboratory.intrinsic+json": {
              "type": "string"
            }
          },
          "metadata": {},
          "execution_count": 35
        }
      ]
    },
    {
      "cell_type": "code",
      "source": [
        "out=rag_chain.invoke(\"Can name any song in the movie\")"
      ],
      "metadata": {
        "id": "xndIg9cKQILS"
      },
      "execution_count": null,
      "outputs": []
    },
    {
      "cell_type": "code",
      "source": [
        "out"
      ],
      "metadata": {
        "colab": {
          "base_uri": "https://localhost:8080/",
          "height": 35
        },
        "id": "X0j8fZoWQMIl",
        "outputId": "eaa4d080-103c-41ba-85fe-350280b40277"
      },
      "execution_count": null,
      "outputs": [
        {
          "output_type": "execute_result",
          "data": {
            "text/plain": [
              "'Give me some sunshine and Aal izz Well are the two songs mentioned in the script.'"
            ],
            "application/vnd.google.colaboratory.intrinsic+json": {
              "type": "string"
            }
          },
          "metadata": {},
          "execution_count": 39
        }
      ]
    },
    {
      "cell_type": "code",
      "source": [
        "out=rag_chain.invoke(\"what is the movie name\")\n",
        "out"
      ],
      "metadata": {
        "colab": {
          "base_uri": "https://localhost:8080/",
          "height": 35
        },
        "id": "AHPYZetwQmcW",
        "outputId": "2b035fbf-bcdd-44ef-eeb5-f80ee46e184b"
      },
      "execution_count": null,
      "outputs": [
        {
          "output_type": "execute_result",
          "data": {
            "text/plain": [
              "'The movie name is 3 Idiots.'"
            ],
            "application/vnd.google.colaboratory.intrinsic+json": {
              "type": "string"
            }
          },
          "metadata": {},
          "execution_count": 41
        }
      ]
    },
    {
      "cell_type": "code",
      "source": [
        "out=rag_chain.invoke(\"who are these 3 idiots refering in the movie\")\n",
        "out"
      ],
      "metadata": {
        "colab": {
          "base_uri": "https://localhost:8080/",
          "height": 35
        },
        "id": "uPfRVJ7iQtja",
        "outputId": "5ea08b2c-b8d7-4aa7-862b-c5e65c81ce30"
      },
      "execution_count": null,
      "outputs": [
        {
          "output_type": "execute_result",
          "data": {
            "text/plain": [
              "'The term \"3 Idiots\" refers to the three main characters of the movie, Farhan, Raju, and Rancho.'"
            ],
            "application/vnd.google.colaboratory.intrinsic+json": {
              "type": "string"
            }
          },
          "metadata": {},
          "execution_count": 42
        }
      ]
    },
    {
      "cell_type": "code",
      "source": [
        "out=rag_chain.invoke(\"explain the all is well song in short\")\n",
        "out"
      ],
      "metadata": {
        "colab": {
          "base_uri": "https://localhost:8080/",
          "height": 87
        },
        "id": "BxTfyyYhQ8WJ",
        "outputId": "933b278a-6ee7-44b8-db3e-19d2058c8e14"
      },
      "execution_count": null,
      "outputs": [
        {
          "output_type": "execute_result",
          "data": {
            "text/plain": [
              "'The song \"Aal Izz Well\" is a mantra that Rancho teaches to his friends, Farhan and Raju. It\\'s a way to trick their hearts into believing that everything is fine, even when it\\'s not. Rancho explains that when our heart is scared, we need to con it into believing that everything is well, and this mantra helps to do just that.'"
            ],
            "application/vnd.google.colaboratory.intrinsic+json": {
              "type": "string"
            }
          },
          "metadata": {},
          "execution_count": 45
        }
      ]
    }
  ]
}